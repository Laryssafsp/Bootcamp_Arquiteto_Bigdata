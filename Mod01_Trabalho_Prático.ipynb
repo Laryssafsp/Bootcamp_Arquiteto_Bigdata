{
  "cells": [
    {
      "cell_type": "markdown",
      "id": "2e9cbe29",
      "metadata": {
        "id": "2e9cbe29"
      },
      "source": [
        "# Módulo 1: Fundamentos de Big Data"
      ]
    },
    {
      "cell_type": "markdown",
      "id": "3fb4083b",
      "metadata": {
        "id": "3fb4083b"
      },
      "source": [
        "## Instruções para correção de dados ausentes\n",
        "1. Média arredondada para 2 casas decimais para as variáveis do tipo numéricas.\n",
        "2. Moda para as variáveis categóricas."
      ]
    },
    {
      "cell_type": "code",
      "execution_count": null,
      "id": "414d345e",
      "metadata": {
        "id": "414d345e"
      },
      "outputs": [],
      "source": [
        "import pandas as pd\n",
        "import numpy as np\n",
        "import matplotlib.pyplot as plt\n",
        "import seaborn as sns\n",
        "import plotly.express as px # biblioteca para criar gráficos dinâmicos\n",
        "from sklearn.linear_model import LinearRegression\n",
        "from sklearn.model_selection import train_test_split"
      ]
    },
    {
      "cell_type": "code",
      "execution_count": null,
      "id": "a9566504",
      "metadata": {
        "id": "a9566504",
        "outputId": "2a725344-0c4d-4308-ef3c-e07846ab41ec"
      },
      "outputs": [
        {
          "data": {
            "text/html": [
              "<div>\n",
              "<style scoped>\n",
              "    .dataframe tbody tr th:only-of-type {\n",
              "        vertical-align: middle;\n",
              "    }\n",
              "\n",
              "    .dataframe tbody tr th {\n",
              "        vertical-align: top;\n",
              "    }\n",
              "\n",
              "    .dataframe thead th {\n",
              "        text-align: right;\n",
              "    }\n",
              "</style>\n",
              "<table border=\"1\" class=\"dataframe\">\n",
              "  <thead>\n",
              "    <tr style=\"text-align: right;\">\n",
              "      <th></th>\n",
              "      <th>id_cliente</th>\n",
              "      <th>peso</th>\n",
              "      <th>colesterol</th>\n",
              "      <th>genero</th>\n",
              "    </tr>\n",
              "  </thead>\n",
              "  <tbody>\n",
              "    <tr>\n",
              "      <th>0</th>\n",
              "      <td>1</td>\n",
              "      <td>102.0</td>\n",
              "      <td>111</td>\n",
              "      <td>Masculino</td>\n",
              "    </tr>\n",
              "    <tr>\n",
              "      <th>1</th>\n",
              "      <td>2</td>\n",
              "      <td>115.0</td>\n",
              "      <td>135</td>\n",
              "      <td>Masculino</td>\n",
              "    </tr>\n",
              "    <tr>\n",
              "      <th>2</th>\n",
              "      <td>3</td>\n",
              "      <td>115.0</td>\n",
              "      <td>136</td>\n",
              "      <td>Masculino</td>\n",
              "    </tr>\n",
              "    <tr>\n",
              "      <th>3</th>\n",
              "      <td>4</td>\n",
              "      <td>140.0</td>\n",
              "      <td>167</td>\n",
              "      <td>Feminino</td>\n",
              "    </tr>\n",
              "    <tr>\n",
              "      <th>4</th>\n",
              "      <td>5</td>\n",
              "      <td>130.0</td>\n",
              "      <td>158</td>\n",
              "      <td>Masculino</td>\n",
              "    </tr>\n",
              "    <tr>\n",
              "      <th>...</th>\n",
              "      <td>...</td>\n",
              "      <td>...</td>\n",
              "      <td>...</td>\n",
              "      <td>...</td>\n",
              "    </tr>\n",
              "    <tr>\n",
              "      <th>585</th>\n",
              "      <td>363</td>\n",
              "      <td>172.0</td>\n",
              "      <td>211</td>\n",
              "      <td>Masculino</td>\n",
              "    </tr>\n",
              "    <tr>\n",
              "      <th>586</th>\n",
              "      <td>364</td>\n",
              "      <td>157.0</td>\n",
              "      <td>194</td>\n",
              "      <td>Feminino</td>\n",
              "    </tr>\n",
              "    <tr>\n",
              "      <th>587</th>\n",
              "      <td>365</td>\n",
              "      <td>137.0</td>\n",
              "      <td>169</td>\n",
              "      <td>Feminino</td>\n",
              "    </tr>\n",
              "    <tr>\n",
              "      <th>588</th>\n",
              "      <td>366</td>\n",
              "      <td>158.0</td>\n",
              "      <td>189</td>\n",
              "      <td>Feminino</td>\n",
              "    </tr>\n",
              "    <tr>\n",
              "      <th>589</th>\n",
              "      <td>367</td>\n",
              "      <td>110.0</td>\n",
              "      <td>128</td>\n",
              "      <td>Feminino</td>\n",
              "    </tr>\n",
              "  </tbody>\n",
              "</table>\n",
              "<p>590 rows × 4 columns</p>\n",
              "</div>"
            ],
            "text/plain": [
              "     id_cliente   peso  colesterol     genero\n",
              "0             1  102.0         111  Masculino\n",
              "1             2  115.0         135  Masculino\n",
              "2             3  115.0         136  Masculino\n",
              "3             4  140.0         167   Feminino\n",
              "4             5  130.0         158  Masculino\n",
              "..          ...    ...         ...        ...\n",
              "585         363  172.0         211  Masculino\n",
              "586         364  157.0         194   Feminino\n",
              "587         365  137.0         169   Feminino\n",
              "588         366  158.0         189   Feminino\n",
              "589         367  110.0         128   Feminino\n",
              "\n",
              "[590 rows x 4 columns]"
            ]
          },
          "execution_count": 112,
          "metadata": {},
          "output_type": "execute_result"
        }
      ],
      "source": [
        "caminho_arquivo = '/content/dados_clinicos.csv'\n",
        "dados_clinicos = pd.DataFrame(pd.read_csv(caminho_arquivo))\n",
        "dados_clinicos"
      ]
    },
    {
      "cell_type": "code",
      "execution_count": null,
      "id": "53e26e3a",
      "metadata": {
        "id": "53e26e3a",
        "outputId": "4ded82b9-e317-4999-9f0e-61d14199474e"
      },
      "outputs": [
        {
          "name": "stdout",
          "output_type": "stream",
          "text": [
            "Tamanho:  (590, 4)\n",
            "\n",
            "Duplicados:  43\n",
            "\n",
            "Linhas Duplicados:      id_cliente   peso  colesterol     genero\n",
            "349         350  134.0         163  Masculino\n",
            "572         350  134.0         163  Masculino\n",
            "573         351  199.0         232  Masculino\n",
            "350         351  199.0         232  Masculino\n",
            "351         352  115.0         131  Masculino\n",
            "..          ...    ...         ...        ...\n",
            "451         452  117.0         138   Feminino\n",
            "570         453  145.0         176   Feminino\n",
            "452         453  145.0         176   Feminino\n",
            "571         454  106.0         115  Masculino\n",
            "453         454  106.0         115  Masculino\n",
            "\n",
            "[86 rows x 4 columns]\n",
            "\n",
            "Dados Ausentes:\n",
            "peso          5\n",
            "id_cliente    0\n",
            "colesterol    0\n",
            "genero        0\n",
            "dtype: int64\n",
            "\n",
            "Linhas com Ausentes:\n",
            "     id_cliente  peso  colesterol     genero\n",
            "63           64   NaN         211  Masculino\n",
            "101         102   NaN         230   Feminino\n",
            "146         147   NaN         171  Masculino\n",
            "195         196   NaN         143   Feminino\n",
            "215         216   NaN         180  Masculino\n",
            "\n",
            "Tipos de Dados:  id_cliente      int64\n",
            "peso          float64\n",
            "colesterol      int64\n",
            "genero         object\n",
            "dtype: object\n"
          ]
        }
      ],
      "source": [
        "Tamanho = dados_clinicos.shape\n",
        "print(f\"Tamanho:  {Tamanho}\\n\")\n",
        "\n",
        "# Encontrar e exibir as linhas duplicadas\n",
        "Duplicados = dados_clinicos.duplicated().sum()\n",
        "print(f\"Duplicados:  {Duplicados}\\n\")\n",
        "\n",
        "# Identifique as linhas duplicadas\n",
        "duplicadas = dados_clinicos[dados_clinicos.duplicated(keep=False)].sort_values(by='id_cliente')\n",
        "print(f\"Linhas Duplicados: {duplicadas}\\n\")\n",
        "\n",
        "# # Encontrar e exibir as linhas duplicadas com base nas colunas 'coluna1' e 'coluna2'\n",
        "# linhas_duplicadas = dados_clinicos[dados_clinicos.duplicated(subset=['coluna1', 'coluna2'])]\n",
        "# print(linhas_duplicadas)\n",
        "\n",
        "\n",
        "# Encontrar e exibir as linhas com valores nulos no DataFrame\n",
        "dados_ausentes = dados_clinicos.isnull().sum().sort_values(ascending=False)\n",
        "print(f\"Dados Ausentes:\\n{dados_ausentes}\\n\")\n",
        "\n",
        "linhas_com_nulos = dados_clinicos[dados_clinicos.isnull().any(axis=1)]\n",
        "print(f\"Linhas com Ausentes:\\n{linhas_com_nulos}\\n\")\n",
        "\n",
        "\n",
        "Tipos= dados_clinicos.dtypes\n",
        "print(f\"Tipos de Dados:  {Tipos}\")\n"
      ]
    },
    {
      "cell_type": "code",
      "execution_count": null,
      "id": "60c2acf8",
      "metadata": {
        "id": "60c2acf8",
        "outputId": "bd58fb6b-b40b-4b6e-8bd4-d5c09fbee284"
      },
      "outputs": [
        {
          "name": "stdout",
          "output_type": "stream",
          "text": [
            "Média: 143.16 \n",
            "\n",
            "     id_cliente    peso  colesterol     genero\n",
            "63           64  143.16         211  Masculino\n",
            "101         102  143.16         230   Feminino\n",
            "146         147  143.16         171  Masculino\n",
            "195         196  143.16         143   Feminino\n",
            "215         216  143.16         180  Masculino\n"
          ]
        }
      ],
      "source": [
        "# Calcular a média dos valores numéricos e arredondar para duas casas decimais\n",
        "media_arredondada = dados_clinicos['peso'].mean().round(2)\n",
        "print(f'Média: {media_arredondada} \\n')\n",
        "\n",
        "# Preencher os valores nulos na coluna 'peso' com a média arredondada\n",
        "dados_clinicos['peso'].fillna(media_arredondada, inplace=True)\n",
        "\n",
        "# Verificar se os valores nulos foram substituídos\n",
        "# Filtrar o DataFrame pelos IDs especificados\n",
        "dados_filtrados = dados_clinicos[dados_clinicos['id_cliente'].isin([64, 102, 147, 196, 216])]\n",
        "print(dados_filtrados)\n"
      ]
    },
    {
      "cell_type": "code",
      "execution_count": null,
      "id": "bc4d2d33",
      "metadata": {
        "id": "bc4d2d33",
        "outputId": "33c969fc-ca6d-473b-8c9e-c3281963a849"
      },
      "outputs": [
        {
          "name": "stdout",
          "output_type": "stream",
          "text": [
            "Duplicados:  0\n",
            "\n"
          ]
        }
      ],
      "source": [
        "#remover duplicados\n",
        "dados_clinicos = dados_clinicos.drop_duplicates()\n",
        "\n",
        "# Remover duplicados com base na coluna 'A'\n",
        "#df_sem_duplicados = df.drop_duplicates(subset=['A'])\n",
        "\n",
        "# Encontrar e exibir as linhas duplicadas\n",
        "Duplicados = dados_clinicos.duplicated().sum()\n",
        "print(f\"Duplicados:  {Duplicados}\\n\")"
      ]
    },
    {
      "cell_type": "code",
      "execution_count": null,
      "id": "01b4939b",
      "metadata": {
        "id": "01b4939b",
        "outputId": "3c1e9c5f-52b0-4d03-8ce7-de28d480b9b9"
      },
      "outputs": [
        {
          "data": {
            "text/html": [
              "<div>\n",
              "<style scoped>\n",
              "    .dataframe tbody tr th:only-of-type {\n",
              "        vertical-align: middle;\n",
              "    }\n",
              "\n",
              "    .dataframe tbody tr th {\n",
              "        vertical-align: top;\n",
              "    }\n",
              "\n",
              "    .dataframe thead th {\n",
              "        text-align: right;\n",
              "    }\n",
              "</style>\n",
              "<table border=\"1\" class=\"dataframe\">\n",
              "  <thead>\n",
              "    <tr style=\"text-align: right;\">\n",
              "      <th></th>\n",
              "      <th>id_cliente</th>\n",
              "      <th>peso</th>\n",
              "      <th>colesterol</th>\n",
              "    </tr>\n",
              "  </thead>\n",
              "  <tbody>\n",
              "    <tr>\n",
              "      <th>count</th>\n",
              "      <td>547.00000</td>\n",
              "      <td>547.000000</td>\n",
              "      <td>547.000000</td>\n",
              "    </tr>\n",
              "    <tr>\n",
              "      <th>mean</th>\n",
              "      <td>274.00000</td>\n",
              "      <td>143.438391</td>\n",
              "      <td>170.433272</td>\n",
              "    </tr>\n",
              "    <tr>\n",
              "      <th>std</th>\n",
              "      <td>158.04957</td>\n",
              "      <td>30.695360</td>\n",
              "      <td>39.147189</td>\n",
              "    </tr>\n",
              "    <tr>\n",
              "      <th>min</th>\n",
              "      <td>1.00000</td>\n",
              "      <td>95.000000</td>\n",
              "      <td>102.000000</td>\n",
              "    </tr>\n",
              "    <tr>\n",
              "      <th>25%</th>\n",
              "      <td>137.50000</td>\n",
              "      <td>116.000000</td>\n",
              "      <td>136.000000</td>\n",
              "    </tr>\n",
              "    <tr>\n",
              "      <th>50%</th>\n",
              "      <td>274.00000</td>\n",
              "      <td>140.000000</td>\n",
              "      <td>169.000000</td>\n",
              "    </tr>\n",
              "    <tr>\n",
              "      <th>75%</th>\n",
              "      <td>410.50000</td>\n",
              "      <td>171.000000</td>\n",
              "      <td>208.000000</td>\n",
              "    </tr>\n",
              "    <tr>\n",
              "      <th>max</th>\n",
              "      <td>547.00000</td>\n",
              "      <td>203.000000</td>\n",
              "      <td>235.000000</td>\n",
              "    </tr>\n",
              "  </tbody>\n",
              "</table>\n",
              "</div>"
            ],
            "text/plain": [
              "       id_cliente        peso  colesterol\n",
              "count   547.00000  547.000000  547.000000\n",
              "mean    274.00000  143.438391  170.433272\n",
              "std     158.04957   30.695360   39.147189\n",
              "min       1.00000   95.000000  102.000000\n",
              "25%     137.50000  116.000000  136.000000\n",
              "50%     274.00000  140.000000  169.000000\n",
              "75%     410.50000  171.000000  208.000000\n",
              "max     547.00000  203.000000  235.000000"
            ]
          },
          "execution_count": 116,
          "metadata": {},
          "output_type": "execute_result"
        }
      ],
      "source": [
        "dados_clinicos.describe()"
      ]
    },
    {
      "cell_type": "markdown",
      "id": "50a662d8",
      "metadata": {
        "id": "50a662d8"
      },
      "source": [
        "### Existe correlação entre as variáveis peso e colesterol no dataset?"
      ]
    },
    {
      "cell_type": "code",
      "execution_count": null,
      "id": "72117483",
      "metadata": {
        "id": "72117483",
        "outputId": "8e9da506-208a-4231-c237-422fe9156ab2"
      },
      "outputs": [
        {
          "data": {
            "text/plain": [
              "0.9849714555877486"
            ]
          },
          "execution_count": 117,
          "metadata": {},
          "output_type": "execute_result"
        }
      ],
      "source": [
        "#correlação\n",
        "correlation = dados_clinicos['peso'].corr(dados_clinicos['colesterol'])\n",
        "correlation"
      ]
    },
    {
      "cell_type": "markdown",
      "id": "e3dedaf1",
      "metadata": {
        "id": "e3dedaf1"
      },
      "source": [
        "### Qual o comando que transforma um array em matriz?"
      ]
    },
    {
      "cell_type": "code",
      "execution_count": null,
      "id": "aae1ee38",
      "metadata": {
        "id": "aae1ee38",
        "outputId": "b51b5a57-e6a6-44ee-980d-9b2791221eb9"
      },
      "outputs": [
        {
          "name": "stdout",
          "output_type": "stream",
          "text": [
            "     id_cliente   peso  colesterol     genero\n",
            "0             1  102.0         111  Masculino\n",
            "1             2  115.0         135  Masculino\n",
            "2             3  115.0         136  Masculino\n",
            "3             4  140.0         167   Feminino\n",
            "4             5  130.0         158  Masculino\n",
            "..          ...    ...         ...        ...\n",
            "542         543  172.0         207  Masculino\n",
            "543         544  129.0         157  Masculino\n",
            "544         545  107.0         115  Masculino\n",
            "545         546  117.0         147  Masculino\n",
            "546         547  148.0         176  Masculino\n",
            "\n",
            "[547 rows x 4 columns]\n",
            "\n",
            "[[1]\n",
            " [2]\n",
            " [3]\n",
            " [4]\n",
            " [5]]\n"
          ]
        }
      ],
      "source": [
        "# Suponha que você tenha um array unidimensional\n",
        "df = np.array([1, 2, 3, 4, 5])\n",
        "print(f'{dados_clinicos}\\n')\n",
        "# Use reshape(-1, 1) para transformar em uma matriz com uma única coluna\n",
        "matriz_coluna = df.reshape(-1, 1)\n",
        "\n",
        "print(matriz_coluna)\n"
      ]
    },
    {
      "cell_type": "markdown",
      "id": "3cc0f8d4",
      "metadata": {
        "id": "3cc0f8d4"
      },
      "source": [
        "### Elabore um gráfico de dispersão que represente os pesos e os níveis de colesterol de todos os pacientes, agrupados por gênero. No eixo x, represente o peso, enquanto no eixo y, represente o colesterol. Posteriormente, analise os resultados obtidos e selecione o gráfico que melhor ilustra essa relação."
      ]
    },
    {
      "cell_type": "code",
      "execution_count": null,
      "id": "47698178",
      "metadata": {
        "id": "47698178",
        "outputId": "9332fbe1-0121-4c28-894c-d74d77140542"
      },
      "outputs": [
        {
          "data": {
            "image/png": "[encoded data removed]",
            "text/plain": [
              "<Figure size 800x600 with 1 Axes>"
            ]
          },
          "metadata": {},
          "output_type": "display_data"
        }
      ],
      "source": [
        "# Criando o gráfico de dispersão\n",
        "plt.figure(figsize=(8, 6))\n",
        "sns.scatterplot(data=dados_clinicos, x='peso', y='colesterol', hue='genero')\n",
        "\n",
        "# Adicionando título\n",
        "plt.title('Relação entre Peso e Nível de Colesterol por Gênero')\n",
        "\n",
        "# Exibindo o gráfico\n",
        "plt.show()\n"
      ]
    },
    {
      "cell_type": "markdown",
      "id": "ba4ab4a1",
      "metadata": {
        "id": "ba4ab4a1"
      },
      "source": [
        "### Qual é a representação gráfica do modelo de regressão que foi criado? Para gerar o gráfico, leve em consideração o peso no eixo X e o colesterol no eixo Y."
      ]
    },
    {
      "cell_type": "code",
      "execution_count": null,
      "id": "760a88dd",
      "metadata": {
        "id": "760a88dd"
      },
      "outputs": [],
      "source": [
        "dados_clinicos_qnt = dados_clinicos[['peso','colesterol']]"
      ]
    },
    {
      "cell_type": "code",
      "execution_count": null,
      "id": "e35ccb97",
      "metadata": {
        "id": "e35ccb97",
        "outputId": "eeaea935-397e-4d6d-997f-ed21ad24393a"
      },
      "outputs": [
        {
          "data": {
            "text/plain": [
              "array([102.  , 115.  , 115.  , 140.  , 130.  , 198.  , 114.  , 145.  ,\n",
              "       191.  , 186.  , 104.  , 188.  ,  96.  , 156.  , 125.  , 178.  ,\n",
              "       109.  , 168.  , 152.  , 133.  , 153.  , 107.  , 199.  , 140.  ,\n",
              "        95.  , 183.  , 108.  , 190.  , 174.  , 149.  , 169.  , 138.  ,\n",
              "       151.  , 109.  , 178.  , 106.  , 195.  ,  96.  , 129.  , 166.  ,\n",
              "       197.  , 148.  , 117.  , 193.  , 170.  , 130.  , 183.  , 134.  ,\n",
              "       128.  , 105.  , 115.  , 166.  , 183.  , 149.  , 110.  , 164.  ,\n",
              "       157.  , 170.  , 124.  , 145.  , 113.  , 150.  , 100.  , 143.16,\n",
              "       139.  , 150.  , 101.  , 157.  , 187.  , 137.  , 121.  , 132.  ,\n",
              "       130.  , 156.  , 180.  , 100.  , 122.  , 185.  , 113.  , 123.  ,\n",
              "       119.  , 113.  , 168.  , 126.  , 102.  , 116.  , 144.  , 140.  ,\n",
              "       124.  , 108.  , 154.  , 185.  , 106.  ,  97.  ,  96.  , 129.  ,\n",
              "       124.  , 149.  ,  97.  , 102.  , 146.  , 143.16, 100.  , 118.  ,\n",
              "       179.  , 179.  , 113.  , 142.  , 101.  , 174.  , 131.  , 179.  ,\n",
              "       122.  , 105.  , 176.  , 103.  , 120.  , 118.  , 143.  , 134.  ,\n",
              "       203.  , 116.  , 150.  , 192.  , 187.  , 107.  , 192.  ,  97.  ,\n",
              "       157.  , 128.  , 183.  , 112.  , 173.  , 156.  , 137.  , 156.  ,\n",
              "       112.  , 203.  , 141.  ,  97.  , 186.  , 113.  , 195.  , 175.  ,\n",
              "       154.  , 173.  , 143.16, 152.  , 114.  , 181.  , 111.  , 200.  ,\n",
              "       100.  , 134.  , 167.  , 198.  , 151.  , 121.  , 196.  , 171.  ,\n",
              "       135.  , 186.  , 138.  , 133.  , 107.  , 120.  , 168.  , 184.  ,\n",
              "       154.  , 115.  , 168.  , 161.  , 171.  , 129.  , 150.  , 118.  ,\n",
              "       154.  , 103.  , 180.  , 141.  , 152.  , 104.  , 159.  , 191.  ,\n",
              "       142.  , 123.  , 135.  , 132.  , 158.  , 181.  , 105.  , 126.  ,\n",
              "       186.  , 116.  , 124.  , 143.16, 115.  , 173.  , 128.  , 103.  ,\n",
              "       120.  , 146.  , 145.  , 125.  , 109.  , 156.  , 187.  , 110.  ,\n",
              "       100.  ,  97.  , 133.  , 128.  , 154.  , 100.  , 104.  , 143.16,\n",
              "       203.  , 104.  , 119.  , 181.  , 180.  , 116.  , 144.  , 102.  ,\n",
              "       176.  , 135.  , 184.  , 124.  , 110.  , 180.  , 103.  , 117.  ,\n",
              "       120.  , 145.  , 133.  , 201.  , 117.  , 146.  , 195.  , 188.  ,\n",
              "       108.  , 191.  , 100.  , 158.  , 127.  , 181.  , 113.  , 171.  ,\n",
              "       153.  , 137.  , 154.  , 112.  , 201.  , 141.  , 100.  , 185.  ,\n",
              "       111.  , 191.  , 176.  , 150.  , 171.  , 140.  , 153.  , 111.  ,\n",
              "       180.  , 107.  , 197.  , 101.  , 132.  , 168.  , 200.  , 150.  ,\n",
              "       119.  , 197.  , 172.  , 134.  , 185.  , 135.  , 132.  , 109.  ,\n",
              "       116.  , 170.  , 187.  , 154.  , 111.  , 169.  , 161.  , 174.  ,\n",
              "       125.  , 148.  , 117.  , 154.  , 104.  , 183.  , 142.  , 155.  ,\n",
              "       105.  , 160.  , 191.  , 140.  , 123.  , 136.  , 132.  , 158.  ,\n",
              "       182.  , 104.  , 126.  , 188.  , 118.  , 127.  , 123.  , 118.  ,\n",
              "       169.  , 128.  , 106.  , 119.  , 147.  , 141.  , 125.  , 109.  ,\n",
              "       158.  , 190.  , 110.  ,  99.  ,  98.  , 134.  , 129.  , 154.  ,\n",
              "       100.  , 107.  , 149.  , 203.  , 101.  , 119.  , 182.  , 181.  ,\n",
              "       115.  , 145.  , 102.  , 176.  , 134.  , 183.  , 123.  , 108.  ,\n",
              "       177.  , 104.  , 117.  , 117.  , 145.  , 134.  , 199.  , 115.  ,\n",
              "       149.  , 192.  , 188.  , 107.  , 190.  ,  98.  , 158.  , 128.  ,\n",
              "       180.  , 110.  , 172.  , 157.  , 137.  , 158.  , 110.  , 203.  ,\n",
              "       145.  ,  96.  , 186.  , 110.  , 194.  , 177.  , 152.  , 172.  ,\n",
              "       140.  , 154.  , 113.  , 179.  , 111.  , 196.  , 101.  , 131.  ,\n",
              "       171.  , 199.  , 151.  , 121.  , 196.  , 174.  , 135.  , 184.  ,\n",
              "       137.  , 129.  , 108.  , 116.  , 168.  , 184.  , 151.  , 114.  ,\n",
              "       167.  , 160.  , 175.  , 127.  , 146.  , 118.  , 151.  , 105.  ,\n",
              "       180.  , 140.  , 155.  , 106.  , 160.  , 192.  , 138.  , 122.  ,\n",
              "       135.  , 132.  , 158.  , 184.  , 101.  , 126.  , 188.  , 118.  ,\n",
              "       127.  , 123.  , 117.  , 172.  , 127.  , 104.  , 121.  , 148.  ,\n",
              "       141.  , 128.  , 113.  , 155.  , 189.  , 108.  ,  98.  , 100.  ,\n",
              "       134.  , 125.  , 151.  , 100.  , 107.  , 147.  , 200.  , 101.  ,\n",
              "       120.  , 181.  , 182.  , 117.  , 145.  , 106.  , 179.  , 134.  ,\n",
              "       180.  , 126.  , 110.  , 180.  , 103.  , 116.  , 119.  , 144.  ,\n",
              "       133.  , 199.  , 115.  , 150.  , 192.  , 188.  , 109.  , 189.  ,\n",
              "       101.  , 159.  , 128.  , 182.  , 111.  , 171.  , 154.  , 134.  ,\n",
              "       157.  , 112.  , 203.  , 142.  ,  97.  , 187.  , 111.  , 194.  ,\n",
              "       176.  , 153.  , 171.  , 142.  , 153.  , 113.  , 183.  , 108.  ,\n",
              "       200.  ,  99.  , 131.  , 171.  , 200.  , 152.  , 119.  , 196.  ,\n",
              "       173.  , 132.  , 185.  , 138.  , 132.  , 110.  , 119.  , 167.  ,\n",
              "       188.  , 151.  , 112.  , 166.  , 158.  , 172.  , 127.  , 150.  ,\n",
              "       115.  , 151.  , 103.  , 181.  , 141.  , 152.  , 105.  , 162.  ,\n",
              "       190.  , 141.  , 122.  , 136.  , 131.  , 157.  , 181.  , 103.  ,\n",
              "       127.  , 189.  , 114.  , 125.  , 123.  , 116.  , 172.  , 129.  ,\n",
              "       107.  , 117.  , 148.  ])"
            ]
          },
          "execution_count": 122,
          "metadata": {},
          "output_type": "execute_result"
        }
      ],
      "source": [
        "# Criando variável independente\n",
        "x = dados_clinicos_qnt.iloc[:,0].values #buscamos todos os registros da primeira coluna e convertemos no formato de array\n",
        "# o comando iloc permite selecionar um conjunto de registros. o dois pontos \":\" significa que estamos selecionando todos os regisros e zero \"0\" a primeira coluna\n",
        "x"
      ]
    },
    {
      "cell_type": "code",
      "execution_count": null,
      "id": "b1455af8",
      "metadata": {
        "id": "b1455af8",
        "outputId": "d5d5134d-82de-4866-e36c-a0b1f9252c7a"
      },
      "outputs": [
        {
          "data": {
            "text/plain": [
              "array([111, 135, 136, 167, 158, 227, 131, 176, 223, 221, 116, 222, 102,\n",
              "       192, 152, 213, 125, 204, 189, 163, 189, 122, 228, 168, 102, 218,\n",
              "       123, 222, 208, 183, 204, 167, 188, 126, 213, 122, 225, 105, 155,\n",
              "       203, 225, 177, 139, 224, 207, 158, 218, 164, 154, 118, 138, 199,\n",
              "       219, 183, 128, 197, 196, 208, 152, 175, 129, 185, 107, 211, 167,\n",
              "       185, 110, 194, 221, 166, 143, 163, 158, 191, 216, 106, 146, 220,\n",
              "       131, 147, 141, 130, 204, 152, 111, 139, 172, 168, 148, 123, 189,\n",
              "       220, 120, 106, 105, 157, 149, 185, 106, 115, 177, 230, 108, 140,\n",
              "       214, 216, 130, 169, 110, 209, 162, 214, 145, 116, 209, 116, 139,\n",
              "       143, 168, 158, 232, 136, 180, 228, 222, 117, 224, 104, 195, 156,\n",
              "       213, 133, 208, 195, 163, 195, 124, 231, 172, 104, 221, 128, 222,\n",
              "       214, 184, 204, 171, 195, 132, 214, 123, 233, 107, 162, 204, 227,\n",
              "       185, 142, 225, 212, 161, 220, 168, 155, 125, 144, 201, 222, 189,\n",
              "       132, 204, 201, 211, 156, 179, 129, 185, 107, 213, 172, 193, 114,\n",
              "       202, 222, 168, 146, 170, 165, 196, 224, 108, 149, 224, 136, 152,\n",
              "       143, 135, 211, 156, 115, 143, 179, 173, 148, 127, 194, 225, 127,\n",
              "       106, 112, 164, 151, 191, 110, 116, 180, 235, 108, 141, 219, 219,\n",
              "       138, 169, 116, 212, 162, 220, 151, 119, 212, 111, 142, 138, 172,\n",
              "       158, 228, 134, 181, 231, 223, 121, 222, 102, 195, 156, 214, 132,\n",
              "       204, 190, 167, 195, 127, 235, 171, 110, 221, 128, 226, 208, 191,\n",
              "       205, 173, 191, 128, 220, 126, 232, 108, 159, 211, 232, 182, 145,\n",
              "       224, 209, 160, 219, 170, 161, 122, 141, 204, 226, 187, 129, 199,\n",
              "       199, 214, 159, 176, 129, 187, 109, 212, 170, 191, 116, 202, 226,\n",
              "       166, 151, 170, 166, 193, 218, 109, 152, 220, 133, 152, 142, 131,\n",
              "       204, 153, 114, 144, 172, 176, 150, 129, 190, 226, 128, 106, 107,\n",
              "       159, 157, 192, 110, 115, 183, 233, 112, 146, 222, 216, 134, 174,\n",
              "       114, 211, 167, 214, 145, 120, 217, 113, 141, 140, 171, 163, 232,\n",
              "       131, 184, 225, 223, 121, 223, 105, 197, 160, 218, 131, 211, 194,\n",
              "       169, 189, 128, 228, 169, 108, 219, 124, 224, 214, 190, 205, 167,\n",
              "       190, 128, 217, 126, 228, 105, 162, 211, 227, 178, 146, 227, 208,\n",
              "       163, 225, 167, 162, 125, 144, 199, 226, 183, 136, 199, 204, 215,\n",
              "       155, 179, 133, 186, 111, 219, 173, 185, 118, 199, 226, 169, 144,\n",
              "       166, 166, 198, 222, 110, 154, 226, 135, 151, 146, 133, 205, 154,\n",
              "       116, 145, 174, 168, 156, 124, 196, 227, 122, 106, 110, 158, 154,\n",
              "       190, 110, 120, 180, 232, 110, 142, 222, 218, 138, 176, 115, 211,\n",
              "       168, 216, 147, 124, 215, 117, 139, 138, 171, 158, 232, 139, 178,\n",
              "       224, 224, 116, 223, 109, 193, 155, 221, 130, 212, 190, 169, 191,\n",
              "       122, 234, 175, 108, 220, 126, 227, 216, 188, 205, 172, 192, 129,\n",
              "       219, 127, 228, 105, 159, 205, 228, 178, 139, 232, 212, 162, 226,\n",
              "       171, 159, 120, 143, 200, 221, 184, 134, 200, 201, 210, 159, 178,\n",
              "       137, 190, 110, 213, 170, 193, 113, 196, 222, 174, 143, 169, 165,\n",
              "       194, 217, 113, 150, 223, 133, 149, 149, 130, 207, 157, 115, 147,\n",
              "       176], dtype=int64)"
            ]
          },
          "execution_count": 123,
          "metadata": {},
          "output_type": "execute_result"
        }
      ],
      "source": [
        "#criando variável dependente (o que queremos predizer)\n",
        "y = dados_clinicos_qnt.iloc[:,1].values\n",
        "y"
      ]
    },
    {
      "cell_type": "markdown",
      "id": "12e7d8bb",
      "metadata": {
        "id": "12e7d8bb"
      },
      "source": [
        "#### Qual é o valor do coeficiente angular do modelo gerado?"
      ]
    },
    {
      "cell_type": "code",
      "execution_count": null,
      "id": "57ae44ba",
      "metadata": {
        "id": "57ae44ba",
        "outputId": "aa7d5f2f-baec-4ecf-b77e-5bd2512b21b7"
      },
      "outputs": [
        {
          "data": {
            "text/plain": [
              "array([[1.        , 0.98497146],\n",
              "       [0.98497146, 1.        ]])"
            ]
          },
          "execution_count": 124,
          "metadata": {},
          "output_type": "execute_result"
        }
      ],
      "source": [
        "coeficientes = np.corrcoef(x,y) # retorna matriz\n",
        "coeficientes\n",
        "\n",
        "#R: correlação positiva"
      ]
    },
    {
      "cell_type": "code",
      "execution_count": null,
      "id": "27166893",
      "metadata": {
        "id": "27166893",
        "outputId": "0273477c-8b02-4359-bea0-83ed27741a26"
      },
      "outputs": [
        {
          "data": {
            "image/png": "[encoded data removed]",
            "text/plain": [
              "<Figure size 640x480 with 2 Axes>"
            ]
          },
          "metadata": {},
          "output_type": "display_data"
        }
      ],
      "source": [
        "#Correlação\n",
        "correlation = dados_clinicos_qnt.corr()\n",
        "# plot da matriz de correlação\n",
        "plot = sns.heatmap(correlation, annot = True,  linewidths=.3) #annot = valores\n",
        "plot;"
      ]
    },
    {
      "cell_type": "code",
      "execution_count": null,
      "id": "a2578986",
      "metadata": {
        "id": "a2578986",
        "outputId": "e7bc7e93-86df-40f9-cd2e-f57e0c18b9fb"
      },
      "outputs": [
        {
          "name": "stdout",
          "output_type": "stream",
          "text": [
            "x = (547,) \n",
            "\n",
            "y = (547,)\n"
          ]
        }
      ],
      "source": [
        "#vizualiar o formato da variável\n",
        "print(f'x = {x.shape} \\n')\n",
        "print(f'y = {y.shape}')"
      ]
    },
    {
      "cell_type": "code",
      "execution_count": null,
      "id": "3ecaac29",
      "metadata": {
        "id": "3ecaac29",
        "outputId": "1f846ee5-bcb6-4651-a2e6-fc80bf8838b0"
      },
      "outputs": [
        {
          "data": {
            "text/plain": [
              "array([[102.  ],\n",
              "       [115.  ],\n",
              "       [115.  ],\n",
              "       [140.  ],\n",
              "       [130.  ],\n",
              "       [198.  ],\n",
              "       [114.  ],\n",
              "       [145.  ],\n",
              "       [191.  ],\n",
              "       [186.  ],\n",
              "       [104.  ],\n",
              "       [188.  ],\n",
              "       [ 96.  ],\n",
              "       [156.  ],\n",
              "       [125.  ],\n",
              "       [178.  ],\n",
              "       [109.  ],\n",
              "       [168.  ],\n",
              "       [152.  ],\n",
              "       [133.  ],\n",
              "       [153.  ],\n",
              "       [107.  ],\n",
              "       [199.  ],\n",
              "       [140.  ],\n",
              "       [ 95.  ],\n",
              "       [183.  ],\n",
              "       [108.  ],\n",
              "       [190.  ],\n",
              "       [174.  ],\n",
              "       [149.  ],\n",
              "       [169.  ],\n",
              "       [138.  ],\n",
              "       [151.  ],\n",
              "       [109.  ],\n",
              "       [178.  ],\n",
              "       [106.  ],\n",
              "       [195.  ],\n",
              "       [ 96.  ],\n",
              "       [129.  ],\n",
              "       [166.  ],\n",
              "       [197.  ],\n",
              "       [148.  ],\n",
              "       [117.  ],\n",
              "       [193.  ],\n",
              "       [170.  ],\n",
              "       [130.  ],\n",
              "       [183.  ],\n",
              "       [134.  ],\n",
              "       [128.  ],\n",
              "       [105.  ],\n",
              "       [115.  ],\n",
              "       [166.  ],\n",
              "       [183.  ],\n",
              "       [149.  ],\n",
              "       [110.  ],\n",
              "       [164.  ],\n",
              "       [157.  ],\n",
              "       [170.  ],\n",
              "       [124.  ],\n",
              "       [145.  ],\n",
              "       [113.  ],\n",
              "       [150.  ],\n",
              "       [100.  ],\n",
              "       [143.16],\n",
              "       [139.  ],\n",
              "       [150.  ],\n",
              "       [101.  ],\n",
              "       [157.  ],\n",
              "       [187.  ],\n",
              "       [137.  ],\n",
              "       [121.  ],\n",
              "       [132.  ],\n",
              "       [130.  ],\n",
              "       [156.  ],\n",
              "       [180.  ],\n",
              "       [100.  ],\n",
              "       [122.  ],\n",
              "       [185.  ],\n",
              "       [113.  ],\n",
              "       [123.  ],\n",
              "       [119.  ],\n",
              "       [113.  ],\n",
              "       [168.  ],\n",
              "       [126.  ],\n",
              "       [102.  ],\n",
              "       [116.  ],\n",
              "       [144.  ],\n",
              "       [140.  ],\n",
              "       [124.  ],\n",
              "       [108.  ],\n",
              "       [154.  ],\n",
              "       [185.  ],\n",
              "       [106.  ],\n",
              "       [ 97.  ],\n",
              "       [ 96.  ],\n",
              "       [129.  ],\n",
              "       [124.  ],\n",
              "       [149.  ],\n",
              "       [ 97.  ],\n",
              "       [102.  ],\n",
              "       [146.  ],\n",
              "       [143.16],\n",
              "       [100.  ],\n",
              "       [118.  ],\n",
              "       [179.  ],\n",
              "       [179.  ],\n",
              "       [113.  ],\n",
              "       [142.  ],\n",
              "       [101.  ],\n",
              "       [174.  ],\n",
              "       [131.  ],\n",
              "       [179.  ],\n",
              "       [122.  ],\n",
              "       [105.  ],\n",
              "       [176.  ],\n",
              "       [103.  ],\n",
              "       [120.  ],\n",
              "       [118.  ],\n",
              "       [143.  ],\n",
              "       [134.  ],\n",
              "       [203.  ],\n",
              "       [116.  ],\n",
              "       [150.  ],\n",
              "       [192.  ],\n",
              "       [187.  ],\n",
              "       [107.  ],\n",
              "       [192.  ],\n",
              "       [ 97.  ],\n",
              "       [157.  ],\n",
              "       [128.  ],\n",
              "       [183.  ],\n",
              "       [112.  ],\n",
              "       [173.  ],\n",
              "       [156.  ],\n",
              "       [137.  ],\n",
              "       [156.  ],\n",
              "       [112.  ],\n",
              "       [203.  ],\n",
              "       [141.  ],\n",
              "       [ 97.  ],\n",
              "       [186.  ],\n",
              "       [113.  ],\n",
              "       [195.  ],\n",
              "       [175.  ],\n",
              "       [154.  ],\n",
              "       [173.  ],\n",
              "       [143.16],\n",
              "       [152.  ],\n",
              "       [114.  ],\n",
              "       [181.  ],\n",
              "       [111.  ],\n",
              "       [200.  ],\n",
              "       [100.  ],\n",
              "       [134.  ],\n",
              "       [167.  ],\n",
              "       [198.  ],\n",
              "       [151.  ],\n",
              "       [121.  ],\n",
              "       [196.  ],\n",
              "       [171.  ],\n",
              "       [135.  ],\n",
              "       [186.  ],\n",
              "       [138.  ],\n",
              "       [133.  ],\n",
              "       [107.  ],\n",
              "       [120.  ],\n",
              "       [168.  ],\n",
              "       [184.  ],\n",
              "       [154.  ],\n",
              "       [115.  ],\n",
              "       [168.  ],\n",
              "       [161.  ],\n",
              "       [171.  ],\n",
              "       [129.  ],\n",
              "       [150.  ],\n",
              "       [118.  ],\n",
              "       [154.  ],\n",
              "       [103.  ],\n",
              "       [180.  ],\n",
              "       [141.  ],\n",
              "       [152.  ],\n",
              "       [104.  ],\n",
              "       [159.  ],\n",
              "       [191.  ],\n",
              "       [142.  ],\n",
              "       [123.  ],\n",
              "       [135.  ],\n",
              "       [132.  ],\n",
              "       [158.  ],\n",
              "       [181.  ],\n",
              "       [105.  ],\n",
              "       [126.  ],\n",
              "       [186.  ],\n",
              "       [116.  ],\n",
              "       [124.  ],\n",
              "       [143.16],\n",
              "       [115.  ],\n",
              "       [173.  ],\n",
              "       [128.  ],\n",
              "       [103.  ],\n",
              "       [120.  ],\n",
              "       [146.  ],\n",
              "       [145.  ],\n",
              "       [125.  ],\n",
              "       [109.  ],\n",
              "       [156.  ],\n",
              "       [187.  ],\n",
              "       [110.  ],\n",
              "       [100.  ],\n",
              "       [ 97.  ],\n",
              "       [133.  ],\n",
              "       [128.  ],\n",
              "       [154.  ],\n",
              "       [100.  ],\n",
              "       [104.  ],\n",
              "       [143.16],\n",
              "       [203.  ],\n",
              "       [104.  ],\n",
              "       [119.  ],\n",
              "       [181.  ],\n",
              "       [180.  ],\n",
              "       [116.  ],\n",
              "       [144.  ],\n",
              "       [102.  ],\n",
              "       [176.  ],\n",
              "       [135.  ],\n",
              "       [184.  ],\n",
              "       [124.  ],\n",
              "       [110.  ],\n",
              "       [180.  ],\n",
              "       [103.  ],\n",
              "       [117.  ],\n",
              "       [120.  ],\n",
              "       [145.  ],\n",
              "       [133.  ],\n",
              "       [201.  ],\n",
              "       [117.  ],\n",
              "       [146.  ],\n",
              "       [195.  ],\n",
              "       [188.  ],\n",
              "       [108.  ],\n",
              "       [191.  ],\n",
              "       [100.  ],\n",
              "       [158.  ],\n",
              "       [127.  ],\n",
              "       [181.  ],\n",
              "       [113.  ],\n",
              "       [171.  ],\n",
              "       [153.  ],\n",
              "       [137.  ],\n",
              "       [154.  ],\n",
              "       [112.  ],\n",
              "       [201.  ],\n",
              "       [141.  ],\n",
              "       [100.  ],\n",
              "       [185.  ],\n",
              "       [111.  ],\n",
              "       [191.  ],\n",
              "       [176.  ],\n",
              "       [150.  ],\n",
              "       [171.  ],\n",
              "       [140.  ],\n",
              "       [153.  ],\n",
              "       [111.  ],\n",
              "       [180.  ],\n",
              "       [107.  ],\n",
              "       [197.  ],\n",
              "       [101.  ],\n",
              "       [132.  ],\n",
              "       [168.  ],\n",
              "       [200.  ],\n",
              "       [150.  ],\n",
              "       [119.  ],\n",
              "       [197.  ],\n",
              "       [172.  ],\n",
              "       [134.  ],\n",
              "       [185.  ],\n",
              "       [135.  ],\n",
              "       [132.  ],\n",
              "       [109.  ],\n",
              "       [116.  ],\n",
              "       [170.  ],\n",
              "       [187.  ],\n",
              "       [154.  ],\n",
              "       [111.  ],\n",
              "       [169.  ],\n",
              "       [161.  ],\n",
              "       [174.  ],\n",
              "       [125.  ],\n",
              "       [148.  ],\n",
              "       [117.  ],\n",
              "       [154.  ],\n",
              "       [104.  ],\n",
              "       [183.  ],\n",
              "       [142.  ],\n",
              "       [155.  ],\n",
              "       [105.  ],\n",
              "       [160.  ],\n",
              "       [191.  ],\n",
              "       [140.  ],\n",
              "       [123.  ],\n",
              "       [136.  ],\n",
              "       [132.  ],\n",
              "       [158.  ],\n",
              "       [182.  ],\n",
              "       [104.  ],\n",
              "       [126.  ],\n",
              "       [188.  ],\n",
              "       [118.  ],\n",
              "       [127.  ],\n",
              "       [123.  ],\n",
              "       [118.  ],\n",
              "       [169.  ],\n",
              "       [128.  ],\n",
              "       [106.  ],\n",
              "       [119.  ],\n",
              "       [147.  ],\n",
              "       [141.  ],\n",
              "       [125.  ],\n",
              "       [109.  ],\n",
              "       [158.  ],\n",
              "       [190.  ],\n",
              "       [110.  ],\n",
              "       [ 99.  ],\n",
              "       [ 98.  ],\n",
              "       [134.  ],\n",
              "       [129.  ],\n",
              "       [154.  ],\n",
              "       [100.  ],\n",
              "       [107.  ],\n",
              "       [149.  ],\n",
              "       [203.  ],\n",
              "       [101.  ],\n",
              "       [119.  ],\n",
              "       [182.  ],\n",
              "       [181.  ],\n",
              "       [115.  ],\n",
              "       [145.  ],\n",
              "       [102.  ],\n",
              "       [176.  ],\n",
              "       [134.  ],\n",
              "       [183.  ],\n",
              "       [123.  ],\n",
              "       [108.  ],\n",
              "       [177.  ],\n",
              "       [104.  ],\n",
              "       [117.  ],\n",
              "       [117.  ],\n",
              "       [145.  ],\n",
              "       [134.  ],\n",
              "       [199.  ],\n",
              "       [115.  ],\n",
              "       [149.  ],\n",
              "       [192.  ],\n",
              "       [188.  ],\n",
              "       [107.  ],\n",
              "       [190.  ],\n",
              "       [ 98.  ],\n",
              "       [158.  ],\n",
              "       [128.  ],\n",
              "       [180.  ],\n",
              "       [110.  ],\n",
              "       [172.  ],\n",
              "       [157.  ],\n",
              "       [137.  ],\n",
              "       [158.  ],\n",
              "       [110.  ],\n",
              "       [203.  ],\n",
              "       [145.  ],\n",
              "       [ 96.  ],\n",
              "       [186.  ],\n",
              "       [110.  ],\n",
              "       [194.  ],\n",
              "       [177.  ],\n",
              "       [152.  ],\n",
              "       [172.  ],\n",
              "       [140.  ],\n",
              "       [154.  ],\n",
              "       [113.  ],\n",
              "       [179.  ],\n",
              "       [111.  ],\n",
              "       [196.  ],\n",
              "       [101.  ],\n",
              "       [131.  ],\n",
              "       [171.  ],\n",
              "       [199.  ],\n",
              "       [151.  ],\n",
              "       [121.  ],\n",
              "       [196.  ],\n",
              "       [174.  ],\n",
              "       [135.  ],\n",
              "       [184.  ],\n",
              "       [137.  ],\n",
              "       [129.  ],\n",
              "       [108.  ],\n",
              "       [116.  ],\n",
              "       [168.  ],\n",
              "       [184.  ],\n",
              "       [151.  ],\n",
              "       [114.  ],\n",
              "       [167.  ],\n",
              "       [160.  ],\n",
              "       [175.  ],\n",
              "       [127.  ],\n",
              "       [146.  ],\n",
              "       [118.  ],\n",
              "       [151.  ],\n",
              "       [105.  ],\n",
              "       [180.  ],\n",
              "       [140.  ],\n",
              "       [155.  ],\n",
              "       [106.  ],\n",
              "       [160.  ],\n",
              "       [192.  ],\n",
              "       [138.  ],\n",
              "       [122.  ],\n",
              "       [135.  ],\n",
              "       [132.  ],\n",
              "       [158.  ],\n",
              "       [184.  ],\n",
              "       [101.  ],\n",
              "       [126.  ],\n",
              "       [188.  ],\n",
              "       [118.  ],\n",
              "       [127.  ],\n",
              "       [123.  ],\n",
              "       [117.  ],\n",
              "       [172.  ],\n",
              "       [127.  ],\n",
              "       [104.  ],\n",
              "       [121.  ],\n",
              "       [148.  ],\n",
              "       [141.  ],\n",
              "       [128.  ],\n",
              "       [113.  ],\n",
              "       [155.  ],\n",
              "       [189.  ],\n",
              "       [108.  ],\n",
              "       [ 98.  ],\n",
              "       [100.  ],\n",
              "       [134.  ],\n",
              "       [125.  ],\n",
              "       [151.  ],\n",
              "       [100.  ],\n",
              "       [107.  ],\n",
              "       [147.  ],\n",
              "       [200.  ],\n",
              "       [101.  ],\n",
              "       [120.  ],\n",
              "       [181.  ],\n",
              "       [182.  ],\n",
              "       [117.  ],\n",
              "       [145.  ],\n",
              "       [106.  ],\n",
              "       [179.  ],\n",
              "       [134.  ],\n",
              "       [180.  ],\n",
              "       [126.  ],\n",
              "       [110.  ],\n",
              "       [180.  ],\n",
              "       [103.  ],\n",
              "       [116.  ],\n",
              "       [119.  ],\n",
              "       [144.  ],\n",
              "       [133.  ],\n",
              "       [199.  ],\n",
              "       [115.  ],\n",
              "       [150.  ],\n",
              "       [192.  ],\n",
              "       [188.  ],\n",
              "       [109.  ],\n",
              "       [189.  ],\n",
              "       [101.  ],\n",
              "       [159.  ],\n",
              "       [128.  ],\n",
              "       [182.  ],\n",
              "       [111.  ],\n",
              "       [171.  ],\n",
              "       [154.  ],\n",
              "       [134.  ],\n",
              "       [157.  ],\n",
              "       [112.  ],\n",
              "       [203.  ],\n",
              "       [142.  ],\n",
              "       [ 97.  ],\n",
              "       [187.  ],\n",
              "       [111.  ],\n",
              "       [194.  ],\n",
              "       [176.  ],\n",
              "       [153.  ],\n",
              "       [171.  ],\n",
              "       [142.  ],\n",
              "       [153.  ],\n",
              "       [113.  ],\n",
              "       [183.  ],\n",
              "       [108.  ],\n",
              "       [200.  ],\n",
              "       [ 99.  ],\n",
              "       [131.  ],\n",
              "       [171.  ],\n",
              "       [200.  ],\n",
              "       [152.  ],\n",
              "       [119.  ],\n",
              "       [196.  ],\n",
              "       [173.  ],\n",
              "       [132.  ],\n",
              "       [185.  ],\n",
              "       [138.  ],\n",
              "       [132.  ],\n",
              "       [110.  ],\n",
              "       [119.  ],\n",
              "       [167.  ],\n",
              "       [188.  ],\n",
              "       [151.  ],\n",
              "       [112.  ],\n",
              "       [166.  ],\n",
              "       [158.  ],\n",
              "       [172.  ],\n",
              "       [127.  ],\n",
              "       [150.  ],\n",
              "       [115.  ],\n",
              "       [151.  ],\n",
              "       [103.  ],\n",
              "       [181.  ],\n",
              "       [141.  ],\n",
              "       [152.  ],\n",
              "       [105.  ],\n",
              "       [162.  ],\n",
              "       [190.  ],\n",
              "       [141.  ],\n",
              "       [122.  ],\n",
              "       [136.  ],\n",
              "       [131.  ],\n",
              "       [157.  ],\n",
              "       [181.  ],\n",
              "       [103.  ],\n",
              "       [127.  ],\n",
              "       [189.  ],\n",
              "       [114.  ],\n",
              "       [125.  ],\n",
              "       [123.  ],\n",
              "       [116.  ],\n",
              "       [172.  ],\n",
              "       [129.  ],\n",
              "       [107.  ],\n",
              "       [117.  ],\n",
              "       [148.  ]])"
            ]
          },
          "execution_count": 127,
          "metadata": {},
          "output_type": "execute_result"
        }
      ],
      "source": [
        "x = x.reshape(-1,1)\n",
        "x"
      ]
    },
    {
      "cell_type": "markdown",
      "id": "da08227a",
      "metadata": {
        "id": "da08227a"
      },
      "source": [
        "Aplicando os dados ao algoritmo de machine de regressão"
      ]
    },
    {
      "cell_type": "code",
      "execution_count": null,
      "id": "f00a9882",
      "metadata": {
        "id": "f00a9882"
      },
      "outputs": [],
      "source": [
        "# cria um objeto do tipo regressão linear\n",
        "previsao = LinearRegression()"
      ]
    },
    {
      "cell_type": "code",
      "execution_count": null,
      "id": "1e41319c",
      "metadata": {
        "id": "1e41319c",
        "outputId": "0f6949a1-36b1-410e-ef5f-964052292ddf"
      },
      "outputs": [
        {
          "data": {
            "text/plain": [
              "sklearn.linear_model._base.LinearRegression"
            ]
          },
          "execution_count": 129,
          "metadata": {},
          "output_type": "execute_result"
        }
      ],
      "source": [
        "type(previsao)"
      ]
    },
    {
      "cell_type": "markdown",
      "id": "11062570",
      "metadata": {
        "id": "11062570"
      },
      "source": [
        "### Treinamento\n",
        "\n",
        "com todos os dados"
      ]
    },
    {
      "cell_type": "code",
      "execution_count": null,
      "id": "d258c8f6",
      "metadata": {
        "id": "d258c8f6",
        "outputId": "3bfa2667-ff67-4f00-c84a-2eb622f20eab"
      },
      "outputs": [
        {
          "data": {
            "text/html": [
              "<style>#sk-container-id-4 {color: black;}#sk-container-id-4 pre{padding: 0;}#sk-container-id-4 div.sk-toggleable {background-color: white;}#sk-container-id-4 label.sk-toggleable__label {cursor: pointer;display: block;width: 100%;margin-bottom: 0;padding: 0.3em;box-sizing: border-box;text-align: center;}#sk-container-id-4 label.sk-toggleable__label-arrow:before {content: \"▸\";float: left;margin-right: 0.25em;color: #696969;}#sk-container-id-4 label.sk-toggleable__label-arrow:hover:before {color: black;}#sk-container-id-4 div.sk-estimator:hover label.sk-toggleable__label-arrow:before {color: black;}#sk-container-id-4 div.sk-toggleable__content {max-height: 0;max-width: 0;overflow: hidden;text-align: left;background-color: #f0f8ff;}#sk-container-id-4 div.sk-toggleable__content pre {margin: 0.2em;color: black;border-radius: 0.25em;background-color: #f0f8ff;}#sk-container-id-4 input.sk-toggleable__control:checked~div.sk-toggleable__content {max-height: 200px;max-width: 100%;overflow: auto;}#sk-container-id-4 input.sk-toggleable__control:checked~label.sk-toggleable__label-arrow:before {content: \"▾\";}#sk-container-id-4 div.sk-estimator input.sk-toggleable__control:checked~label.sk-toggleable__label {background-color: #d4ebff;}#sk-container-id-4 div.sk-label input.sk-toggleable__control:checked~label.sk-toggleable__label {background-color: #d4ebff;}#sk-container-id-4 input.sk-hidden--visually {border: 0;clip: rect(1px 1px 1px 1px);clip: rect(1px, 1px, 1px, 1px);height: 1px;margin: -1px;overflow: hidden;padding: 0;position: absolute;width: 1px;}#sk-container-id-4 div.sk-estimator {font-family: monospace;background-color: #f0f8ff;border: 1px dotted black;border-radius: 0.25em;box-sizing: border-box;margin-bottom: 0.5em;}#sk-container-id-4 div.sk-estimator:hover {background-color: #d4ebff;}#sk-container-id-4 div.sk-parallel-item::after {content: \"\";width: 100%;border-bottom: 1px solid gray;flex-grow: 1;}#sk-container-id-4 div.sk-label:hover label.sk-toggleable__label {background-color: #d4ebff;}#sk-container-id-4 div.sk-serial::before {content: \"\";position: absolute;border-left: 1px solid gray;box-sizing: border-box;top: 0;bottom: 0;left: 50%;z-index: 0;}#sk-container-id-4 div.sk-serial {display: flex;flex-direction: column;align-items: center;background-color: white;padding-right: 0.2em;padding-left: 0.2em;position: relative;}#sk-container-id-4 div.sk-item {position: relative;z-index: 1;}#sk-container-id-4 div.sk-parallel {display: flex;align-items: stretch;justify-content: center;background-color: white;position: relative;}#sk-container-id-4 div.sk-item::before, #sk-container-id-4 div.sk-parallel-item::before {content: \"\";position: absolute;border-left: 1px solid gray;box-sizing: border-box;top: 0;bottom: 0;left: 50%;z-index: -1;}#sk-container-id-4 div.sk-parallel-item {display: flex;flex-direction: column;z-index: 1;position: relative;background-color: white;}#sk-container-id-4 div.sk-parallel-item:first-child::after {align-self: flex-end;width: 50%;}#sk-container-id-4 div.sk-parallel-item:last-child::after {align-self: flex-start;width: 50%;}#sk-container-id-4 div.sk-parallel-item:only-child::after {width: 0;}#sk-container-id-4 div.sk-dashed-wrapped {border: 1px dashed gray;margin: 0 0.4em 0.5em 0.4em;box-sizing: border-box;padding-bottom: 0.4em;background-color: white;}#sk-container-id-4 div.sk-label label {font-family: monospace;font-weight: bold;display: inline-block;line-height: 1.2em;}#sk-container-id-4 div.sk-label-container {text-align: center;}#sk-container-id-4 div.sk-container {/* jupyter's `normalize.less` sets `[hidden] { display: none; }` but bootstrap.min.css set `[hidden] { display: none !important; }` so we also need the `!important` here to be able to override the default hidden behavior on the sphinx rendered scikit-learn.org. See: https://github.com/scikit-learn/scikit-learn/issues/21755 */display: inline-block !important;position: relative;}#sk-container-id-4 div.sk-text-repr-fallback {display: none;}</style><div id=\"sk-container-id-4\" class=\"sk-top-container\"><div class=\"sk-text-repr-fallback\"><pre>LinearRegression()</pre><b>In a Jupyter environment, please rerun this cell to show the HTML representation or trust the notebook. <br />On GitHub, the HTML representation is unable to render, please try loading this page with nbviewer.org.</b></div><div class=\"sk-container\" hidden><div class=\"sk-item\"><div class=\"sk-estimator sk-toggleable\"><input class=\"sk-toggleable__control sk-hidden--visually\" id=\"sk-estimator-id-4\" type=\"checkbox\" checked><label for=\"sk-estimator-id-4\" class=\"sk-toggleable__label sk-toggleable__label-arrow\">LinearRegression</label><div class=\"sk-toggleable__content\"><pre>LinearRegression()</pre></div></div></div></div></div>"
            ],
            "text/plain": [
              "LinearRegression()"
            ]
          },
          "execution_count": 130,
          "metadata": {},
          "output_type": "execute_result"
        }
      ],
      "source": [
        "previsao.fit(x, y) #modelo"
      ]
    },
    {
      "cell_type": "code",
      "execution_count": null,
      "id": "a515efcf",
      "metadata": {
        "id": "a515efcf",
        "outputId": "4c0ed89c-835c-40d2-c55b-26aa335b6b30"
      },
      "outputs": [
        {
          "data": {
            "text/plain": [
              "-9.751008392436944"
            ]
          },
          "execution_count": 131,
          "metadata": {},
          "output_type": "execute_result"
        }
      ],
      "source": [
        "# Verfificando a interceptação - constante alpha\n",
        "previsao.intercept_"
      ]
    },
    {
      "cell_type": "code",
      "execution_count": null,
      "id": "e7978f70",
      "metadata": {
        "id": "e7978f70",
        "outputId": "15999996-abe9-42e9-95df-1e90dcaab2f0"
      },
      "outputs": [
        {
          "data": {
            "text/plain": [
              "array([1.2561789])"
            ]
          },
          "execution_count": 132,
          "metadata": {},
          "output_type": "execute_result"
        }
      ],
      "source": [
        "'''\n",
        "O coeficiente angular é o coeficiente que multiplica a variável independente no modelo de regressão linear.\n",
        "Ele representa a mudança esperada na variável dependente para uma unidade de mudança na variável independente.\n",
        "'''\n",
        "#Verificando o coeficiente angular da reta - Beta\n",
        "previsao.coef_"
      ]
    },
    {
      "cell_type": "code",
      "execution_count": null,
      "id": "95b79879",
      "metadata": {
        "id": "95b79879",
        "outputId": "5a9e5d88-2fbb-448c-fafc-38dc6dc9e0e2"
      },
      "outputs": [
        {
          "name": "stdout",
          "output_type": "stream",
          "text": [
            "Coeficiente Angular: 1.256178901956939\n"
          ]
        }
      ],
      "source": [
        "# Inicializar e ajustar o modelo de regressão linear\n",
        "previsao = LinearRegression()\n",
        "previsao.fit(x, y)\n",
        "\n",
        "# Acessar o coeficiente angular (coeficiente de inclinação)\n",
        "coef_angular = previsao.coef_[0]\n",
        "\n",
        "print(\"Coeficiente Angular:\", coef_angular)"
      ]
    },
    {
      "cell_type": "code",
      "execution_count": null,
      "id": "5b3164b6",
      "metadata": {
        "id": "5b3164b6",
        "outputId": "c343a06e-2782-4c62-92a8-f8be767a9dab"
      },
      "outputs": [
        {
          "data": {
            "text/plain": [
              "array([118.37923961, 134.70956533, 134.70956533, 166.11403788,\n",
              "       153.55224886, 238.9724142 , 133.45338643, 172.39493239,\n",
              "       230.17916188, 223.89826737, 120.89159741, 226.41062518,\n",
              "       110.8421662 , 186.21290031, 147.27135435, 213.84883616,\n",
              "       127.17249192, 201.28704714, 181.18818471, 157.32078557,\n",
              "       182.44436361, 124.66013412, 240.2285931 , 166.11403788,\n",
              "       109.58598729, 220.12973067, 125.91631302, 228.92298298,\n",
              "       208.82412055, 177.419648  , 202.54322604, 163.60168008,\n",
              "       179.9320058 , 127.17249192, 213.84883616, 123.40395521,\n",
              "       235.20387749, 110.8421662 , 152.29606996, 198.77468933,\n",
              "       237.71623529, 176.1634691 , 137.22192314, 232.69151969,\n",
              "       203.79940494, 153.55224886, 220.12973067, 158.57696447,\n",
              "       151.03989106, 122.14777631, 134.70956533, 198.77468933,\n",
              "       220.12973067, 177.419648  , 128.42867082, 196.26233153,\n",
              "       187.46907921, 203.79940494, 146.01517545, 172.39493239,\n",
              "       132.19720753, 178.6758269 , 115.8668818 , 170.08356321,\n",
              "       164.85785898, 178.6758269 , 117.12306071, 187.46907921,\n",
              "       225.15444627, 162.34550118, 142.24663874, 156.06460667,\n",
              "       153.55224886, 186.21290031, 216.36119396, 115.8668818 ,\n",
              "       143.50281765, 222.64208847, 132.19720753, 144.75899655,\n",
              "       139.73428094, 132.19720753, 201.28704714, 148.52753325,\n",
              "       118.37923961, 135.96574423, 171.13875349, 166.11403788,\n",
              "       146.01517545, 125.91631302, 183.70054251, 222.64208847,\n",
              "       123.40395521, 112.0983451 , 110.8421662 , 152.29606996,\n",
              "       146.01517545, 177.419648  , 112.0983451 , 118.37923961,\n",
              "       173.65111129, 170.08356321, 115.8668818 , 138.47810204,\n",
              "       215.10501506, 215.10501506, 132.19720753, 168.62639569,\n",
              "       117.12306071, 208.82412055, 154.80842776, 215.10501506,\n",
              "       143.50281765, 122.14777631, 211.33647835, 119.63541851,\n",
              "       140.99045984, 138.47810204, 169.88257459, 158.57696447,\n",
              "       245.2533087 , 135.96574423, 178.6758269 , 231.43534078,\n",
              "       225.15444627, 124.66013412, 231.43534078, 112.0983451 ,\n",
              "       187.46907921, 151.03989106, 220.12973067, 130.94102863,\n",
              "       207.56794165, 186.21290031, 162.34550118, 186.21290031,\n",
              "       130.94102863, 245.2533087 , 167.37021678, 112.0983451 ,\n",
              "       223.89826737, 132.19720753, 235.20387749, 210.08029945,\n",
              "       183.70054251, 207.56794165, 170.08356321, 181.18818471,\n",
              "       133.45338643, 217.61737286, 129.68484972, 241.484772  ,\n",
              "       115.8668818 , 158.57696447, 200.03086823, 238.9724142 ,\n",
              "       179.9320058 , 142.24663874, 236.46005639, 205.05558384,\n",
              "       159.83314337, 223.89826737, 163.60168008, 157.32078557,\n",
              "       124.66013412, 140.99045984, 201.28704714, 221.38590957,\n",
              "       183.70054251, 134.70956533, 201.28704714, 192.49379482,\n",
              "       205.05558384, 152.29606996, 178.6758269 , 138.47810204,\n",
              "       183.70054251, 119.63541851, 216.36119396, 167.37021678,\n",
              "       181.18818471, 120.89159741, 189.98143702, 230.17916188,\n",
              "       168.62639569, 144.75899655, 159.83314337, 156.06460667,\n",
              "       188.72525812, 217.61737286, 122.14777631, 148.52753325,\n",
              "       223.89826737, 135.96574423, 146.01517545, 170.08356321,\n",
              "       134.70956533, 207.56794165, 151.03989106, 119.63541851,\n",
              "       140.99045984, 173.65111129, 172.39493239, 147.27135435,\n",
              "       127.17249192, 186.21290031, 225.15444627, 128.42867082,\n",
              "       115.8668818 , 112.0983451 , 157.32078557, 151.03989106,\n",
              "       183.70054251, 115.8668818 , 120.89159741, 170.08356321,\n",
              "       245.2533087 , 120.89159741, 139.73428094, 217.61737286,\n",
              "       216.36119396, 135.96574423, 171.13875349, 118.37923961,\n",
              "       211.33647835, 159.83314337, 221.38590957, 146.01517545,\n",
              "       128.42867082, 216.36119396, 119.63541851, 137.22192314,\n",
              "       140.99045984, 172.39493239, 157.32078557, 242.7409509 ,\n",
              "       137.22192314, 173.65111129, 235.20387749, 226.41062518,\n",
              "       125.91631302, 230.17916188, 115.8668818 , 188.72525812,\n",
              "       149.78371216, 217.61737286, 132.19720753, 205.05558384,\n",
              "       182.44436361, 162.34550118, 183.70054251, 130.94102863,\n",
              "       242.7409509 , 167.37021678, 115.8668818 , 222.64208847,\n",
              "       129.68484972, 230.17916188, 211.33647835, 178.6758269 ,\n",
              "       205.05558384, 166.11403788, 182.44436361, 129.68484972,\n",
              "       216.36119396, 124.66013412, 237.71623529, 117.12306071,\n",
              "       156.06460667, 201.28704714, 241.484772  , 178.6758269 ,\n",
              "       139.73428094, 237.71623529, 206.31176274, 158.57696447,\n",
              "       222.64208847, 159.83314337, 156.06460667, 127.17249192,\n",
              "       135.96574423, 203.79940494, 225.15444627, 183.70054251,\n",
              "       129.68484972, 202.54322604, 192.49379482, 208.82412055,\n",
              "       147.27135435, 176.1634691 , 137.22192314, 183.70054251,\n",
              "       120.89159741, 220.12973067, 168.62639569, 184.95672141,\n",
              "       122.14777631, 191.23761592, 230.17916188, 166.11403788,\n",
              "       144.75899655, 161.08932227, 156.06460667, 188.72525812,\n",
              "       218.87355176, 120.89159741, 148.52753325, 226.41062518,\n",
              "       138.47810204, 149.78371216, 144.75899655, 138.47810204,\n",
              "       202.54322604, 151.03989106, 123.40395521, 139.73428094,\n",
              "       174.9072902 , 167.37021678, 147.27135435, 127.17249192,\n",
              "       188.72525812, 228.92298298, 128.42867082, 114.6107029 ,\n",
              "       113.354524  , 158.57696447, 152.29606996, 183.70054251,\n",
              "       115.8668818 , 124.66013412, 177.419648  , 245.2533087 ,\n",
              "       117.12306071, 139.73428094, 218.87355176, 217.61737286,\n",
              "       134.70956533, 172.39493239, 118.37923961, 211.33647835,\n",
              "       158.57696447, 220.12973067, 144.75899655, 125.91631302,\n",
              "       212.59265725, 120.89159741, 137.22192314, 137.22192314,\n",
              "       172.39493239, 158.57696447, 240.2285931 , 134.70956533,\n",
              "       177.419648  , 231.43534078, 226.41062518, 124.66013412,\n",
              "       228.92298298, 113.354524  , 188.72525812, 151.03989106,\n",
              "       216.36119396, 128.42867082, 206.31176274, 187.46907921,\n",
              "       162.34550118, 188.72525812, 128.42867082, 245.2533087 ,\n",
              "       172.39493239, 110.8421662 , 223.89826737, 128.42867082,\n",
              "       233.94769859, 212.59265725, 181.18818471, 206.31176274,\n",
              "       166.11403788, 183.70054251, 132.19720753, 215.10501506,\n",
              "       129.68484972, 236.46005639, 117.12306071, 154.80842776,\n",
              "       205.05558384, 240.2285931 , 179.9320058 , 142.24663874,\n",
              "       236.46005639, 208.82412055, 159.83314337, 221.38590957,\n",
              "       162.34550118, 152.29606996, 125.91631302, 135.96574423,\n",
              "       201.28704714, 221.38590957, 179.9320058 , 133.45338643,\n",
              "       200.03086823, 191.23761592, 210.08029945, 149.78371216,\n",
              "       173.65111129, 138.47810204, 179.9320058 , 122.14777631,\n",
              "       216.36119396, 166.11403788, 184.95672141, 123.40395521,\n",
              "       191.23761592, 231.43534078, 163.60168008, 143.50281765,\n",
              "       159.83314337, 156.06460667, 188.72525812, 221.38590957,\n",
              "       117.12306071, 148.52753325, 226.41062518, 138.47810204,\n",
              "       149.78371216, 144.75899655, 137.22192314, 206.31176274,\n",
              "       149.78371216, 120.89159741, 142.24663874, 176.1634691 ,\n",
              "       167.37021678, 151.03989106, 132.19720753, 184.95672141,\n",
              "       227.66680408, 125.91631302, 113.354524  , 115.8668818 ,\n",
              "       158.57696447, 147.27135435, 179.9320058 , 115.8668818 ,\n",
              "       124.66013412, 174.9072902 , 241.484772  , 117.12306071,\n",
              "       140.99045984, 217.61737286, 218.87355176, 137.22192314,\n",
              "       172.39493239, 123.40395521, 215.10501506, 158.57696447,\n",
              "       216.36119396, 148.52753325, 128.42867082, 216.36119396,\n",
              "       119.63541851, 135.96574423, 139.73428094, 171.13875349,\n",
              "       157.32078557, 240.2285931 , 134.70956533, 178.6758269 ,\n",
              "       231.43534078, 226.41062518, 127.17249192, 227.66680408,\n",
              "       117.12306071, 189.98143702, 151.03989106, 218.87355176,\n",
              "       129.68484972, 205.05558384, 183.70054251, 158.57696447,\n",
              "       187.46907921, 130.94102863, 245.2533087 , 168.62639569,\n",
              "       112.0983451 , 225.15444627, 129.68484972, 233.94769859,\n",
              "       211.33647835, 182.44436361, 205.05558384, 168.62639569,\n",
              "       182.44436361, 132.19720753, 220.12973067, 125.91631302,\n",
              "       241.484772  , 114.6107029 , 154.80842776, 205.05558384,\n",
              "       241.484772  , 181.18818471, 139.73428094, 236.46005639,\n",
              "       207.56794165, 156.06460667, 222.64208847, 163.60168008,\n",
              "       156.06460667, 128.42867082, 139.73428094, 200.03086823,\n",
              "       226.41062518, 179.9320058 , 130.94102863, 198.77468933,\n",
              "       188.72525812, 206.31176274, 149.78371216, 178.6758269 ,\n",
              "       134.70956533, 179.9320058 , 119.63541851, 217.61737286,\n",
              "       167.37021678, 181.18818471, 122.14777631, 193.74997372,\n",
              "       228.92298298, 167.37021678, 143.50281765, 161.08932227,\n",
              "       154.80842776, 187.46907921, 217.61737286, 119.63541851,\n",
              "       149.78371216, 227.66680408, 133.45338643, 147.27135435,\n",
              "       144.75899655, 135.96574423, 206.31176274, 152.29606996,\n",
              "       124.66013412, 137.22192314, 176.1634691 ])"
            ]
          },
          "execution_count": 133,
          "metadata": {},
          "output_type": "execute_result"
        }
      ],
      "source": [
        "previsao_treino = previsao.predict(x)# baseado nos valores de nº de pessoas, vamos estimar/prever\n",
        "previsao_treino"
      ]
    },
    {
      "cell_type": "markdown",
      "id": "38e44c76",
      "metadata": {
        "id": "38e44c76"
      },
      "source": [
        "### Visualizando no gráfico as disposições dos dados"
      ]
    },
    {
      "cell_type": "code",
      "execution_count": null,
      "id": "532c0bae",
      "metadata": {
        "id": "532c0bae",
        "outputId": "1eefa9d6-2079-4850-defa-ffb1f6f17dc4"
      },
      "outputs": [
        {
          "data": {
            "text/plain": [
              "array([102.  , 115.  , 115.  , 140.  , 130.  , 198.  , 114.  , 145.  ,\n",
              "       191.  , 186.  , 104.  , 188.  ,  96.  , 156.  , 125.  , 178.  ,\n",
              "       109.  , 168.  , 152.  , 133.  , 153.  , 107.  , 199.  , 140.  ,\n",
              "        95.  , 183.  , 108.  , 190.  , 174.  , 149.  , 169.  , 138.  ,\n",
              "       151.  , 109.  , 178.  , 106.  , 195.  ,  96.  , 129.  , 166.  ,\n",
              "       197.  , 148.  , 117.  , 193.  , 170.  , 130.  , 183.  , 134.  ,\n",
              "       128.  , 105.  , 115.  , 166.  , 183.  , 149.  , 110.  , 164.  ,\n",
              "       157.  , 170.  , 124.  , 145.  , 113.  , 150.  , 100.  , 143.16,\n",
              "       139.  , 150.  , 101.  , 157.  , 187.  , 137.  , 121.  , 132.  ,\n",
              "       130.  , 156.  , 180.  , 100.  , 122.  , 185.  , 113.  , 123.  ,\n",
              "       119.  , 113.  , 168.  , 126.  , 102.  , 116.  , 144.  , 140.  ,\n",
              "       124.  , 108.  , 154.  , 185.  , 106.  ,  97.  ,  96.  , 129.  ,\n",
              "       124.  , 149.  ,  97.  , 102.  , 146.  , 143.16, 100.  , 118.  ,\n",
              "       179.  , 179.  , 113.  , 142.  , 101.  , 174.  , 131.  , 179.  ,\n",
              "       122.  , 105.  , 176.  , 103.  , 120.  , 118.  , 143.  , 134.  ,\n",
              "       203.  , 116.  , 150.  , 192.  , 187.  , 107.  , 192.  ,  97.  ,\n",
              "       157.  , 128.  , 183.  , 112.  , 173.  , 156.  , 137.  , 156.  ,\n",
              "       112.  , 203.  , 141.  ,  97.  , 186.  , 113.  , 195.  , 175.  ,\n",
              "       154.  , 173.  , 143.16, 152.  , 114.  , 181.  , 111.  , 200.  ,\n",
              "       100.  , 134.  , 167.  , 198.  , 151.  , 121.  , 196.  , 171.  ,\n",
              "       135.  , 186.  , 138.  , 133.  , 107.  , 120.  , 168.  , 184.  ,\n",
              "       154.  , 115.  , 168.  , 161.  , 171.  , 129.  , 150.  , 118.  ,\n",
              "       154.  , 103.  , 180.  , 141.  , 152.  , 104.  , 159.  , 191.  ,\n",
              "       142.  , 123.  , 135.  , 132.  , 158.  , 181.  , 105.  , 126.  ,\n",
              "       186.  , 116.  , 124.  , 143.16, 115.  , 173.  , 128.  , 103.  ,\n",
              "       120.  , 146.  , 145.  , 125.  , 109.  , 156.  , 187.  , 110.  ,\n",
              "       100.  ,  97.  , 133.  , 128.  , 154.  , 100.  , 104.  , 143.16,\n",
              "       203.  , 104.  , 119.  , 181.  , 180.  , 116.  , 144.  , 102.  ,\n",
              "       176.  , 135.  , 184.  , 124.  , 110.  , 180.  , 103.  , 117.  ,\n",
              "       120.  , 145.  , 133.  , 201.  , 117.  , 146.  , 195.  , 188.  ,\n",
              "       108.  , 191.  , 100.  , 158.  , 127.  , 181.  , 113.  , 171.  ,\n",
              "       153.  , 137.  , 154.  , 112.  , 201.  , 141.  , 100.  , 185.  ,\n",
              "       111.  , 191.  , 176.  , 150.  , 171.  , 140.  , 153.  , 111.  ,\n",
              "       180.  , 107.  , 197.  , 101.  , 132.  , 168.  , 200.  , 150.  ,\n",
              "       119.  , 197.  , 172.  , 134.  , 185.  , 135.  , 132.  , 109.  ,\n",
              "       116.  , 170.  , 187.  , 154.  , 111.  , 169.  , 161.  , 174.  ,\n",
              "       125.  , 148.  , 117.  , 154.  , 104.  , 183.  , 142.  , 155.  ,\n",
              "       105.  , 160.  , 191.  , 140.  , 123.  , 136.  , 132.  , 158.  ,\n",
              "       182.  , 104.  , 126.  , 188.  , 118.  , 127.  , 123.  , 118.  ,\n",
              "       169.  , 128.  , 106.  , 119.  , 147.  , 141.  , 125.  , 109.  ,\n",
              "       158.  , 190.  , 110.  ,  99.  ,  98.  , 134.  , 129.  , 154.  ,\n",
              "       100.  , 107.  , 149.  , 203.  , 101.  , 119.  , 182.  , 181.  ,\n",
              "       115.  , 145.  , 102.  , 176.  , 134.  , 183.  , 123.  , 108.  ,\n",
              "       177.  , 104.  , 117.  , 117.  , 145.  , 134.  , 199.  , 115.  ,\n",
              "       149.  , 192.  , 188.  , 107.  , 190.  ,  98.  , 158.  , 128.  ,\n",
              "       180.  , 110.  , 172.  , 157.  , 137.  , 158.  , 110.  , 203.  ,\n",
              "       145.  ,  96.  , 186.  , 110.  , 194.  , 177.  , 152.  , 172.  ,\n",
              "       140.  , 154.  , 113.  , 179.  , 111.  , 196.  , 101.  , 131.  ,\n",
              "       171.  , 199.  , 151.  , 121.  , 196.  , 174.  , 135.  , 184.  ,\n",
              "       137.  , 129.  , 108.  , 116.  , 168.  , 184.  , 151.  , 114.  ,\n",
              "       167.  , 160.  , 175.  , 127.  , 146.  , 118.  , 151.  , 105.  ,\n",
              "       180.  , 140.  , 155.  , 106.  , 160.  , 192.  , 138.  , 122.  ,\n",
              "       135.  , 132.  , 158.  , 184.  , 101.  , 126.  , 188.  , 118.  ,\n",
              "       127.  , 123.  , 117.  , 172.  , 127.  , 104.  , 121.  , 148.  ,\n",
              "       141.  , 128.  , 113.  , 155.  , 189.  , 108.  ,  98.  , 100.  ,\n",
              "       134.  , 125.  , 151.  , 100.  , 107.  , 147.  , 200.  , 101.  ,\n",
              "       120.  , 181.  , 182.  , 117.  , 145.  , 106.  , 179.  , 134.  ,\n",
              "       180.  , 126.  , 110.  , 180.  , 103.  , 116.  , 119.  , 144.  ,\n",
              "       133.  , 199.  , 115.  , 150.  , 192.  , 188.  , 109.  , 189.  ,\n",
              "       101.  , 159.  , 128.  , 182.  , 111.  , 171.  , 154.  , 134.  ,\n",
              "       157.  , 112.  , 203.  , 142.  ,  97.  , 187.  , 111.  , 194.  ,\n",
              "       176.  , 153.  , 171.  , 142.  , 153.  , 113.  , 183.  , 108.  ,\n",
              "       200.  ,  99.  , 131.  , 171.  , 200.  , 152.  , 119.  , 196.  ,\n",
              "       173.  , 132.  , 185.  , 138.  , 132.  , 110.  , 119.  , 167.  ,\n",
              "       188.  , 151.  , 112.  , 166.  , 158.  , 172.  , 127.  , 150.  ,\n",
              "       115.  , 151.  , 103.  , 181.  , 141.  , 152.  , 105.  , 162.  ,\n",
              "       190.  , 141.  , 122.  , 136.  , 131.  , 157.  , 181.  , 103.  ,\n",
              "       127.  , 189.  , 114.  , 125.  , 123.  , 116.  , 172.  , 129.  ,\n",
              "       107.  , 117.  , 148.  ])"
            ]
          },
          "execution_count": 134,
          "metadata": {},
          "output_type": "execute_result"
        }
      ],
      "source": [
        "x.ravel() # transforma de matriz para vetor(array) - (para usar o gráfico)"
      ]
    },
    {
      "cell_type": "code",
      "execution_count": null,
      "id": "a4c81b1a",
      "metadata": {
        "id": "a4c81b1a",
        "outputId": "dbac4a6a-73c6-44c3-cb0e-ef001e29b339"
      },
      "outputs": [
        {
          "data": {
            "text/plain": [
              "array([111, 135, 136, 167, 158, 227, 131, 176, 223, 221, 116, 222, 102,\n",
              "       192, 152, 213, 125, 204, 189, 163, 189, 122, 228, 168, 102, 218,\n",
              "       123, 222, 208, 183, 204, 167, 188, 126, 213, 122, 225, 105, 155,\n",
              "       203, 225, 177, 139, 224, 207, 158, 218, 164, 154, 118, 138, 199,\n",
              "       219, 183, 128, 197, 196, 208, 152, 175, 129, 185, 107, 211, 167,\n",
              "       185, 110, 194, 221, 166, 143, 163, 158, 191, 216, 106, 146, 220,\n",
              "       131, 147, 141, 130, 204, 152, 111, 139, 172, 168, 148, 123, 189,\n",
              "       220, 120, 106, 105, 157, 149, 185, 106, 115, 177, 230, 108, 140,\n",
              "       214, 216, 130, 169, 110, 209, 162, 214, 145, 116, 209, 116, 139,\n",
              "       143, 168, 158, 232, 136, 180, 228, 222, 117, 224, 104, 195, 156,\n",
              "       213, 133, 208, 195, 163, 195, 124, 231, 172, 104, 221, 128, 222,\n",
              "       214, 184, 204, 171, 195, 132, 214, 123, 233, 107, 162, 204, 227,\n",
              "       185, 142, 225, 212, 161, 220, 168, 155, 125, 144, 201, 222, 189,\n",
              "       132, 204, 201, 211, 156, 179, 129, 185, 107, 213, 172, 193, 114,\n",
              "       202, 222, 168, 146, 170, 165, 196, 224, 108, 149, 224, 136, 152,\n",
              "       143, 135, 211, 156, 115, 143, 179, 173, 148, 127, 194, 225, 127,\n",
              "       106, 112, 164, 151, 191, 110, 116, 180, 235, 108, 141, 219, 219,\n",
              "       138, 169, 116, 212, 162, 220, 151, 119, 212, 111, 142, 138, 172,\n",
              "       158, 228, 134, 181, 231, 223, 121, 222, 102, 195, 156, 214, 132,\n",
              "       204, 190, 167, 195, 127, 235, 171, 110, 221, 128, 226, 208, 191,\n",
              "       205, 173, 191, 128, 220, 126, 232, 108, 159, 211, 232, 182, 145,\n",
              "       224, 209, 160, 219, 170, 161, 122, 141, 204, 226, 187, 129, 199,\n",
              "       199, 214, 159, 176, 129, 187, 109, 212, 170, 191, 116, 202, 226,\n",
              "       166, 151, 170, 166, 193, 218, 109, 152, 220, 133, 152, 142, 131,\n",
              "       204, 153, 114, 144, 172, 176, 150, 129, 190, 226, 128, 106, 107,\n",
              "       159, 157, 192, 110, 115, 183, 233, 112, 146, 222, 216, 134, 174,\n",
              "       114, 211, 167, 214, 145, 120, 217, 113, 141, 140, 171, 163, 232,\n",
              "       131, 184, 225, 223, 121, 223, 105, 197, 160, 218, 131, 211, 194,\n",
              "       169, 189, 128, 228, 169, 108, 219, 124, 224, 214, 190, 205, 167,\n",
              "       190, 128, 217, 126, 228, 105, 162, 211, 227, 178, 146, 227, 208,\n",
              "       163, 225, 167, 162, 125, 144, 199, 226, 183, 136, 199, 204, 215,\n",
              "       155, 179, 133, 186, 111, 219, 173, 185, 118, 199, 226, 169, 144,\n",
              "       166, 166, 198, 222, 110, 154, 226, 135, 151, 146, 133, 205, 154,\n",
              "       116, 145, 174, 168, 156, 124, 196, 227, 122, 106, 110, 158, 154,\n",
              "       190, 110, 120, 180, 232, 110, 142, 222, 218, 138, 176, 115, 211,\n",
              "       168, 216, 147, 124, 215, 117, 139, 138, 171, 158, 232, 139, 178,\n",
              "       224, 224, 116, 223, 109, 193, 155, 221, 130, 212, 190, 169, 191,\n",
              "       122, 234, 175, 108, 220, 126, 227, 216, 188, 205, 172, 192, 129,\n",
              "       219, 127, 228, 105, 159, 205, 228, 178, 139, 232, 212, 162, 226,\n",
              "       171, 159, 120, 143, 200, 221, 184, 134, 200, 201, 210, 159, 178,\n",
              "       137, 190, 110, 213, 170, 193, 113, 196, 222, 174, 143, 169, 165,\n",
              "       194, 217, 113, 150, 223, 133, 149, 149, 130, 207, 157, 115, 147,\n",
              "       176], dtype=int64)"
            ]
          },
          "execution_count": 135,
          "metadata": {},
          "output_type": "execute_result"
        }
      ],
      "source": [
        "y"
      ]
    },
    {
      "cell_type": "code",
      "execution_count": null,
      "id": "8a06797c",
      "metadata": {
        "id": "8a06797c",
        "outputId": "402624bf-0631-40fe-93da-44cf2138c8af"
      },
      "outputs": [
        {
          "data": {
            "application/vnd.plotly.v1+json": {
              "config": {
                "plotlyServerURL": "https://plot.ly"
              },
              "data": [
                {
                  "hovertemplate": "x=%{x}<br>y=%{y}<extra></extra>",
                  "legendgroup": "",
                  "marker": {
                    "color": "#636efa",
                    "symbol": "circle"
                  },
                  "mode": "markers",
                  "name": "",
                  "orientation": "v",
                  "showlegend": false,
                  "type": "scatter",
                  "x": [
                    102,
                    115,
                    115,
                    140,
                    130,
                    198,
                    114,
                    145,
                    191,
                    186,
                    104,
                    188,
                    96,
                    156,
                    125,
                    178,
                    109,
                    168,
                    152,
                    133,
                    153,
                    107,
                    199,
                    140,
                    95,
                    183,
                    108,
                    190,
                    174,
                    149,
                    169,
                    138,
                    151,
                    109,
                    178,
                    106,
                    195,
                    96,
                    129,
                    166,
                    197,
                    148,
                    117,
                    193,
                    170,
                    130,
                    183,
                    134,
                    128,
                    105,
                    115,
                    166,
                    183,
                    149,
                    110,
                    164,
                    157,
                    170,
                    124,
                    145,
                    113,
                    150,
                    100,
                    143.16,
                    139,
                    150,
                    101,
                    157,
                    187,
                    137,
                    121,
                    132,
                    130,
                    156,
                    180,
                    100,
                    122,
                    185,
                    113,
                    123,
                    119,
                    113,
                    168,
                    126,
                    102,
                    116,
                    144,
                    140,
                    124,
                    108,
                    154,
                    185,
                    106,
                    97,
                    96,
                    129,
                    124,
                    149,
                    97,
                    102,
                    146,
                    143.16,
                    100,
                    118,
                    179,
                    179,
                    113,
                    142,
                    101,
                    174,
                    131,
                    179,
                    122,
                    105,
                    176,
                    103,
                    120,
                    118,
                    143,
                    134,
                    203,
                    116,
                    150,
                    192,
                    187,
                    107,
                    192,
                    97,
                    157,
                    128,
                    183,
                    112,
                    173,
                    156,
                    137,
                    156,
                    112,
                    203,
                    141,
                    97,
                    186,
                    113,
                    195,
                    175,
                    154,
                    173,
                    143.16,
                    152,
                    114,
                    181,
                    111,
                    200,
                    100,
                    134,
                    167,
                    198,
                    151,
                    121,
                    196,
                    171,
                    135,
                    186,
                    138,
                    133,
                    107,
                    120,
                    168,
                    184,
                    154,
                    115,
                    168,
                    161,
                    171,
                    129,
                    150,
                    118,
                    154,
                    103,
                    180,
                    141,
                    152,
                    104,
                    159,
                    191,
                    142,
                    123,
                    135,
                    132,
                    158,
                    181,
                    105,
                    126,
                    186,
                    116,
                    124,
                    143.16,
                    115,
                    173,
                    128,
                    103,
                    120,
                    146,
                    145,
                    125,
                    109,
                    156,
                    187,
                    110,
                    100,
                    97,
                    133,
                    128,
                    154,
                    100,
                    104,
                    143.16,
                    203,
                    104,
                    119,
                    181,
                    180,
                    116,
                    144,
                    102,
                    176,
                    135,
                    184,
                    124,
                    110,
                    180,
                    103,
                    117,
                    120,
                    145,
                    133,
                    201,
                    117,
                    146,
                    195,
                    188,
                    108,
                    191,
                    100,
                    158,
                    127,
                    181,
                    113,
                    171,
                    153,
                    137,
                    154,
                    112,
                    201,
                    141,
                    100,
                    185,
                    111,
                    191,
                    176,
                    150,
                    171,
                    140,
                    153,
                    111,
                    180,
                    107,
                    197,
                    101,
                    132,
                    168,
                    200,
                    150,
                    119,
                    197,
                    172,
                    134,
                    185,
                    135,
                    132,
                    109,
                    116,
                    170,
                    187,
                    154,
                    111,
                    169,
                    161,
                    174,
                    125,
                    148,
                    117,
                    154,
                    104,
                    183,
                    142,
                    155,
                    105,
                    160,
                    191,
                    140,
                    123,
                    136,
                    132,
                    158,
                    182,
                    104,
                    126,
                    188,
                    118,
                    127,
                    123,
                    118,
                    169,
                    128,
                    106,
                    119,
                    147,
                    141,
                    125,
                    109,
                    158,
                    190,
                    110,
                    99,
                    98,
                    134,
                    129,
                    154,
                    100,
                    107,
                    149,
                    203,
                    101,
                    119,
                    182,
                    181,
                    115,
                    145,
                    102,
                    176,
                    134,
                    183,
                    123,
                    108,
                    177,
                    104,
                    117,
                    117,
                    145,
                    134,
                    199,
                    115,
                    149,
                    192,
                    188,
                    107,
                    190,
                    98,
                    158,
                    128,
                    180,
                    110,
                    172,
                    157,
                    137,
                    158,
                    110,
                    203,
                    145,
                    96,
                    186,
                    110,
                    194,
                    177,
                    152,
                    172,
                    140,
                    154,
                    113,
                    179,
                    111,
                    196,
                    101,
                    131,
                    171,
                    199,
                    151,
                    121,
                    196,
                    174,
                    135,
                    184,
                    137,
                    129,
                    108,
                    116,
                    168,
                    184,
                    151,
                    114,
                    167,
                    160,
                    175,
                    127,
                    146,
                    118,
                    151,
                    105,
                    180,
                    140,
                    155,
                    106,
                    160,
                    192,
                    138,
                    122,
                    135,
                    132,
                    158,
                    184,
                    101,
                    126,
                    188,
                    118,
                    127,
                    123,
                    117,
                    172,
                    127,
                    104,
                    121,
                    148,
                    141,
                    128,
                    113,
                    155,
                    189,
                    108,
                    98,
                    100,
                    134,
                    125,
                    151,
                    100,
                    107,
                    147,
                    200,
                    101,
                    120,
                    181,
                    182,
                    117,
                    145,
                    106,
                    179,
                    134,
                    180,
                    126,
                    110,
                    180,
                    103,
                    116,
                    119,
                    144,
                    133,
                    199,
                    115,
                    150,
                    192,
                    188,
                    109,
                    189,
                    101,
                    159,
                    128,
                    182,
                    111,
                    171,
                    154,
                    134,
                    157,
                    112,
                    203,
                    142,
                    97,
                    187,
                    111,
                    194,
                    176,
                    153,
                    171,
                    142,
                    153,
                    113,
                    183,
                    108,
                    200,
                    99,
                    131,
                    171,
                    200,
                    152,
                    119,
                    196,
                    173,
                    132,
                    185,
                    138,
                    132,
                    110,
                    119,
                    167,
                    188,
                    151,
                    112,
                    166,
                    158,
                    172,
                    127,
                    150,
                    115,
                    151,
                    103,
                    181,
                    141,
                    152,
                    105,
                    162,
                    190,
                    141,
                    122,
                    136,
                    131,
                    157,
                    181,
                    103,
                    127,
                    189,
                    114,
                    125,
                    123,
                    116,
                    172,
                    129,
                    107,
                    117,
                    148
                  ],
                  "xaxis": "x",
                  "y": [
                    111,
                    135,
                    136,
                    167,
                    158,
                    227,
                    131,
                    176,
                    223,
                    221,
                    116,
                    222,
                    102,
                    192,
                    152,
                    213,
                    125,
                    204,
                    189,
                    163,
                    189,
                    122,
                    228,
                    168,
                    102,
                    218,
                    123,
                    222,
                    208,
                    183,
                    204,
                    167,
                    188,
                    126,
                    213,
                    122,
                    225,
                    105,
                    155,
                    203,
                    225,
                    177,
                    139,
                    224,
                    207,
                    158,
                    218,
                    164,
                    154,
                    118,
                    138,
                    199,
                    219,
                    183,
                    128,
                    197,
                    196,
                    208,
                    152,
                    175,
                    129,
                    185,
                    107,
                    211,
                    167,
                    185,
                    110,
                    194,
                    221,
                    166,
                    143,
                    163,
                    158,
                    191,
                    216,
                    106,
                    146,
                    220,
                    131,
                    147,
                    141,
                    130,
                    204,
                    152,
                    111,
                    139,
                    172,
                    168,
                    148,
                    123,
                    189,
                    220,
                    120,
                    106,
                    105,
                    157,
                    149,
                    185,
                    106,
                    115,
                    177,
                    230,
                    108,
                    140,
                    214,
                    216,
                    130,
                    169,
                    110,
                    209,
                    162,
                    214,
                    145,
                    116,
                    209,
                    116,
                    139,
                    143,
                    168,
                    158,
                    232,
                    136,
                    180,
                    228,
                    222,
                    117,
                    224,
                    104,
                    195,
                    156,
                    213,
                    133,
                    208,
                    195,
                    163,
                    195,
                    124,
                    231,
                    172,
                    104,
                    221,
                    128,
                    222,
                    214,
                    184,
                    204,
                    171,
                    195,
                    132,
                    214,
                    123,
                    233,
                    107,
                    162,
                    204,
                    227,
                    185,
                    142,
                    225,
                    212,
                    161,
                    220,
                    168,
                    155,
                    125,
                    144,
                    201,
                    222,
                    189,
                    132,
                    204,
                    201,
                    211,
                    156,
                    179,
                    129,
                    185,
                    107,
                    213,
                    172,
                    193,
                    114,
                    202,
                    222,
                    168,
                    146,
                    170,
                    165,
                    196,
                    224,
                    108,
                    149,
                    224,
                    136,
                    152,
                    143,
                    135,
                    211,
                    156,
                    115,
                    143,
                    179,
                    173,
                    148,
                    127,
                    194,
                    225,
                    127,
                    106,
                    112,
                    164,
                    151,
                    191,
                    110,
                    116,
                    180,
                    235,
                    108,
                    141,
                    219,
                    219,
                    138,
                    169,
                    116,
                    212,
                    162,
                    220,
                    151,
                    119,
                    212,
                    111,
                    142,
                    138,
                    172,
                    158,
                    228,
                    134,
                    181,
                    231,
                    223,
                    121,
                    222,
                    102,
                    195,
                    156,
                    214,
                    132,
                    204,
                    190,
                    167,
                    195,
                    127,
                    235,
                    171,
                    110,
                    221,
                    128,
                    226,
                    208,
                    191,
                    205,
                    173,
                    191,
                    128,
                    220,
                    126,
                    232,
                    108,
                    159,
                    211,
                    232,
                    182,
                    145,
                    224,
                    209,
                    160,
                    219,
                    170,
                    161,
                    122,
                    141,
                    204,
                    226,
                    187,
                    129,
                    199,
                    199,
                    214,
                    159,
                    176,
                    129,
                    187,
                    109,
                    212,
                    170,
                    191,
                    116,
                    202,
                    226,
                    166,
                    151,
                    170,
                    166,
                    193,
                    218,
                    109,
                    152,
                    220,
                    133,
                    152,
                    142,
                    131,
                    204,
                    153,
                    114,
                    144,
                    172,
                    176,
                    150,
                    129,
                    190,
                    226,
                    128,
                    106,
                    107,
                    159,
                    157,
                    192,
                    110,
                    115,
                    183,
                    233,
                    112,
                    146,
                    222,
                    216,
                    134,
                    174,
                    114,
                    211,
                    167,
                    214,
                    145,
                    120,
                    217,
                    113,
                    141,
                    140,
                    171,
                    163,
                    232,
                    131,
                    184,
                    225,
                    223,
                    121,
                    223,
                    105,
                    197,
                    160,
                    218,
                    131,
                    211,
                    194,
                    169,
                    189,
                    128,
                    228,
                    169,
                    108,
                    219,
                    124,
                    224,
                    214,
                    190,
                    205,
                    167,
                    190,
                    128,
                    217,
                    126,
                    228,
                    105,
                    162,
                    211,
                    227,
                    178,
                    146,
                    227,
                    208,
                    163,
                    225,
                    167,
                    162,
                    125,
                    144,
                    199,
                    226,
                    183,
                    136,
                    199,
                    204,
                    215,
                    155,
                    179,
                    133,
                    186,
                    111,
                    219,
                    173,
                    185,
                    118,
                    199,
                    226,
                    169,
                    144,
                    166,
                    166,
                    198,
                    222,
                    110,
                    154,
                    226,
                    135,
                    151,
                    146,
                    133,
                    205,
                    154,
                    116,
                    145,
                    174,
                    168,
                    156,
                    124,
                    196,
                    227,
                    122,
                    106,
                    110,
                    158,
                    154,
                    190,
                    110,
                    120,
                    180,
                    232,
                    110,
                    142,
                    222,
                    218,
                    138,
                    176,
                    115,
                    211,
                    168,
                    216,
                    147,
                    124,
                    215,
                    117,
                    139,
                    138,
                    171,
                    158,
                    232,
                    139,
                    178,
                    224,
                    224,
                    116,
                    223,
                    109,
                    193,
                    155,
                    221,
                    130,
                    212,
                    190,
                    169,
                    191,
                    122,
                    234,
                    175,
                    108,
                    220,
                    126,
                    227,
                    216,
                    188,
                    205,
                    172,
                    192,
                    129,
                    219,
                    127,
                    228,
                    105,
                    159,
                    205,
                    228,
                    178,
                    139,
                    232,
                    212,
                    162,
                    226,
                    171,
                    159,
                    120,
                    143,
                    200,
                    221,
                    184,
                    134,
                    200,
                    201,
                    210,
                    159,
                    178,
                    137,
                    190,
                    110,
                    213,
                    170,
                    193,
                    113,
                    196,
                    222,
                    174,
                    143,
                    169,
                    165,
                    194,
                    217,
                    113,
                    150,
                    223,
                    133,
                    149,
                    149,
                    130,
                    207,
                    157,
                    115,
                    147,
                    176
                  ],
                  "yaxis": "y"
                }
              ],
              "layout": {
                "legend": {
                  "tracegroupgap": 0
                },
                "margin": {
                  "t": 60
                },
                "template": {
                  "data": {
                    "bar": [
                      {
                        "error_x": {
                          "color": "#2a3f5f"
                        },
                        "error_y": {
                          "color": "#2a3f5f"
                        },
                        "marker": {
                          "line": {
                            "color": "#E5ECF6",
                            "width": 0.5
                          },
                          "pattern": {
                            "fillmode": "overlay",
                            "size": 10,
                            "solidity": 0.2
                          }
                        },
                        "type": "bar"
                      }
                    ],
                    "barpolar": [
                      {
                        "marker": {
                          "line": {
                            "color": "#E5ECF6",
                            "width": 0.5
                          },
                          "pattern": {
                            "fillmode": "overlay",
                            "size": 10,
                            "solidity": 0.2
                          }
                        },
                        "type": "barpolar"
                      }
                    ],
                    "carpet": [
                      {
                        "aaxis": {
                          "endlinecolor": "#2a3f5f",
                          "gridcolor": "white",
                          "linecolor": "white",
                          "minorgridcolor": "white",
                          "startlinecolor": "#2a3f5f"
                        },
                        "baxis": {
                          "endlinecolor": "#2a3f5f",
                          "gridcolor": "white",
                          "linecolor": "white",
                          "minorgridcolor": "white",
                          "startlinecolor": "#2a3f5f"
                        },
                        "type": "carpet"
                      }
                    ],
                    "choropleth": [
                      {
                        "colorbar": {
                          "outlinewidth": 0,
                          "ticks": ""
                        },
                        "type": "choropleth"
                      }
                    ],
                    "contour": [
                      {
                        "colorbar": {
                          "outlinewidth": 0,
                          "ticks": ""
                        },
                        "colorscale": [
                          [
                            0,
                            "#0d0887"
                          ],
                          [
                            0.1111111111111111,
                            "#46039f"
                          ],
                          [
                            0.2222222222222222,
                            "#7201a8"
                          ],
                          [
                            0.3333333333333333,
                            "#9c179e"
                          ],
                          [
                            0.4444444444444444,
                            "#bd3786"
                          ],
                          [
                            0.5555555555555556,
                            "#d8576b"
                          ],
                          [
                            0.6666666666666666,
                            "#ed7953"
                          ],
                          [
                            0.7777777777777778,
                            "#fb9f3a"
                          ],
                          [
                            0.8888888888888888,
                            "#fdca26"
                          ],
                          [
                            1,
                            "#f0f921"
                          ]
                        ],
                        "type": "contour"
                      }
                    ],
                    "contourcarpet": [
                      {
                        "colorbar": {
                          "outlinewidth": 0,
                          "ticks": ""
                        },
                        "type": "contourcarpet"
                      }
                    ],
                    "heatmap": [
                      {
                        "colorbar": {
                          "outlinewidth": 0,
                          "ticks": ""
                        },
                        "colorscale": [
                          [
                            0,
                            "#0d0887"
                          ],
                          [
                            0.1111111111111111,
                            "#46039f"
                          ],
                          [
                            0.2222222222222222,
                            "#7201a8"
                          ],
                          [
                            0.3333333333333333,
                            "#9c179e"
                          ],
                          [
                            0.4444444444444444,
                            "#bd3786"
                          ],
                          [
                            0.5555555555555556,
                            "#d8576b"
                          ],
                          [
                            0.6666666666666666,
                            "#ed7953"
                          ],
                          [
                            0.7777777777777778,
                            "#fb9f3a"
                          ],
                          [
                            0.8888888888888888,
                            "#fdca26"
                          ],
                          [
                            1,
                            "#f0f921"
                          ]
                        ],
                        "type": "heatmap"
                      }
                    ],
                    "heatmapgl": [
                      {
                        "colorbar": {
                          "outlinewidth": 0,
                          "ticks": ""
                        },
                        "colorscale": [
                          [
                            0,
                            "#0d0887"
                          ],
                          [
                            0.1111111111111111,
                            "#46039f"
                          ],
                          [
                            0.2222222222222222,
                            "#7201a8"
                          ],
                          [
                            0.3333333333333333,
                            "#9c179e"
                          ],
                          [
                            0.4444444444444444,
                            "#bd3786"
                          ],
                          [
                            0.5555555555555556,
                            "#d8576b"
                          ],
                          [
                            0.6666666666666666,
                            "#ed7953"
                          ],
                          [
                            0.7777777777777778,
                            "#fb9f3a"
                          ],
                          [
                            0.8888888888888888,
                            "#fdca26"
                          ],
                          [
                            1,
                            "#f0f921"
                          ]
                        ],
                        "type": "heatmapgl"
                      }
                    ],
                    "histogram": [
                      {
                        "marker": {
                          "pattern": {
                            "fillmode": "overlay",
                            "size": 10,
                            "solidity": 0.2
                          }
                        },
                        "type": "histogram"
                      }
                    ],
                    "histogram2d": [
                      {
                        "colorbar": {
                          "outlinewidth": 0,
                          "ticks": ""
                        },
                        "colorscale": [
                          [
                            0,
                            "#0d0887"
                          ],
                          [
                            0.1111111111111111,
                            "#46039f"
                          ],
                          [
                            0.2222222222222222,
                            "#7201a8"
                          ],
                          [
                            0.3333333333333333,
                            "#9c179e"
                          ],
                          [
                            0.4444444444444444,
                            "#bd3786"
                          ],
                          [
                            0.5555555555555556,
                            "#d8576b"
                          ],
                          [
                            0.6666666666666666,
                            "#ed7953"
                          ],
                          [
                            0.7777777777777778,
                            "#fb9f3a"
                          ],
                          [
                            0.8888888888888888,
                            "#fdca26"
                          ],
                          [
                            1,
                            "#f0f921"
                          ]
                        ],
                        "type": "histogram2d"
                      }
                    ],
                    "histogram2dcontour": [
                      {
                        "colorbar": {
                          "outlinewidth": 0,
                          "ticks": ""
                        },
                        "colorscale": [
                          [
                            0,
                            "#0d0887"
                          ],
                          [
                            0.1111111111111111,
                            "#46039f"
                          ],
                          [
                            0.2222222222222222,
                            "#7201a8"
                          ],
                          [
                            0.3333333333333333,
                            "#9c179e"
                          ],
                          [
                            0.4444444444444444,
                            "#bd3786"
                          ],
                          [
                            0.5555555555555556,
                            "#d8576b"
                          ],
                          [
                            0.6666666666666666,
                            "#ed7953"
                          ],
                          [
                            0.7777777777777778,
                            "#fb9f3a"
                          ],
                          [
                            0.8888888888888888,
                            "#fdca26"
                          ],
                          [
                            1,
                            "#f0f921"
                          ]
                        ],
                        "type": "histogram2dcontour"
                      }
                    ],
                    "mesh3d": [
                      {
                        "colorbar": {
                          "outlinewidth": 0,
                          "ticks": ""
                        },
                        "type": "mesh3d"
                      }
                    ],
                    "parcoords": [
                      {
                        "line": {
                          "colorbar": {
                            "outlinewidth": 0,
                            "ticks": ""
                          }
                        },
                        "type": "parcoords"
                      }
                    ],
                    "pie": [
                      {
                        "automargin": true,
                        "type": "pie"
                      }
                    ],
                    "scatter": [
                      {
                        "fillpattern": {
                          "fillmode": "overlay",
                          "size": 10,
                          "solidity": 0.2
                        },
                        "type": "scatter"
                      }
                    ],
                    "scatter3d": [
                      {
                        "line": {
                          "colorbar": {
                            "outlinewidth": 0,
                            "ticks": ""
                          }
                        },
                        "marker": {
                          "colorbar": {
                            "outlinewidth": 0,
                            "ticks": ""
                          }
                        },
                        "type": "scatter3d"
                      }
                    ],
                    "scattercarpet": [
                      {
                        "marker": {
                          "colorbar": {
                            "outlinewidth": 0,
                            "ticks": ""
                          }
                        },
                        "type": "scattercarpet"
                      }
                    ],
                    "scattergeo": [
                      {
                        "marker": {
                          "colorbar": {
                            "outlinewidth": 0,
                            "ticks": ""
                          }
                        },
                        "type": "scattergeo"
                      }
                    ],
                    "scattergl": [
                      {
                        "marker": {
                          "colorbar": {
                            "outlinewidth": 0,
                            "ticks": ""
                          }
                        },
                        "type": "scattergl"
                      }
                    ],
                    "scattermapbox": [
                      {
                        "marker": {
                          "colorbar": {
                            "outlinewidth": 0,
                            "ticks": ""
                          }
                        },
                        "type": "scattermapbox"
                      }
                    ],
                    "scatterpolar": [
                      {
                        "marker": {
                          "colorbar": {
                            "outlinewidth": 0,
                            "ticks": ""
                          }
                        },
                        "type": "scatterpolar"
                      }
                    ],
                    "scatterpolargl": [
                      {
                        "marker": {
                          "colorbar": {
                            "outlinewidth": 0,
                            "ticks": ""
                          }
                        },
                        "type": "scatterpolargl"
                      }
                    ],
                    "scatterternary": [
                      {
                        "marker": {
                          "colorbar": {
                            "outlinewidth": 0,
                            "ticks": ""
                          }
                        },
                        "type": "scatterternary"
                      }
                    ],
                    "surface": [
                      {
                        "colorbar": {
                          "outlinewidth": 0,
                          "ticks": ""
                        },
                        "colorscale": [
                          [
                            0,
                            "#0d0887"
                          ],
                          [
                            0.1111111111111111,
                            "#46039f"
                          ],
                          [
                            0.2222222222222222,
                            "#7201a8"
                          ],
                          [
                            0.3333333333333333,
                            "#9c179e"
                          ],
                          [
                            0.4444444444444444,
                            "#bd3786"
                          ],
                          [
                            0.5555555555555556,
                            "#d8576b"
                          ],
                          [
                            0.6666666666666666,
                            "#ed7953"
                          ],
                          [
                            0.7777777777777778,
                            "#fb9f3a"
                          ],
                          [
                            0.8888888888888888,
                            "#fdca26"
                          ],
                          [
                            1,
                            "#f0f921"
                          ]
                        ],
                        "type": "surface"
                      }
                    ],
                    "table": [
                      {
                        "cells": {
                          "fill": {
                            "color": "#EBF0F8"
                          },
                          "line": {
                            "color": "white"
                          }
                        },
                        "header": {
                          "fill": {
                            "color": "#C8D4E3"
                          },
                          "line": {
                            "color": "white"
                          }
                        },
                        "type": "table"
                      }
                    ]
                  },
                  "layout": {
                    "annotationdefaults": {
                      "arrowcolor": "#2a3f5f",
                      "arrowhead": 0,
                      "arrowwidth": 1
                    },
                    "autotypenumbers": "strict",
                    "coloraxis": {
                      "colorbar": {
                        "outlinewidth": 0,
                        "ticks": ""
                      }
                    },
                    "colorscale": {
                      "diverging": [
                        [
                          0,
                          "#8e0152"
                        ],
                        [
                          0.1,
                          "#c51b7d"
                        ],
                        [
                          0.2,
                          "#de77ae"
                        ],
                        [
                          0.3,
                          "#f1b6da"
                        ],
                        [
                          0.4,
                          "#fde0ef"
                        ],
                        [
                          0.5,
                          "#f7f7f7"
                        ],
                        [
                          0.6,
                          "#e6f5d0"
                        ],
                        [
                          0.7,
                          "#b8e186"
                        ],
                        [
                          0.8,
                          "#7fbc41"
                        ],
                        [
                          0.9,
                          "#4d9221"
                        ],
                        [
                          1,
                          "#276419"
                        ]
                      ],
                      "sequential": [
                        [
                          0,
                          "#0d0887"
                        ],
                        [
                          0.1111111111111111,
                          "#46039f"
                        ],
                        [
                          0.2222222222222222,
                          "#7201a8"
                        ],
                        [
                          0.3333333333333333,
                          "#9c179e"
                        ],
                        [
                          0.4444444444444444,
                          "#bd3786"
                        ],
                        [
                          0.5555555555555556,
                          "#d8576b"
                        ],
                        [
                          0.6666666666666666,
                          "#ed7953"
                        ],
                        [
                          0.7777777777777778,
                          "#fb9f3a"
                        ],
                        [
                          0.8888888888888888,
                          "#fdca26"
                        ],
                        [
                          1,
                          "#f0f921"
                        ]
                      ],
                      "sequentialminus": [
                        [
                          0,
                          "#0d0887"
                        ],
                        [
                          0.1111111111111111,
                          "#46039f"
                        ],
                        [
                          0.2222222222222222,
                          "#7201a8"
                        ],
                        [
                          0.3333333333333333,
                          "#9c179e"
                        ],
                        [
                          0.4444444444444444,
                          "#bd3786"
                        ],
                        [
                          0.5555555555555556,
                          "#d8576b"
                        ],
                        [
                          0.6666666666666666,
                          "#ed7953"
                        ],
                        [
                          0.7777777777777778,
                          "#fb9f3a"
                        ],
                        [
                          0.8888888888888888,
                          "#fdca26"
                        ],
                        [
                          1,
                          "#f0f921"
                        ]
                      ]
                    },
                    "colorway": [
                      "#636efa",
                      "#EF553B",
                      "#00cc96",
                      "#ab63fa",
                      "#FFA15A",
                      "#19d3f3",
                      "#FF6692",
                      "#B6E880",
                      "#FF97FF",
                      "#FECB52"
                    ],
                    "font": {
                      "color": "#2a3f5f"
                    },
                    "geo": {
                      "bgcolor": "white",
                      "lakecolor": "white",
                      "landcolor": "#E5ECF6",
                      "showlakes": true,
                      "showland": true,
                      "subunitcolor": "white"
                    },
                    "hoverlabel": {
                      "align": "left"
                    },
                    "hovermode": "closest",
                    "mapbox": {
                      "style": "light"
                    },
                    "paper_bgcolor": "white",
                    "plot_bgcolor": "#E5ECF6",
                    "polar": {
                      "angularaxis": {
                        "gridcolor": "white",
                        "linecolor": "white",
                        "ticks": ""
                      },
                      "bgcolor": "#E5ECF6",
                      "radialaxis": {
                        "gridcolor": "white",
                        "linecolor": "white",
                        "ticks": ""
                      }
                    },
                    "scene": {
                      "xaxis": {
                        "backgroundcolor": "#E5ECF6",
                        "gridcolor": "white",
                        "gridwidth": 2,
                        "linecolor": "white",
                        "showbackground": true,
                        "ticks": "",
                        "zerolinecolor": "white"
                      },
                      "yaxis": {
                        "backgroundcolor": "#E5ECF6",
                        "gridcolor": "white",
                        "gridwidth": 2,
                        "linecolor": "white",
                        "showbackground": true,
                        "ticks": "",
                        "zerolinecolor": "white"
                      },
                      "zaxis": {
                        "backgroundcolor": "#E5ECF6",
                        "gridcolor": "white",
                        "gridwidth": 2,
                        "linecolor": "white",
                        "showbackground": true,
                        "ticks": "",
                        "zerolinecolor": "white"
                      }
                    },
                    "shapedefaults": {
                      "line": {
                        "color": "#2a3f5f"
                      }
                    },
                    "ternary": {
                      "aaxis": {
                        "gridcolor": "white",
                        "linecolor": "white",
                        "ticks": ""
                      },
                      "baxis": {
                        "gridcolor": "white",
                        "linecolor": "white",
                        "ticks": ""
                      },
                      "bgcolor": "#E5ECF6",
                      "caxis": {
                        "gridcolor": "white",
                        "linecolor": "white",
                        "ticks": ""
                      }
                    },
                    "title": {
                      "x": 0.05
                    },
                    "xaxis": {
                      "automargin": true,
                      "gridcolor": "white",
                      "linecolor": "white",
                      "ticks": "",
                      "title": {
                        "standoff": 15
                      },
                      "zerolinecolor": "white",
                      "zerolinewidth": 2
                    },
                    "yaxis": {
                      "automargin": true,
                      "gridcolor": "white",
                      "linecolor": "white",
                      "ticks": "",
                      "title": {
                        "standoff": 15
                      },
                      "zerolinecolor": "white",
                      "zerolinewidth": 2
                    }
                  }
                },
                "xaxis": {
                  "anchor": "y",
                  "domain": [
                    0,
                    1
                  ],
                  "title": {
                    "text": "x"
                  }
                },
                "yaxis": {
                  "anchor": "x",
                  "domain": [
                    0,
                    1
                  ],
                  "title": {
                    "text": "y"
                  }
                }
              }
            },
            "text/html": [
              "<div>                            <div id=\"e1374bdf-4305-42c3-af0e-b4f409c57807\" class=\"plotly-graph-div\" style=\"height:525px; width:100%;\"></div>            <script type=\"text/javascript\">                require([\"plotly\"], function(Plotly) {                    window.PLOTLYENV=window.PLOTLYENV || {};                                    if (document.getElementById(\"e1374bdf-4305-42c3-af0e-b4f409c57807\")) {                    Plotly.newPlot(                        \"e1374bdf-4305-42c3-af0e-b4f409c57807\",                        [{\"hovertemplate\":\"x=%{x}<br>y=%{y}<extra></extra>\",\"legendgroup\":\"\",\"marker\":{\"color\":\"#636efa\",\"symbol\":\"circle\"},\"mode\":\"markers\",\"name\":\"\",\"orientation\":\"v\",\"showlegend\":false,\"x\":[102.0,115.0,115.0,140.0,130.0,198.0,114.0,145.0,191.0,186.0,104.0,188.0,96.0,156.0,125.0,178.0,109.0,168.0,152.0,133.0,153.0,107.0,199.0,140.0,95.0,183.0,108.0,190.0,174.0,149.0,169.0,138.0,151.0,109.0,178.0,106.0,195.0,96.0,129.0,166.0,197.0,148.0,117.0,193.0,170.0,130.0,183.0,134.0,128.0,105.0,115.0,166.0,183.0,149.0,110.0,164.0,157.0,170.0,124.0,145.0,113.0,150.0,100.0,143.16,139.0,150.0,101.0,157.0,187.0,137.0,121.0,132.0,130.0,156.0,180.0,100.0,122.0,185.0,113.0,123.0,119.0,113.0,168.0,126.0,102.0,116.0,144.0,140.0,124.0,108.0,154.0,185.0,106.0,97.0,96.0,129.0,124.0,149.0,97.0,102.0,146.0,143.16,100.0,118.0,179.0,179.0,113.0,142.0,101.0,174.0,131.0,179.0,122.0,105.0,176.0,103.0,120.0,118.0,143.0,134.0,203.0,116.0,150.0,192.0,187.0,107.0,192.0,97.0,157.0,128.0,183.0,112.0,173.0,156.0,137.0,156.0,112.0,203.0,141.0,97.0,186.0,113.0,195.0,175.0,154.0,173.0,143.16,152.0,114.0,181.0,111.0,200.0,100.0,134.0,167.0,198.0,151.0,121.0,196.0,171.0,135.0,186.0,138.0,133.0,107.0,120.0,168.0,184.0,154.0,115.0,168.0,161.0,171.0,129.0,150.0,118.0,154.0,103.0,180.0,141.0,152.0,104.0,159.0,191.0,142.0,123.0,135.0,132.0,158.0,181.0,105.0,126.0,186.0,116.0,124.0,143.16,115.0,173.0,128.0,103.0,120.0,146.0,145.0,125.0,109.0,156.0,187.0,110.0,100.0,97.0,133.0,128.0,154.0,100.0,104.0,143.16,203.0,104.0,119.0,181.0,180.0,116.0,144.0,102.0,176.0,135.0,184.0,124.0,110.0,180.0,103.0,117.0,120.0,145.0,133.0,201.0,117.0,146.0,195.0,188.0,108.0,191.0,100.0,158.0,127.0,181.0,113.0,171.0,153.0,137.0,154.0,112.0,201.0,141.0,100.0,185.0,111.0,191.0,176.0,150.0,171.0,140.0,153.0,111.0,180.0,107.0,197.0,101.0,132.0,168.0,200.0,150.0,119.0,197.0,172.0,134.0,185.0,135.0,132.0,109.0,116.0,170.0,187.0,154.0,111.0,169.0,161.0,174.0,125.0,148.0,117.0,154.0,104.0,183.0,142.0,155.0,105.0,160.0,191.0,140.0,123.0,136.0,132.0,158.0,182.0,104.0,126.0,188.0,118.0,127.0,123.0,118.0,169.0,128.0,106.0,119.0,147.0,141.0,125.0,109.0,158.0,190.0,110.0,99.0,98.0,134.0,129.0,154.0,100.0,107.0,149.0,203.0,101.0,119.0,182.0,181.0,115.0,145.0,102.0,176.0,134.0,183.0,123.0,108.0,177.0,104.0,117.0,117.0,145.0,134.0,199.0,115.0,149.0,192.0,188.0,107.0,190.0,98.0,158.0,128.0,180.0,110.0,172.0,157.0,137.0,158.0,110.0,203.0,145.0,96.0,186.0,110.0,194.0,177.0,152.0,172.0,140.0,154.0,113.0,179.0,111.0,196.0,101.0,131.0,171.0,199.0,151.0,121.0,196.0,174.0,135.0,184.0,137.0,129.0,108.0,116.0,168.0,184.0,151.0,114.0,167.0,160.0,175.0,127.0,146.0,118.0,151.0,105.0,180.0,140.0,155.0,106.0,160.0,192.0,138.0,122.0,135.0,132.0,158.0,184.0,101.0,126.0,188.0,118.0,127.0,123.0,117.0,172.0,127.0,104.0,121.0,148.0,141.0,128.0,113.0,155.0,189.0,108.0,98.0,100.0,134.0,125.0,151.0,100.0,107.0,147.0,200.0,101.0,120.0,181.0,182.0,117.0,145.0,106.0,179.0,134.0,180.0,126.0,110.0,180.0,103.0,116.0,119.0,144.0,133.0,199.0,115.0,150.0,192.0,188.0,109.0,189.0,101.0,159.0,128.0,182.0,111.0,171.0,154.0,134.0,157.0,112.0,203.0,142.0,97.0,187.0,111.0,194.0,176.0,153.0,171.0,142.0,153.0,113.0,183.0,108.0,200.0,99.0,131.0,171.0,200.0,152.0,119.0,196.0,173.0,132.0,185.0,138.0,132.0,110.0,119.0,167.0,188.0,151.0,112.0,166.0,158.0,172.0,127.0,150.0,115.0,151.0,103.0,181.0,141.0,152.0,105.0,162.0,190.0,141.0,122.0,136.0,131.0,157.0,181.0,103.0,127.0,189.0,114.0,125.0,123.0,116.0,172.0,129.0,107.0,117.0,148.0],\"xaxis\":\"x\",\"y\":[111,135,136,167,158,227,131,176,223,221,116,222,102,192,152,213,125,204,189,163,189,122,228,168,102,218,123,222,208,183,204,167,188,126,213,122,225,105,155,203,225,177,139,224,207,158,218,164,154,118,138,199,219,183,128,197,196,208,152,175,129,185,107,211,167,185,110,194,221,166,143,163,158,191,216,106,146,220,131,147,141,130,204,152,111,139,172,168,148,123,189,220,120,106,105,157,149,185,106,115,177,230,108,140,214,216,130,169,110,209,162,214,145,116,209,116,139,143,168,158,232,136,180,228,222,117,224,104,195,156,213,133,208,195,163,195,124,231,172,104,221,128,222,214,184,204,171,195,132,214,123,233,107,162,204,227,185,142,225,212,161,220,168,155,125,144,201,222,189,132,204,201,211,156,179,129,185,107,213,172,193,114,202,222,168,146,170,165,196,224,108,149,224,136,152,143,135,211,156,115,143,179,173,148,127,194,225,127,106,112,164,151,191,110,116,180,235,108,141,219,219,138,169,116,212,162,220,151,119,212,111,142,138,172,158,228,134,181,231,223,121,222,102,195,156,214,132,204,190,167,195,127,235,171,110,221,128,226,208,191,205,173,191,128,220,126,232,108,159,211,232,182,145,224,209,160,219,170,161,122,141,204,226,187,129,199,199,214,159,176,129,187,109,212,170,191,116,202,226,166,151,170,166,193,218,109,152,220,133,152,142,131,204,153,114,144,172,176,150,129,190,226,128,106,107,159,157,192,110,115,183,233,112,146,222,216,134,174,114,211,167,214,145,120,217,113,141,140,171,163,232,131,184,225,223,121,223,105,197,160,218,131,211,194,169,189,128,228,169,108,219,124,224,214,190,205,167,190,128,217,126,228,105,162,211,227,178,146,227,208,163,225,167,162,125,144,199,226,183,136,199,204,215,155,179,133,186,111,219,173,185,118,199,226,169,144,166,166,198,222,110,154,226,135,151,146,133,205,154,116,145,174,168,156,124,196,227,122,106,110,158,154,190,110,120,180,232,110,142,222,218,138,176,115,211,168,216,147,124,215,117,139,138,171,158,232,139,178,224,224,116,223,109,193,155,221,130,212,190,169,191,122,234,175,108,220,126,227,216,188,205,172,192,129,219,127,228,105,159,205,228,178,139,232,212,162,226,171,159,120,143,200,221,184,134,200,201,210,159,178,137,190,110,213,170,193,113,196,222,174,143,169,165,194,217,113,150,223,133,149,149,130,207,157,115,147,176],\"yaxis\":\"y\",\"type\":\"scatter\"}],                        {\"template\":{\"data\":{\"histogram2dcontour\":[{\"type\":\"histogram2dcontour\",\"colorbar\":{\"outlinewidth\":0,\"ticks\":\"\"},\"colorscale\":[[0.0,\"#0d0887\"],[0.1111111111111111,\"#46039f\"],[0.2222222222222222,\"#7201a8\"],[0.3333333333333333,\"#9c179e\"],[0.4444444444444444,\"#bd3786\"],[0.5555555555555556,\"#d8576b\"],[0.6666666666666666,\"#ed7953\"],[0.7777777777777778,\"#fb9f3a\"],[0.8888888888888888,\"#fdca26\"],[1.0,\"#f0f921\"]]}],\"choropleth\":[{\"type\":\"choropleth\",\"colorbar\":{\"outlinewidth\":0,\"ticks\":\"\"}}],\"histogram2d\":[{\"type\":\"histogram2d\",\"colorbar\":{\"outlinewidth\":0,\"ticks\":\"\"},\"colorscale\":[[0.0,\"#0d0887\"],[0.1111111111111111,\"#46039f\"],[0.2222222222222222,\"#7201a8\"],[0.3333333333333333,\"#9c179e\"],[0.4444444444444444,\"#bd3786\"],[0.5555555555555556,\"#d8576b\"],[0.6666666666666666,\"#ed7953\"],[0.7777777777777778,\"#fb9f3a\"],[0.8888888888888888,\"#fdca26\"],[1.0,\"#f0f921\"]]}],\"heatmap\":[{\"type\":\"heatmap\",\"colorbar\":{\"outlinewidth\":0,\"ticks\":\"\"},\"colorscale\":[[0.0,\"#0d0887\"],[0.1111111111111111,\"#46039f\"],[0.2222222222222222,\"#7201a8\"],[0.3333333333333333,\"#9c179e\"],[0.4444444444444444,\"#bd3786\"],[0.5555555555555556,\"#d8576b\"],[0.6666666666666666,\"#ed7953\"],[0.7777777777777778,\"#fb9f3a\"],[0.8888888888888888,\"#fdca26\"],[1.0,\"#f0f921\"]]}],\"heatmapgl\":[{\"type\":\"heatmapgl\",\"colorbar\":{\"outlinewidth\":0,\"ticks\":\"\"},\"colorscale\":[[0.0,\"#0d0887\"],[0.1111111111111111,\"#46039f\"],[0.2222222222222222,\"#7201a8\"],[0.3333333333333333,\"#9c179e\"],[0.4444444444444444,\"#bd3786\"],[0.5555555555555556,\"#d8576b\"],[0.6666666666666666,\"#ed7953\"],[0.7777777777777778,\"#fb9f3a\"],[0.8888888888888888,\"#fdca26\"],[1.0,\"#f0f921\"]]}],\"contourcarpet\":[{\"type\":\"contourcarpet\",\"colorbar\":{\"outlinewidth\":0,\"ticks\":\"\"}}],\"contour\":[{\"type\":\"contour\",\"colorbar\":{\"outlinewidth\":0,\"ticks\":\"\"},\"colorscale\":[[0.0,\"#0d0887\"],[0.1111111111111111,\"#46039f\"],[0.2222222222222222,\"#7201a8\"],[0.3333333333333333,\"#9c179e\"],[0.4444444444444444,\"#bd3786\"],[0.5555555555555556,\"#d8576b\"],[0.6666666666666666,\"#ed7953\"],[0.7777777777777778,\"#fb9f3a\"],[0.8888888888888888,\"#fdca26\"],[1.0,\"#f0f921\"]]}],\"surface\":[{\"type\":\"surface\",\"colorbar\":{\"outlinewidth\":0,\"ticks\":\"\"},\"colorscale\":[[0.0,\"#0d0887\"],[0.1111111111111111,\"#46039f\"],[0.2222222222222222,\"#7201a8\"],[0.3333333333333333,\"#9c179e\"],[0.4444444444444444,\"#bd3786\"],[0.5555555555555556,\"#d8576b\"],[0.6666666666666666,\"#ed7953\"],[0.7777777777777778,\"#fb9f3a\"],[0.8888888888888888,\"#fdca26\"],[1.0,\"#f0f921\"]]}],\"mesh3d\":[{\"type\":\"mesh3d\",\"colorbar\":{\"outlinewidth\":0,\"ticks\":\"\"}}],\"scatter\":[{\"fillpattern\":{\"fillmode\":\"overlay\",\"size\":10,\"solidity\":0.2},\"type\":\"scatter\"}],\"parcoords\":[{\"type\":\"parcoords\",\"line\":{\"colorbar\":{\"outlinewidth\":0,\"ticks\":\"\"}}}],\"scatterpolargl\":[{\"type\":\"scatterpolargl\",\"marker\":{\"colorbar\":{\"outlinewidth\":0,\"ticks\":\"\"}}}],\"bar\":[{\"error_x\":{\"color\":\"#2a3f5f\"},\"error_y\":{\"color\":\"#2a3f5f\"},\"marker\":{\"line\":{\"color\":\"#E5ECF6\",\"width\":0.5},\"pattern\":{\"fillmode\":\"overlay\",\"size\":10,\"solidity\":0.2}},\"type\":\"bar\"}],\"scattergeo\":[{\"type\":\"scattergeo\",\"marker\":{\"colorbar\":{\"outlinewidth\":0,\"ticks\":\"\"}}}],\"scatterpolar\":[{\"type\":\"scatterpolar\",\"marker\":{\"colorbar\":{\"outlinewidth\":0,\"ticks\":\"\"}}}],\"histogram\":[{\"marker\":{\"pattern\":{\"fillmode\":\"overlay\",\"size\":10,\"solidity\":0.2}},\"type\":\"histogram\"}],\"scattergl\":[{\"type\":\"scattergl\",\"marker\":{\"colorbar\":{\"outlinewidth\":0,\"ticks\":\"\"}}}],\"scatter3d\":[{\"type\":\"scatter3d\",\"line\":{\"colorbar\":{\"outlinewidth\":0,\"ticks\":\"\"}},\"marker\":{\"colorbar\":{\"outlinewidth\":0,\"ticks\":\"\"}}}],\"scattermapbox\":[{\"type\":\"scattermapbox\",\"marker\":{\"colorbar\":{\"outlinewidth\":0,\"ticks\":\"\"}}}],\"scatterternary\":[{\"type\":\"scatterternary\",\"marker\":{\"colorbar\":{\"outlinewidth\":0,\"ticks\":\"\"}}}],\"scattercarpet\":[{\"type\":\"scattercarpet\",\"marker\":{\"colorbar\":{\"outlinewidth\":0,\"ticks\":\"\"}}}],\"carpet\":[{\"aaxis\":{\"endlinecolor\":\"#2a3f5f\",\"gridcolor\":\"white\",\"linecolor\":\"white\",\"minorgridcolor\":\"white\",\"startlinecolor\":\"#2a3f5f\"},\"baxis\":{\"endlinecolor\":\"#2a3f5f\",\"gridcolor\":\"white\",\"linecolor\":\"white\",\"minorgridcolor\":\"white\",\"startlinecolor\":\"#2a3f5f\"},\"type\":\"carpet\"}],\"table\":[{\"cells\":{\"fill\":{\"color\":\"#EBF0F8\"},\"line\":{\"color\":\"white\"}},\"header\":{\"fill\":{\"color\":\"#C8D4E3\"},\"line\":{\"color\":\"white\"}},\"type\":\"table\"}],\"barpolar\":[{\"marker\":{\"line\":{\"color\":\"#E5ECF6\",\"width\":0.5},\"pattern\":{\"fillmode\":\"overlay\",\"size\":10,\"solidity\":0.2}},\"type\":\"barpolar\"}],\"pie\":[{\"automargin\":true,\"type\":\"pie\"}]},\"layout\":{\"autotypenumbers\":\"strict\",\"colorway\":[\"#636efa\",\"#EF553B\",\"#00cc96\",\"#ab63fa\",\"#FFA15A\",\"#19d3f3\",\"#FF6692\",\"#B6E880\",\"#FF97FF\",\"#FECB52\"],\"font\":{\"color\":\"#2a3f5f\"},\"hovermode\":\"closest\",\"hoverlabel\":{\"align\":\"left\"},\"paper_bgcolor\":\"white\",\"plot_bgcolor\":\"#E5ECF6\",\"polar\":{\"bgcolor\":\"#E5ECF6\",\"angularaxis\":{\"gridcolor\":\"white\",\"linecolor\":\"white\",\"ticks\":\"\"},\"radialaxis\":{\"gridcolor\":\"white\",\"linecolor\":\"white\",\"ticks\":\"\"}},\"ternary\":{\"bgcolor\":\"#E5ECF6\",\"aaxis\":{\"gridcolor\":\"white\",\"linecolor\":\"white\",\"ticks\":\"\"},\"baxis\":{\"gridcolor\":\"white\",\"linecolor\":\"white\",\"ticks\":\"\"},\"caxis\":{\"gridcolor\":\"white\",\"linecolor\":\"white\",\"ticks\":\"\"}},\"coloraxis\":{\"colorbar\":{\"outlinewidth\":0,\"ticks\":\"\"}},\"colorscale\":{\"sequential\":[[0.0,\"#0d0887\"],[0.1111111111111111,\"#46039f\"],[0.2222222222222222,\"#7201a8\"],[0.3333333333333333,\"#9c179e\"],[0.4444444444444444,\"#bd3786\"],[0.5555555555555556,\"#d8576b\"],[0.6666666666666666,\"#ed7953\"],[0.7777777777777778,\"#fb9f3a\"],[0.8888888888888888,\"#fdca26\"],[1.0,\"#f0f921\"]],\"sequentialminus\":[[0.0,\"#0d0887\"],[0.1111111111111111,\"#46039f\"],[0.2222222222222222,\"#7201a8\"],[0.3333333333333333,\"#9c179e\"],[0.4444444444444444,\"#bd3786\"],[0.5555555555555556,\"#d8576b\"],[0.6666666666666666,\"#ed7953\"],[0.7777777777777778,\"#fb9f3a\"],[0.8888888888888888,\"#fdca26\"],[1.0,\"#f0f921\"]],\"diverging\":[[0,\"#8e0152\"],[0.1,\"#c51b7d\"],[0.2,\"#de77ae\"],[0.3,\"#f1b6da\"],[0.4,\"#fde0ef\"],[0.5,\"#f7f7f7\"],[0.6,\"#e6f5d0\"],[0.7,\"#b8e186\"],[0.8,\"#7fbc41\"],[0.9,\"#4d9221\"],[1,\"#276419\"]]},\"xaxis\":{\"gridcolor\":\"white\",\"linecolor\":\"white\",\"ticks\":\"\",\"title\":{\"standoff\":15},\"zerolinecolor\":\"white\",\"automargin\":true,\"zerolinewidth\":2},\"yaxis\":{\"gridcolor\":\"white\",\"linecolor\":\"white\",\"ticks\":\"\",\"title\":{\"standoff\":15},\"zerolinecolor\":\"white\",\"automargin\":true,\"zerolinewidth\":2},\"scene\":{\"xaxis\":{\"backgroundcolor\":\"#E5ECF6\",\"gridcolor\":\"white\",\"linecolor\":\"white\",\"showbackground\":true,\"ticks\":\"\",\"zerolinecolor\":\"white\",\"gridwidth\":2},\"yaxis\":{\"backgroundcolor\":\"#E5ECF6\",\"gridcolor\":\"white\",\"linecolor\":\"white\",\"showbackground\":true,\"ticks\":\"\",\"zerolinecolor\":\"white\",\"gridwidth\":2},\"zaxis\":{\"backgroundcolor\":\"#E5ECF6\",\"gridcolor\":\"white\",\"linecolor\":\"white\",\"showbackground\":true,\"ticks\":\"\",\"zerolinecolor\":\"white\",\"gridwidth\":2}},\"shapedefaults\":{\"line\":{\"color\":\"#2a3f5f\"}},\"annotationdefaults\":{\"arrowcolor\":\"#2a3f5f\",\"arrowhead\":0,\"arrowwidth\":1},\"geo\":{\"bgcolor\":\"white\",\"landcolor\":\"#E5ECF6\",\"subunitcolor\":\"white\",\"showland\":true,\"showlakes\":true,\"lakecolor\":\"white\"},\"title\":{\"x\":0.05},\"mapbox\":{\"style\":\"light\"}}},\"xaxis\":{\"anchor\":\"y\",\"domain\":[0.0,1.0],\"title\":{\"text\":\"x\"}},\"yaxis\":{\"anchor\":\"x\",\"domain\":[0.0,1.0],\"title\":{\"text\":\"y\"}},\"legend\":{\"tracegroupgap\":0},\"margin\":{\"t\":60}},                        {\"responsive\": true}                    ).then(function(){\n",
              "                            \n",
              "var gd = document.getElementById('e1374bdf-4305-42c3-af0e-b4f409c57807');\n",
              "var x = new MutationObserver(function (mutations, observer) {{\n",
              "        var display = window.getComputedStyle(gd).display;\n",
              "        if (!display || display === 'none') {{\n",
              "            console.log([gd, 'removed!']);\n",
              "            Plotly.purge(gd);\n",
              "            observer.disconnect();\n",
              "        }}\n",
              "}});\n",
              "\n",
              "// Listen for the removal of the full notebook cells\n",
              "var notebookContainer = gd.closest('#notebook-container');\n",
              "if (notebookContainer) {{\n",
              "    x.observe(notebookContainer, {childList: true});\n",
              "}}\n",
              "\n",
              "// Listen for the clearing of the current output cell\n",
              "var outputEl = gd.closest('.output');\n",
              "if (outputEl) {{\n",
              "    x.observe(outputEl, {childList: true});\n",
              "}}\n",
              "\n",
              "                        })                };                });            </script>        </div>"
            ]
          },
          "metadata": {},
          "output_type": "display_data"
        }
      ],
      "source": [
        "grafico = px.scatter(x = x.ravel(), y = y)\n",
        "grafico.show()"
      ]
    },
    {
      "cell_type": "code",
      "execution_count": null,
      "id": "10fa9b74",
      "metadata": {
        "scrolled": false,
        "id": "10fa9b74",
        "outputId": "4b330e28-20cb-421b-8e51-171cff861e27"
      },
      "outputs": [
        {
          "data": {
            "application/vnd.plotly.v1+json": {
              "config": {
                "plotlyServerURL": "https://plot.ly"
              },
              "data": [
                {
                  "hovertemplate": "x=%{x}<br>y=%{y}<extra></extra>",
                  "legendgroup": "",
                  "marker": {
                    "color": "#636efa",
                    "symbol": "circle"
                  },
                  "mode": "markers",
                  "name": "",
                  "orientation": "v",
                  "showlegend": false,
                  "type": "scatter",
                  "x": [
                    102,
                    115,
                    115,
                    140,
                    130,
                    198,
                    114,
                    145,
                    191,
                    186,
                    104,
                    188,
                    96,
                    156,
                    125,
                    178,
                    109,
                    168,
                    152,
                    133,
                    153,
                    107,
                    199,
                    140,
                    95,
                    183,
                    108,
                    190,
                    174,
                    149,
                    169,
                    138,
                    151,
                    109,
                    178,
                    106,
                    195,
                    96,
                    129,
                    166,
                    197,
                    148,
                    117,
                    193,
                    170,
                    130,
                    183,
                    134,
                    128,
                    105,
                    115,
                    166,
                    183,
                    149,
                    110,
                    164,
                    157,
                    170,
                    124,
                    145,
                    113,
                    150,
                    100,
                    143.16,
                    139,
                    150,
                    101,
                    157,
                    187,
                    137,
                    121,
                    132,
                    130,
                    156,
                    180,
                    100,
                    122,
                    185,
                    113,
                    123,
                    119,
                    113,
                    168,
                    126,
                    102,
                    116,
                    144,
                    140,
                    124,
                    108,
                    154,
                    185,
                    106,
                    97,
                    96,
                    129,
                    124,
                    149,
                    97,
                    102,
                    146,
                    143.16,
                    100,
                    118,
                    179,
                    179,
                    113,
                    142,
                    101,
                    174,
                    131,
                    179,
                    122,
                    105,
                    176,
                    103,
                    120,
                    118,
                    143,
                    134,
                    203,
                    116,
                    150,
                    192,
                    187,
                    107,
                    192,
                    97,
                    157,
                    128,
                    183,
                    112,
                    173,
                    156,
                    137,
                    156,
                    112,
                    203,
                    141,
                    97,
                    186,
                    113,
                    195,
                    175,
                    154,
                    173,
                    143.16,
                    152,
                    114,
                    181,
                    111,
                    200,
                    100,
                    134,
                    167,
                    198,
                    151,
                    121,
                    196,
                    171,
                    135,
                    186,
                    138,
                    133,
                    107,
                    120,
                    168,
                    184,
                    154,
                    115,
                    168,
                    161,
                    171,
                    129,
                    150,
                    118,
                    154,
                    103,
                    180,
                    141,
                    152,
                    104,
                    159,
                    191,
                    142,
                    123,
                    135,
                    132,
                    158,
                    181,
                    105,
                    126,
                    186,
                    116,
                    124,
                    143.16,
                    115,
                    173,
                    128,
                    103,
                    120,
                    146,
                    145,
                    125,
                    109,
                    156,
                    187,
                    110,
                    100,
                    97,
                    133,
                    128,
                    154,
                    100,
                    104,
                    143.16,
                    203,
                    104,
                    119,
                    181,
                    180,
                    116,
                    144,
                    102,
                    176,
                    135,
                    184,
                    124,
                    110,
                    180,
                    103,
                    117,
                    120,
                    145,
                    133,
                    201,
                    117,
                    146,
                    195,
                    188,
                    108,
                    191,
                    100,
                    158,
                    127,
                    181,
                    113,
                    171,
                    153,
                    137,
                    154,
                    112,
                    201,
                    141,
                    100,
                    185,
                    111,
                    191,
                    176,
                    150,
                    171,
                    140,
                    153,
                    111,
                    180,
                    107,
                    197,
                    101,
                    132,
                    168,
                    200,
                    150,
                    119,
                    197,
                    172,
                    134,
                    185,
                    135,
                    132,
                    109,
                    116,
                    170,
                    187,
                    154,
                    111,
                    169,
                    161,
                    174,
                    125,
                    148,
                    117,
                    154,
                    104,
                    183,
                    142,
                    155,
                    105,
                    160,
                    191,
                    140,
                    123,
                    136,
                    132,
                    158,
                    182,
                    104,
                    126,
                    188,
                    118,
                    127,
                    123,
                    118,
                    169,
                    128,
                    106,
                    119,
                    147,
                    141,
                    125,
                    109,
                    158,
                    190,
                    110,
                    99,
                    98,
                    134,
                    129,
                    154,
                    100,
                    107,
                    149,
                    203,
                    101,
                    119,
                    182,
                    181,
                    115,
                    145,
                    102,
                    176,
                    134,
                    183,
                    123,
                    108,
                    177,
                    104,
                    117,
                    117,
                    145,
                    134,
                    199,
                    115,
                    149,
                    192,
                    188,
                    107,
                    190,
                    98,
                    158,
                    128,
                    180,
                    110,
                    172,
                    157,
                    137,
                    158,
                    110,
                    203,
                    145,
                    96,
                    186,
                    110,
                    194,
                    177,
                    152,
                    172,
                    140,
                    154,
                    113,
                    179,
                    111,
                    196,
                    101,
                    131,
                    171,
                    199,
                    151,
                    121,
                    196,
                    174,
                    135,
                    184,
                    137,
                    129,
                    108,
                    116,
                    168,
                    184,
                    151,
                    114,
                    167,
                    160,
                    175,
                    127,
                    146,
                    118,
                    151,
                    105,
                    180,
                    140,
                    155,
                    106,
                    160,
                    192,
                    138,
                    122,
                    135,
                    132,
                    158,
                    184,
                    101,
                    126,
                    188,
                    118,
                    127,
                    123,
                    117,
                    172,
                    127,
                    104,
                    121,
                    148,
                    141,
                    128,
                    113,
                    155,
                    189,
                    108,
                    98,
                    100,
                    134,
                    125,
                    151,
                    100,
                    107,
                    147,
                    200,
                    101,
                    120,
                    181,
                    182,
                    117,
                    145,
                    106,
                    179,
                    134,
                    180,
                    126,
                    110,
                    180,
                    103,
                    116,
                    119,
                    144,
                    133,
                    199,
                    115,
                    150,
                    192,
                    188,
                    109,
                    189,
                    101,
                    159,
                    128,
                    182,
                    111,
                    171,
                    154,
                    134,
                    157,
                    112,
                    203,
                    142,
                    97,
                    187,
                    111,
                    194,
                    176,
                    153,
                    171,
                    142,
                    153,
                    113,
                    183,
                    108,
                    200,
                    99,
                    131,
                    171,
                    200,
                    152,
                    119,
                    196,
                    173,
                    132,
                    185,
                    138,
                    132,
                    110,
                    119,
                    167,
                    188,
                    151,
                    112,
                    166,
                    158,
                    172,
                    127,
                    150,
                    115,
                    151,
                    103,
                    181,
                    141,
                    152,
                    105,
                    162,
                    190,
                    141,
                    122,
                    136,
                    131,
                    157,
                    181,
                    103,
                    127,
                    189,
                    114,
                    125,
                    123,
                    116,
                    172,
                    129,
                    107,
                    117,
                    148
                  ],
                  "xaxis": "x",
                  "y": [
                    111,
                    135,
                    136,
                    167,
                    158,
                    227,
                    131,
                    176,
                    223,
                    221,
                    116,
                    222,
                    102,
                    192,
                    152,
                    213,
                    125,
                    204,
                    189,
                    163,
                    189,
                    122,
                    228,
                    168,
                    102,
                    218,
                    123,
                    222,
                    208,
                    183,
                    204,
                    167,
                    188,
                    126,
                    213,
                    122,
                    225,
                    105,
                    155,
                    203,
                    225,
                    177,
                    139,
                    224,
                    207,
                    158,
                    218,
                    164,
                    154,
                    118,
                    138,
                    199,
                    219,
                    183,
                    128,
                    197,
                    196,
                    208,
                    152,
                    175,
                    129,
                    185,
                    107,
                    211,
                    167,
                    185,
                    110,
                    194,
                    221,
                    166,
                    143,
                    163,
                    158,
                    191,
                    216,
                    106,
                    146,
                    220,
                    131,
                    147,
                    141,
                    130,
                    204,
                    152,
                    111,
                    139,
                    172,
                    168,
                    148,
                    123,
                    189,
                    220,
                    120,
                    106,
                    105,
                    157,
                    149,
                    185,
                    106,
                    115,
                    177,
                    230,
                    108,
                    140,
                    214,
                    216,
                    130,
                    169,
                    110,
                    209,
                    162,
                    214,
                    145,
                    116,
                    209,
                    116,
                    139,
                    143,
                    168,
                    158,
                    232,
                    136,
                    180,
                    228,
                    222,
                    117,
                    224,
                    104,
                    195,
                    156,
                    213,
                    133,
                    208,
                    195,
                    163,
                    195,
                    124,
                    231,
                    172,
                    104,
                    221,
                    128,
                    222,
                    214,
                    184,
                    204,
                    171,
                    195,
                    132,
                    214,
                    123,
                    233,
                    107,
                    162,
                    204,
                    227,
                    185,
                    142,
                    225,
                    212,
                    161,
                    220,
                    168,
                    155,
                    125,
                    144,
                    201,
                    222,
                    189,
                    132,
                    204,
                    201,
                    211,
                    156,
                    179,
                    129,
                    185,
                    107,
                    213,
                    172,
                    193,
                    114,
                    202,
                    222,
                    168,
                    146,
                    170,
                    165,
                    196,
                    224,
                    108,
                    149,
                    224,
                    136,
                    152,
                    143,
                    135,
                    211,
                    156,
                    115,
                    143,
                    179,
                    173,
                    148,
                    127,
                    194,
                    225,
                    127,
                    106,
                    112,
                    164,
                    151,
                    191,
                    110,
                    116,
                    180,
                    235,
                    108,
                    141,
                    219,
                    219,
                    138,
                    169,
                    116,
                    212,
                    162,
                    220,
                    151,
                    119,
                    212,
                    111,
                    142,
                    138,
                    172,
                    158,
                    228,
                    134,
                    181,
                    231,
                    223,
                    121,
                    222,
                    102,
                    195,
                    156,
                    214,
                    132,
                    204,
                    190,
                    167,
                    195,
                    127,
                    235,
                    171,
                    110,
                    221,
                    128,
                    226,
                    208,
                    191,
                    205,
                    173,
                    191,
                    128,
                    220,
                    126,
                    232,
                    108,
                    159,
                    211,
                    232,
                    182,
                    145,
                    224,
                    209,
                    160,
                    219,
                    170,
                    161,
                    122,
                    141,
                    204,
                    226,
                    187,
                    129,
                    199,
                    199,
                    214,
                    159,
                    176,
                    129,
                    187,
                    109,
                    212,
                    170,
                    191,
                    116,
                    202,
                    226,
                    166,
                    151,
                    170,
                    166,
                    193,
                    218,
                    109,
                    152,
                    220,
                    133,
                    152,
                    142,
                    131,
                    204,
                    153,
                    114,
                    144,
                    172,
                    176,
                    150,
                    129,
                    190,
                    226,
                    128,
                    106,
                    107,
                    159,
                    157,
                    192,
                    110,
                    115,
                    183,
                    233,
                    112,
                    146,
                    222,
                    216,
                    134,
                    174,
                    114,
                    211,
                    167,
                    214,
                    145,
                    120,
                    217,
                    113,
                    141,
                    140,
                    171,
                    163,
                    232,
                    131,
                    184,
                    225,
                    223,
                    121,
                    223,
                    105,
                    197,
                    160,
                    218,
                    131,
                    211,
                    194,
                    169,
                    189,
                    128,
                    228,
                    169,
                    108,
                    219,
                    124,
                    224,
                    214,
                    190,
                    205,
                    167,
                    190,
                    128,
                    217,
                    126,
                    228,
                    105,
                    162,
                    211,
                    227,
                    178,
                    146,
                    227,
                    208,
                    163,
                    225,
                    167,
                    162,
                    125,
                    144,
                    199,
                    226,
                    183,
                    136,
                    199,
                    204,
                    215,
                    155,
                    179,
                    133,
                    186,
                    111,
                    219,
                    173,
                    185,
                    118,
                    199,
                    226,
                    169,
                    144,
                    166,
                    166,
                    198,
                    222,
                    110,
                    154,
                    226,
                    135,
                    151,
                    146,
                    133,
                    205,
                    154,
                    116,
                    145,
                    174,
                    168,
                    156,
                    124,
                    196,
                    227,
                    122,
                    106,
                    110,
                    158,
                    154,
                    190,
                    110,
                    120,
                    180,
                    232,
                    110,
                    142,
                    222,
                    218,
                    138,
                    176,
                    115,
                    211,
                    168,
                    216,
                    147,
                    124,
                    215,
                    117,
                    139,
                    138,
                    171,
                    158,
                    232,
                    139,
                    178,
                    224,
                    224,
                    116,
                    223,
                    109,
                    193,
                    155,
                    221,
                    130,
                    212,
                    190,
                    169,
                    191,
                    122,
                    234,
                    175,
                    108,
                    220,
                    126,
                    227,
                    216,
                    188,
                    205,
                    172,
                    192,
                    129,
                    219,
                    127,
                    228,
                    105,
                    159,
                    205,
                    228,
                    178,
                    139,
                    232,
                    212,
                    162,
                    226,
                    171,
                    159,
                    120,
                    143,
                    200,
                    221,
                    184,
                    134,
                    200,
                    201,
                    210,
                    159,
                    178,
                    137,
                    190,
                    110,
                    213,
                    170,
                    193,
                    113,
                    196,
                    222,
                    174,
                    143,
                    169,
                    165,
                    194,
                    217,
                    113,
                    150,
                    223,
                    133,
                    149,
                    149,
                    130,
                    207,
                    157,
                    115,
                    147,
                    176
                  ],
                  "yaxis": "y"
                },
                {
                  "name": "previsões",
                  "type": "scatter",
                  "x": [
                    102,
                    115,
                    115,
                    140,
                    130,
                    198,
                    114,
                    145,
                    191,
                    186,
                    104,
                    188,
                    96,
                    156,
                    125,
                    178,
                    109,
                    168,
                    152,
                    133,
                    153,
                    107,
                    199,
                    140,
                    95,
                    183,
                    108,
                    190,
                    174,
                    149,
                    169,
                    138,
                    151,
                    109,
                    178,
                    106,
                    195,
                    96,
                    129,
                    166,
                    197,
                    148,
                    117,
                    193,
                    170,
                    130,
                    183,
                    134,
                    128,
                    105,
                    115,
                    166,
                    183,
                    149,
                    110,
                    164,
                    157,
                    170,
                    124,
                    145,
                    113,
                    150,
                    100,
                    143.16,
                    139,
                    150,
                    101,
                    157,
                    187,
                    137,
                    121,
                    132,
                    130,
                    156,
                    180,
                    100,
                    122,
                    185,
                    113,
                    123,
                    119,
                    113,
                    168,
                    126,
                    102,
                    116,
                    144,
                    140,
                    124,
                    108,
                    154,
                    185,
                    106,
                    97,
                    96,
                    129,
                    124,
                    149,
                    97,
                    102,
                    146,
                    143.16,
                    100,
                    118,
                    179,
                    179,
                    113,
                    142,
                    101,
                    174,
                    131,
                    179,
                    122,
                    105,
                    176,
                    103,
                    120,
                    118,
                    143,
                    134,
                    203,
                    116,
                    150,
                    192,
                    187,
                    107,
                    192,
                    97,
                    157,
                    128,
                    183,
                    112,
                    173,
                    156,
                    137,
                    156,
                    112,
                    203,
                    141,
                    97,
                    186,
                    113,
                    195,
                    175,
                    154,
                    173,
                    143.16,
                    152,
                    114,
                    181,
                    111,
                    200,
                    100,
                    134,
                    167,
                    198,
                    151,
                    121,
                    196,
                    171,
                    135,
                    186,
                    138,
                    133,
                    107,
                    120,
                    168,
                    184,
                    154,
                    115,
                    168,
                    161,
                    171,
                    129,
                    150,
                    118,
                    154,
                    103,
                    180,
                    141,
                    152,
                    104,
                    159,
                    191,
                    142,
                    123,
                    135,
                    132,
                    158,
                    181,
                    105,
                    126,
                    186,
                    116,
                    124,
                    143.16,
                    115,
                    173,
                    128,
                    103,
                    120,
                    146,
                    145,
                    125,
                    109,
                    156,
                    187,
                    110,
                    100,
                    97,
                    133,
                    128,
                    154,
                    100,
                    104,
                    143.16,
                    203,
                    104,
                    119,
                    181,
                    180,
                    116,
                    144,
                    102,
                    176,
                    135,
                    184,
                    124,
                    110,
                    180,
                    103,
                    117,
                    120,
                    145,
                    133,
                    201,
                    117,
                    146,
                    195,
                    188,
                    108,
                    191,
                    100,
                    158,
                    127,
                    181,
                    113,
                    171,
                    153,
                    137,
                    154,
                    112,
                    201,
                    141,
                    100,
                    185,
                    111,
                    191,
                    176,
                    150,
                    171,
                    140,
                    153,
                    111,
                    180,
                    107,
                    197,
                    101,
                    132,
                    168,
                    200,
                    150,
                    119,
                    197,
                    172,
                    134,
                    185,
                    135,
                    132,
                    109,
                    116,
                    170,
                    187,
                    154,
                    111,
                    169,
                    161,
                    174,
                    125,
                    148,
                    117,
                    154,
                    104,
                    183,
                    142,
                    155,
                    105,
                    160,
                    191,
                    140,
                    123,
                    136,
                    132,
                    158,
                    182,
                    104,
                    126,
                    188,
                    118,
                    127,
                    123,
                    118,
                    169,
                    128,
                    106,
                    119,
                    147,
                    141,
                    125,
                    109,
                    158,
                    190,
                    110,
                    99,
                    98,
                    134,
                    129,
                    154,
                    100,
                    107,
                    149,
                    203,
                    101,
                    119,
                    182,
                    181,
                    115,
                    145,
                    102,
                    176,
                    134,
                    183,
                    123,
                    108,
                    177,
                    104,
                    117,
                    117,
                    145,
                    134,
                    199,
                    115,
                    149,
                    192,
                    188,
                    107,
                    190,
                    98,
                    158,
                    128,
                    180,
                    110,
                    172,
                    157,
                    137,
                    158,
                    110,
                    203,
                    145,
                    96,
                    186,
                    110,
                    194,
                    177,
                    152,
                    172,
                    140,
                    154,
                    113,
                    179,
                    111,
                    196,
                    101,
                    131,
                    171,
                    199,
                    151,
                    121,
                    196,
                    174,
                    135,
                    184,
                    137,
                    129,
                    108,
                    116,
                    168,
                    184,
                    151,
                    114,
                    167,
                    160,
                    175,
                    127,
                    146,
                    118,
                    151,
                    105,
                    180,
                    140,
                    155,
                    106,
                    160,
                    192,
                    138,
                    122,
                    135,
                    132,
                    158,
                    184,
                    101,
                    126,
                    188,
                    118,
                    127,
                    123,
                    117,
                    172,
                    127,
                    104,
                    121,
                    148,
                    141,
                    128,
                    113,
                    155,
                    189,
                    108,
                    98,
                    100,
                    134,
                    125,
                    151,
                    100,
                    107,
                    147,
                    200,
                    101,
                    120,
                    181,
                    182,
                    117,
                    145,
                    106,
                    179,
                    134,
                    180,
                    126,
                    110,
                    180,
                    103,
                    116,
                    119,
                    144,
                    133,
                    199,
                    115,
                    150,
                    192,
                    188,
                    109,
                    189,
                    101,
                    159,
                    128,
                    182,
                    111,
                    171,
                    154,
                    134,
                    157,
                    112,
                    203,
                    142,
                    97,
                    187,
                    111,
                    194,
                    176,
                    153,
                    171,
                    142,
                    153,
                    113,
                    183,
                    108,
                    200,
                    99,
                    131,
                    171,
                    200,
                    152,
                    119,
                    196,
                    173,
                    132,
                    185,
                    138,
                    132,
                    110,
                    119,
                    167,
                    188,
                    151,
                    112,
                    166,
                    158,
                    172,
                    127,
                    150,
                    115,
                    151,
                    103,
                    181,
                    141,
                    152,
                    105,
                    162,
                    190,
                    141,
                    122,
                    136,
                    131,
                    157,
                    181,
                    103,
                    127,
                    189,
                    114,
                    125,
                    123,
                    116,
                    172,
                    129,
                    107,
                    117,
                    148
                  ],
                  "y": [
                    118.37923960717083,
                    134.70956533261102,
                    134.70956533261102,
                    166.1140378815345,
                    153.55224886196513,
                    238.97241419503698,
                    133.4533864306541,
                    172.3949323913192,
                    230.1791618813384,
                    223.8982673715537,
                    120.89159741108472,
                    226.41062517546757,
                    110.8421661954292,
                    186.21290031284553,
                    147.27135435218042,
                    213.8488361558982,
                    127.17249192086939,
                    201.2870471363288,
                    181.18818470501776,
                    157.32078556783594,
                    182.44436360697472,
                    124.66013411695553,
                    240.2285930969939,
                    166.1140378815345,
                    109.58598729347226,
                    220.12973066568287,
                    125.91631301891246,
                    228.92298297938146,
                    208.82412054807043,
                    177.41964799914695,
                    202.54322603828572,
                    163.60168007762064,
                    179.93200580306083,
                    127.17249192086939,
                    213.8488361558982,
                    123.40395521499858,
                    235.20387748916616,
                    110.8421661954292,
                    152.29606996000817,
                    198.7746893324149,
                    237.71623529308002,
                    176.16346909719002,
                    137.2219231365249,
                    232.69151968525227,
                    203.79940494024268,
                    153.55224886196513,
                    220.12973066568287,
                    158.57696446979287,
                    151.03989105805124,
                    122.14777631304165,
                    134.70956533261102,
                    198.7746893324149,
                    220.12973066568287,
                    177.41964799914695,
                    128.42867082282635,
                    196.26233152850105,
                    187.46907921480246,
                    203.79940494024268,
                    146.0151754502235,
                    172.3949323913192,
                    132.19720752869716,
                    178.6758269011039,
                    115.86688180325694,
                    170.08356321171843,
                    164.85785897957757,
                    178.6758269011039,
                    117.12306070521389,
                    187.46907921480246,
                    225.15444627351064,
                    162.34550117566368,
                    142.24663874435268,
                    156.06460666587898,
                    153.55224886196513,
                    186.21290031284553,
                    216.36119395981206,
                    115.86688180325694,
                    143.5028176463096,
                    222.64208846959676,
                    132.19720752869716,
                    144.75899654826654,
                    139.7342809404388,
                    132.19720752869716,
                    201.2870471363288,
                    148.52753325413735,
                    118.37923960717083,
                    135.96574423456798,
                    171.13875348936227,
                    166.1140378815345,
                    146.0151754502235,
                    125.91631301891246,
                    183.70054250893165,
                    222.64208846959676,
                    123.40395521499858,
                    112.09834509738613,
                    110.8421661954292,
                    152.29606996000817,
                    146.0151754502235,
                    177.41964799914695,
                    112.09834509738613,
                    118.37923960717083,
                    173.65111129327613,
                    170.08356321171843,
                    115.86688180325694,
                    138.47810203848184,
                    215.10501505785513,
                    215.10501505785513,
                    132.19720752869716,
                    168.6263956854484,
                    117.12306070521389,
                    208.82412054807043,
                    154.80842776392205,
                    215.10501505785513,
                    143.5028176463096,
                    122.14777631304165,
                    211.3364783519843,
                    119.63541850912776,
                    140.99045984239572,
                    138.47810203848184,
                    169.88257458740532,
                    158.57696446979287,
                    245.25330870482165,
                    135.96574423456798,
                    178.6758269011039,
                    231.43534078329535,
                    225.15444627351064,
                    124.66013411695553,
                    231.43534078329535,
                    112.09834509738613,
                    187.46907921480246,
                    151.03989105805124,
                    220.12973066568287,
                    130.9410286267402,
                    207.5679416461135,
                    186.21290031284553,
                    162.34550117566368,
                    186.21290031284553,
                    130.9410286267402,
                    245.25330870482165,
                    167.37021678349146,
                    112.09834509738613,
                    223.8982673715537,
                    132.19720752869716,
                    235.20387748916616,
                    210.08029945002738,
                    183.70054250893165,
                    207.5679416461135,
                    170.08356321171843,
                    181.18818470501776,
                    133.4533864306541,
                    217.617372861769,
                    129.68484972478328,
                    241.48477199895083,
                    115.86688180325694,
                    158.57696446979287,
                    200.03086823437187,
                    238.97241419503698,
                    179.93200580306083,
                    142.24663874435268,
                    236.4600563911231,
                    205.0555838421996,
                    159.8331433717498,
                    223.8982673715537,
                    163.60168007762064,
                    157.32078556783594,
                    124.66013411695553,
                    140.99045984239572,
                    201.2870471363288,
                    221.38590956763983,
                    183.70054250893165,
                    134.70956533261102,
                    201.2870471363288,
                    192.49379482263024,
                    205.0555838421996,
                    152.29606996000817,
                    178.6758269011039,
                    138.47810203848184,
                    183.70054250893165,
                    119.63541850912776,
                    216.36119395981206,
                    167.37021678349146,
                    181.18818470501776,
                    120.89159741108472,
                    189.98143701871635,
                    230.1791618813384,
                    168.6263956854484,
                    144.75899654826654,
                    159.8331433717498,
                    156.06460666587898,
                    188.72525811675942,
                    217.617372861769,
                    122.14777631304165,
                    148.52753325413735,
                    223.8982673715537,
                    135.96574423456798,
                    146.0151754502235,
                    170.08356321171843,
                    134.70956533261102,
                    207.5679416461135,
                    151.03989105805124,
                    119.63541850912776,
                    140.99045984239572,
                    173.65111129327613,
                    172.3949323913192,
                    147.27135435218042,
                    127.17249192086939,
                    186.21290031284553,
                    225.15444627351064,
                    128.42867082282635,
                    115.86688180325694,
                    112.09834509738613,
                    157.32078556783594,
                    151.03989105805124,
                    183.70054250893165,
                    115.86688180325694,
                    120.89159741108472,
                    170.08356321171843,
                    245.25330870482165,
                    120.89159741108472,
                    139.7342809404388,
                    217.617372861769,
                    216.36119395981206,
                    135.96574423456798,
                    171.13875348936227,
                    118.37923960717083,
                    211.3364783519843,
                    159.8331433717498,
                    221.38590956763983,
                    146.0151754502235,
                    128.42867082282635,
                    216.36119395981206,
                    119.63541850912776,
                    137.2219231365249,
                    140.99045984239572,
                    172.3949323913192,
                    157.32078556783594,
                    242.7409509009078,
                    137.2219231365249,
                    173.65111129327613,
                    235.20387748916616,
                    226.41062517546757,
                    125.91631301891246,
                    230.1791618813384,
                    115.86688180325694,
                    188.72525811675942,
                    149.7837121560943,
                    217.617372861769,
                    132.19720752869716,
                    205.0555838421996,
                    182.44436360697472,
                    162.34550117566368,
                    183.70054250893165,
                    130.9410286267402,
                    242.7409509009078,
                    167.37021678349146,
                    115.86688180325694,
                    222.64208846959676,
                    129.68484972478328,
                    230.1791618813384,
                    211.3364783519843,
                    178.6758269011039,
                    205.0555838421996,
                    166.1140378815345,
                    182.44436360697472,
                    129.68484972478328,
                    216.36119395981206,
                    124.66013411695553,
                    237.71623529308002,
                    117.12306070521389,
                    156.06460666587898,
                    201.2870471363288,
                    241.48477199895083,
                    178.6758269011039,
                    139.7342809404388,
                    237.71623529308002,
                    206.31176274415654,
                    158.57696446979287,
                    222.64208846959676,
                    159.8331433717498,
                    156.06460666587898,
                    127.17249192086939,
                    135.96574423456798,
                    203.79940494024268,
                    225.15444627351064,
                    183.70054250893165,
                    129.68484972478328,
                    202.54322603828572,
                    192.49379482263024,
                    208.82412054807043,
                    147.27135435218042,
                    176.16346909719002,
                    137.2219231365249,
                    183.70054250893165,
                    120.89159741108472,
                    220.12973066568287,
                    168.6263956854484,
                    184.95672141088858,
                    122.14777631304165,
                    191.23761592067328,
                    230.1791618813384,
                    166.1140378815345,
                    144.75899654826654,
                    161.08932227370676,
                    156.06460666587898,
                    188.72525811675942,
                    218.87355176372594,
                    120.89159741108472,
                    148.52753325413735,
                    226.41062517546757,
                    138.47810203848184,
                    149.7837121560943,
                    144.75899654826654,
                    138.47810203848184,
                    202.54322603828572,
                    151.03989105805124,
                    123.40395521499858,
                    139.7342809404388,
                    174.9072901952331,
                    167.37021678349146,
                    147.27135435218042,
                    127.17249192086939,
                    188.72525811675942,
                    228.92298297938146,
                    128.42867082282635,
                    114.61070290130002,
                    113.35452399934307,
                    158.57696446979287,
                    152.29606996000817,
                    183.70054250893165,
                    115.86688180325694,
                    124.66013411695553,
                    177.41964799914695,
                    245.25330870482165,
                    117.12306070521389,
                    139.7342809404388,
                    218.87355176372594,
                    217.617372861769,
                    134.70956533261102,
                    172.3949323913192,
                    118.37923960717083,
                    211.3364783519843,
                    158.57696446979287,
                    220.12973066568287,
                    144.75899654826654,
                    125.91631301891246,
                    212.59265725394124,
                    120.89159741108472,
                    137.2219231365249,
                    137.2219231365249,
                    172.3949323913192,
                    158.57696446979287,
                    240.2285930969939,
                    134.70956533261102,
                    177.41964799914695,
                    231.43534078329535,
                    226.41062517546757,
                    124.66013411695553,
                    228.92298297938146,
                    113.35452399934307,
                    188.72525811675942,
                    151.03989105805124,
                    216.36119395981206,
                    128.42867082282635,
                    206.31176274415654,
                    187.46907921480246,
                    162.34550117566368,
                    188.72525811675942,
                    128.42867082282635,
                    245.25330870482165,
                    172.3949323913192,
                    110.8421661954292,
                    223.8982673715537,
                    128.42867082282635,
                    233.9476985872092,
                    212.59265725394124,
                    181.18818470501776,
                    206.31176274415654,
                    166.1140378815345,
                    183.70054250893165,
                    132.19720752869716,
                    215.10501505785513,
                    129.68484972478328,
                    236.4600563911231,
                    117.12306070521389,
                    154.80842776392205,
                    205.0555838421996,
                    240.2285930969939,
                    179.93200580306083,
                    142.24663874435268,
                    236.4600563911231,
                    208.82412054807043,
                    159.8331433717498,
                    221.38590956763983,
                    162.34550117566368,
                    152.29606996000817,
                    125.91631301891246,
                    135.96574423456798,
                    201.2870471363288,
                    221.38590956763983,
                    179.93200580306083,
                    133.4533864306541,
                    200.03086823437187,
                    191.23761592067328,
                    210.08029945002738,
                    149.7837121560943,
                    173.65111129327613,
                    138.47810203848184,
                    179.93200580306083,
                    122.14777631304165,
                    216.36119395981206,
                    166.1140378815345,
                    184.95672141088858,
                    123.40395521499858,
                    191.23761592067328,
                    231.43534078329535,
                    163.60168007762064,
                    143.5028176463096,
                    159.8331433717498,
                    156.06460666587898,
                    188.72525811675942,
                    221.38590956763983,
                    117.12306070521389,
                    148.52753325413735,
                    226.41062517546757,
                    138.47810203848184,
                    149.7837121560943,
                    144.75899654826654,
                    137.2219231365249,
                    206.31176274415654,
                    149.7837121560943,
                    120.89159741108472,
                    142.24663874435268,
                    176.16346909719002,
                    167.37021678349146,
                    151.03989105805124,
                    132.19720752869716,
                    184.95672141088858,
                    227.6668040774245,
                    125.91631301891246,
                    113.35452399934307,
                    115.86688180325694,
                    158.57696446979287,
                    147.27135435218042,
                    179.93200580306083,
                    115.86688180325694,
                    124.66013411695553,
                    174.9072901952331,
                    241.48477199895083,
                    117.12306070521389,
                    140.99045984239572,
                    217.617372861769,
                    218.87355176372594,
                    137.2219231365249,
                    172.3949323913192,
                    123.40395521499858,
                    215.10501505785513,
                    158.57696446979287,
                    216.36119395981206,
                    148.52753325413735,
                    128.42867082282635,
                    216.36119395981206,
                    119.63541850912776,
                    135.96574423456798,
                    139.7342809404388,
                    171.13875348936227,
                    157.32078556783594,
                    240.2285930969939,
                    134.70956533261102,
                    178.6758269011039,
                    231.43534078329535,
                    226.41062517546757,
                    127.17249192086939,
                    227.6668040774245,
                    117.12306070521389,
                    189.98143701871635,
                    151.03989105805124,
                    218.87355176372594,
                    129.68484972478328,
                    205.0555838421996,
                    183.70054250893165,
                    158.57696446979287,
                    187.46907921480246,
                    130.9410286267402,
                    245.25330870482165,
                    168.6263956854484,
                    112.09834509738613,
                    225.15444627351064,
                    129.68484972478328,
                    233.9476985872092,
                    211.3364783519843,
                    182.44436360697472,
                    205.0555838421996,
                    168.6263956854484,
                    182.44436360697472,
                    132.19720752869716,
                    220.12973066568287,
                    125.91631301891246,
                    241.48477199895083,
                    114.61070290130002,
                    154.80842776392205,
                    205.0555838421996,
                    241.48477199895083,
                    181.18818470501776,
                    139.7342809404388,
                    236.4600563911231,
                    207.5679416461135,
                    156.06460666587898,
                    222.64208846959676,
                    163.60168007762064,
                    156.06460666587898,
                    128.42867082282635,
                    139.7342809404388,
                    200.03086823437187,
                    226.41062517546757,
                    179.93200580306083,
                    130.9410286267402,
                    198.7746893324149,
                    188.72525811675942,
                    206.31176274415654,
                    149.7837121560943,
                    178.6758269011039,
                    134.70956533261102,
                    179.93200580306083,
                    119.63541850912776,
                    217.617372861769,
                    167.37021678349146,
                    181.18818470501776,
                    122.14777631304165,
                    193.74997372458716,
                    228.92298297938146,
                    167.37021678349146,
                    143.5028176463096,
                    161.08932227370676,
                    154.80842776392205,
                    187.46907921480246,
                    217.617372861769,
                    119.63541850912776,
                    149.7837121560943,
                    227.6668040774245,
                    133.4533864306541,
                    147.27135435218042,
                    144.75899654826654,
                    135.96574423456798,
                    206.31176274415654,
                    152.29606996000817,
                    124.66013411695553,
                    137.2219231365249,
                    176.16346909719002
                  ]
                }
              ],
              "layout": {
                "legend": {
                  "tracegroupgap": 0
                },
                "margin": {
                  "t": 60
                },
                "template": {
                  "data": {
                    "bar": [
                      {
                        "error_x": {
                          "color": "#2a3f5f"
                        },
                        "error_y": {
                          "color": "#2a3f5f"
                        },
                        "marker": {
                          "line": {
                            "color": "#E5ECF6",
                            "width": 0.5
                          },
                          "pattern": {
                            "fillmode": "overlay",
                            "size": 10,
                            "solidity": 0.2
                          }
                        },
                        "type": "bar"
                      }
                    ],
                    "barpolar": [
                      {
                        "marker": {
                          "line": {
                            "color": "#E5ECF6",
                            "width": 0.5
                          },
                          "pattern": {
                            "fillmode": "overlay",
                            "size": 10,
                            "solidity": 0.2
                          }
                        },
                        "type": "barpolar"
                      }
                    ],
                    "carpet": [
                      {
                        "aaxis": {
                          "endlinecolor": "#2a3f5f",
                          "gridcolor": "white",
                          "linecolor": "white",
                          "minorgridcolor": "white",
                          "startlinecolor": "#2a3f5f"
                        },
                        "baxis": {
                          "endlinecolor": "#2a3f5f",
                          "gridcolor": "white",
                          "linecolor": "white",
                          "minorgridcolor": "white",
                          "startlinecolor": "#2a3f5f"
                        },
                        "type": "carpet"
                      }
                    ],
                    "choropleth": [
                      {
                        "colorbar": {
                          "outlinewidth": 0,
                          "ticks": ""
                        },
                        "type": "choropleth"
                      }
                    ],
                    "contour": [
                      {
                        "colorbar": {
                          "outlinewidth": 0,
                          "ticks": ""
                        },
                        "colorscale": [
                          [
                            0,
                            "#0d0887"
                          ],
                          [
                            0.1111111111111111,
                            "#46039f"
                          ],
                          [
                            0.2222222222222222,
                            "#7201a8"
                          ],
                          [
                            0.3333333333333333,
                            "#9c179e"
                          ],
                          [
                            0.4444444444444444,
                            "#bd3786"
                          ],
                          [
                            0.5555555555555556,
                            "#d8576b"
                          ],
                          [
                            0.6666666666666666,
                            "#ed7953"
                          ],
                          [
                            0.7777777777777778,
                            "#fb9f3a"
                          ],
                          [
                            0.8888888888888888,
                            "#fdca26"
                          ],
                          [
                            1,
                            "#f0f921"
                          ]
                        ],
                        "type": "contour"
                      }
                    ],
                    "contourcarpet": [
                      {
                        "colorbar": {
                          "outlinewidth": 0,
                          "ticks": ""
                        },
                        "type": "contourcarpet"
                      }
                    ],
                    "heatmap": [
                      {
                        "colorbar": {
                          "outlinewidth": 0,
                          "ticks": ""
                        },
                        "colorscale": [
                          [
                            0,
                            "#0d0887"
                          ],
                          [
                            0.1111111111111111,
                            "#46039f"
                          ],
                          [
                            0.2222222222222222,
                            "#7201a8"
                          ],
                          [
                            0.3333333333333333,
                            "#9c179e"
                          ],
                          [
                            0.4444444444444444,
                            "#bd3786"
                          ],
                          [
                            0.5555555555555556,
                            "#d8576b"
                          ],
                          [
                            0.6666666666666666,
                            "#ed7953"
                          ],
                          [
                            0.7777777777777778,
                            "#fb9f3a"
                          ],
                          [
                            0.8888888888888888,
                            "#fdca26"
                          ],
                          [
                            1,
                            "#f0f921"
                          ]
                        ],
                        "type": "heatmap"
                      }
                    ],
                    "heatmapgl": [
                      {
                        "colorbar": {
                          "outlinewidth": 0,
                          "ticks": ""
                        },
                        "colorscale": [
                          [
                            0,
                            "#0d0887"
                          ],
                          [
                            0.1111111111111111,
                            "#46039f"
                          ],
                          [
                            0.2222222222222222,
                            "#7201a8"
                          ],
                          [
                            0.3333333333333333,
                            "#9c179e"
                          ],
                          [
                            0.4444444444444444,
                            "#bd3786"
                          ],
                          [
                            0.5555555555555556,
                            "#d8576b"
                          ],
                          [
                            0.6666666666666666,
                            "#ed7953"
                          ],
                          [
                            0.7777777777777778,
                            "#fb9f3a"
                          ],
                          [
                            0.8888888888888888,
                            "#fdca26"
                          ],
                          [
                            1,
                            "#f0f921"
                          ]
                        ],
                        "type": "heatmapgl"
                      }
                    ],
                    "histogram": [
                      {
                        "marker": {
                          "pattern": {
                            "fillmode": "overlay",
                            "size": 10,
                            "solidity": 0.2
                          }
                        },
                        "type": "histogram"
                      }
                    ],
                    "histogram2d": [
                      {
                        "colorbar": {
                          "outlinewidth": 0,
                          "ticks": ""
                        },
                        "colorscale": [
                          [
                            0,
                            "#0d0887"
                          ],
                          [
                            0.1111111111111111,
                            "#46039f"
                          ],
                          [
                            0.2222222222222222,
                            "#7201a8"
                          ],
                          [
                            0.3333333333333333,
                            "#9c179e"
                          ],
                          [
                            0.4444444444444444,
                            "#bd3786"
                          ],
                          [
                            0.5555555555555556,
                            "#d8576b"
                          ],
                          [
                            0.6666666666666666,
                            "#ed7953"
                          ],
                          [
                            0.7777777777777778,
                            "#fb9f3a"
                          ],
                          [
                            0.8888888888888888,
                            "#fdca26"
                          ],
                          [
                            1,
                            "#f0f921"
                          ]
                        ],
                        "type": "histogram2d"
                      }
                    ],
                    "histogram2dcontour": [
                      {
                        "colorbar": {
                          "outlinewidth": 0,
                          "ticks": ""
                        },
                        "colorscale": [
                          [
                            0,
                            "#0d0887"
                          ],
                          [
                            0.1111111111111111,
                            "#46039f"
                          ],
                          [
                            0.2222222222222222,
                            "#7201a8"
                          ],
                          [
                            0.3333333333333333,
                            "#9c179e"
                          ],
                          [
                            0.4444444444444444,
                            "#bd3786"
                          ],
                          [
                            0.5555555555555556,
                            "#d8576b"
                          ],
                          [
                            0.6666666666666666,
                            "#ed7953"
                          ],
                          [
                            0.7777777777777778,
                            "#fb9f3a"
                          ],
                          [
                            0.8888888888888888,
                            "#fdca26"
                          ],
                          [
                            1,
                            "#f0f921"
                          ]
                        ],
                        "type": "histogram2dcontour"
                      }
                    ],
                    "mesh3d": [
                      {
                        "colorbar": {
                          "outlinewidth": 0,
                          "ticks": ""
                        },
                        "type": "mesh3d"
                      }
                    ],
                    "parcoords": [
                      {
                        "line": {
                          "colorbar": {
                            "outlinewidth": 0,
                            "ticks": ""
                          }
                        },
                        "type": "parcoords"
                      }
                    ],
                    "pie": [
                      {
                        "automargin": true,
                        "type": "pie"
                      }
                    ],
                    "scatter": [
                      {
                        "fillpattern": {
                          "fillmode": "overlay",
                          "size": 10,
                          "solidity": 0.2
                        },
                        "type": "scatter"
                      }
                    ],
                    "scatter3d": [
                      {
                        "line": {
                          "colorbar": {
                            "outlinewidth": 0,
                            "ticks": ""
                          }
                        },
                        "marker": {
                          "colorbar": {
                            "outlinewidth": 0,
                            "ticks": ""
                          }
                        },
                        "type": "scatter3d"
                      }
                    ],
                    "scattercarpet": [
                      {
                        "marker": {
                          "colorbar": {
                            "outlinewidth": 0,
                            "ticks": ""
                          }
                        },
                        "type": "scattercarpet"
                      }
                    ],
                    "scattergeo": [
                      {
                        "marker": {
                          "colorbar": {
                            "outlinewidth": 0,
                            "ticks": ""
                          }
                        },
                        "type": "scattergeo"
                      }
                    ],
                    "scattergl": [
                      {
                        "marker": {
                          "colorbar": {
                            "outlinewidth": 0,
                            "ticks": ""
                          }
                        },
                        "type": "scattergl"
                      }
                    ],
                    "scattermapbox": [
                      {
                        "marker": {
                          "colorbar": {
                            "outlinewidth": 0,
                            "ticks": ""
                          }
                        },
                        "type": "scattermapbox"
                      }
                    ],
                    "scatterpolar": [
                      {
                        "marker": {
                          "colorbar": {
                            "outlinewidth": 0,
                            "ticks": ""
                          }
                        },
                        "type": "scatterpolar"
                      }
                    ],
                    "scatterpolargl": [
                      {
                        "marker": {
                          "colorbar": {
                            "outlinewidth": 0,
                            "ticks": ""
                          }
                        },
                        "type": "scatterpolargl"
                      }
                    ],
                    "scatterternary": [
                      {
                        "marker": {
                          "colorbar": {
                            "outlinewidth": 0,
                            "ticks": ""
                          }
                        },
                        "type": "scatterternary"
                      }
                    ],
                    "surface": [
                      {
                        "colorbar": {
                          "outlinewidth": 0,
                          "ticks": ""
                        },
                        "colorscale": [
                          [
                            0,
                            "#0d0887"
                          ],
                          [
                            0.1111111111111111,
                            "#46039f"
                          ],
                          [
                            0.2222222222222222,
                            "#7201a8"
                          ],
                          [
                            0.3333333333333333,
                            "#9c179e"
                          ],
                          [
                            0.4444444444444444,
                            "#bd3786"
                          ],
                          [
                            0.5555555555555556,
                            "#d8576b"
                          ],
                          [
                            0.6666666666666666,
                            "#ed7953"
                          ],
                          [
                            0.7777777777777778,
                            "#fb9f3a"
                          ],
                          [
                            0.8888888888888888,
                            "#fdca26"
                          ],
                          [
                            1,
                            "#f0f921"
                          ]
                        ],
                        "type": "surface"
                      }
                    ],
                    "table": [
                      {
                        "cells": {
                          "fill": {
                            "color": "#EBF0F8"
                          },
                          "line": {
                            "color": "white"
                          }
                        },
                        "header": {
                          "fill": {
                            "color": "#C8D4E3"
                          },
                          "line": {
                            "color": "white"
                          }
                        },
                        "type": "table"
                      }
                    ]
                  },
                  "layout": {
                    "annotationdefaults": {
                      "arrowcolor": "#2a3f5f",
                      "arrowhead": 0,
                      "arrowwidth": 1
                    },
                    "autotypenumbers": "strict",
                    "coloraxis": {
                      "colorbar": {
                        "outlinewidth": 0,
                        "ticks": ""
                      }
                    },
                    "colorscale": {
                      "diverging": [
                        [
                          0,
                          "#8e0152"
                        ],
                        [
                          0.1,
                          "#c51b7d"
                        ],
                        [
                          0.2,
                          "#de77ae"
                        ],
                        [
                          0.3,
                          "#f1b6da"
                        ],
                        [
                          0.4,
                          "#fde0ef"
                        ],
                        [
                          0.5,
                          "#f7f7f7"
                        ],
                        [
                          0.6,
                          "#e6f5d0"
                        ],
                        [
                          0.7,
                          "#b8e186"
                        ],
                        [
                          0.8,
                          "#7fbc41"
                        ],
                        [
                          0.9,
                          "#4d9221"
                        ],
                        [
                          1,
                          "#276419"
                        ]
                      ],
                      "sequential": [
                        [
                          0,
                          "#0d0887"
                        ],
                        [
                          0.1111111111111111,
                          "#46039f"
                        ],
                        [
                          0.2222222222222222,
                          "#7201a8"
                        ],
                        [
                          0.3333333333333333,
                          "#9c179e"
                        ],
                        [
                          0.4444444444444444,
                          "#bd3786"
                        ],
                        [
                          0.5555555555555556,
                          "#d8576b"
                        ],
                        [
                          0.6666666666666666,
                          "#ed7953"
                        ],
                        [
                          0.7777777777777778,
                          "#fb9f3a"
                        ],
                        [
                          0.8888888888888888,
                          "#fdca26"
                        ],
                        [
                          1,
                          "#f0f921"
                        ]
                      ],
                      "sequentialminus": [
                        [
                          0,
                          "#0d0887"
                        ],
                        [
                          0.1111111111111111,
                          "#46039f"
                        ],
                        [
                          0.2222222222222222,
                          "#7201a8"
                        ],
                        [
                          0.3333333333333333,
                          "#9c179e"
                        ],
                        [
                          0.4444444444444444,
                          "#bd3786"
                        ],
                        [
                          0.5555555555555556,
                          "#d8576b"
                        ],
                        [
                          0.6666666666666666,
                          "#ed7953"
                        ],
                        [
                          0.7777777777777778,
                          "#fb9f3a"
                        ],
                        [
                          0.8888888888888888,
                          "#fdca26"
                        ],
                        [
                          1,
                          "#f0f921"
                        ]
                      ]
                    },
                    "colorway": [
                      "#636efa",
                      "#EF553B",
                      "#00cc96",
                      "#ab63fa",
                      "#FFA15A",
                      "#19d3f3",
                      "#FF6692",
                      "#B6E880",
                      "#FF97FF",
                      "#FECB52"
                    ],
                    "font": {
                      "color": "#2a3f5f"
                    },
                    "geo": {
                      "bgcolor": "white",
                      "lakecolor": "white",
                      "landcolor": "#E5ECF6",
                      "showlakes": true,
                      "showland": true,
                      "subunitcolor": "white"
                    },
                    "hoverlabel": {
                      "align": "left"
                    },
                    "hovermode": "closest",
                    "mapbox": {
                      "style": "light"
                    },
                    "paper_bgcolor": "white",
                    "plot_bgcolor": "#E5ECF6",
                    "polar": {
                      "angularaxis": {
                        "gridcolor": "white",
                        "linecolor": "white",
                        "ticks": ""
                      },
                      "bgcolor": "#E5ECF6",
                      "radialaxis": {
                        "gridcolor": "white",
                        "linecolor": "white",
                        "ticks": ""
                      }
                    },
                    "scene": {
                      "xaxis": {
                        "backgroundcolor": "#E5ECF6",
                        "gridcolor": "white",
                        "gridwidth": 2,
                        "linecolor": "white",
                        "showbackground": true,
                        "ticks": "",
                        "zerolinecolor": "white"
                      },
                      "yaxis": {
                        "backgroundcolor": "#E5ECF6",
                        "gridcolor": "white",
                        "gridwidth": 2,
                        "linecolor": "white",
                        "showbackground": true,
                        "ticks": "",
                        "zerolinecolor": "white"
                      },
                      "zaxis": {
                        "backgroundcolor": "#E5ECF6",
                        "gridcolor": "white",
                        "gridwidth": 2,
                        "linecolor": "white",
                        "showbackground": true,
                        "ticks": "",
                        "zerolinecolor": "white"
                      }
                    },
                    "shapedefaults": {
                      "line": {
                        "color": "#2a3f5f"
                      }
                    },
                    "ternary": {
                      "aaxis": {
                        "gridcolor": "white",
                        "linecolor": "white",
                        "ticks": ""
                      },
                      "baxis": {
                        "gridcolor": "white",
                        "linecolor": "white",
                        "ticks": ""
                      },
                      "bgcolor": "#E5ECF6",
                      "caxis": {
                        "gridcolor": "white",
                        "linecolor": "white",
                        "ticks": ""
                      }
                    },
                    "title": {
                      "x": 0.05
                    },
                    "xaxis": {
                      "automargin": true,
                      "gridcolor": "white",
                      "linecolor": "white",
                      "ticks": "",
                      "title": {
                        "standoff": 15
                      },
                      "zerolinecolor": "white",
                      "zerolinewidth": 2
                    },
                    "yaxis": {
                      "automargin": true,
                      "gridcolor": "white",
                      "linecolor": "white",
                      "ticks": "",
                      "title": {
                        "standoff": 15
                      },
                      "zerolinecolor": "white",
                      "zerolinewidth": 2
                    }
                  }
                },
                "xaxis": {
                  "anchor": "y",
                  "domain": [
                    0,
                    1
                  ],
                  "title": {
                    "text": "x"
                  }
                },
                "yaxis": {
                  "anchor": "x",
                  "domain": [
                    0,
                    1
                  ],
                  "title": {
                    "text": "y"
                  }
                }
              }
            },
            "text/html": [
              "<div>                            <div id=\"4580c68c-4469-42eb-b7c4-612daef540bd\" class=\"plotly-graph-div\" style=\"height:525px; width:100%;\"></div>            <script type=\"text/javascript\">                require([\"plotly\"], function(Plotly) {                    window.PLOTLYENV=window.PLOTLYENV || {};                                    if (document.getElementById(\"4580c68c-4469-42eb-b7c4-612daef540bd\")) {                    Plotly.newPlot(                        \"4580c68c-4469-42eb-b7c4-612daef540bd\",                        [{\"hovertemplate\":\"x=%{x}<br>y=%{y}<extra></extra>\",\"legendgroup\":\"\",\"marker\":{\"color\":\"#636efa\",\"symbol\":\"circle\"},\"mode\":\"markers\",\"name\":\"\",\"orientation\":\"v\",\"showlegend\":false,\"x\":[102.0,115.0,115.0,140.0,130.0,198.0,114.0,145.0,191.0,186.0,104.0,188.0,96.0,156.0,125.0,178.0,109.0,168.0,152.0,133.0,153.0,107.0,199.0,140.0,95.0,183.0,108.0,190.0,174.0,149.0,169.0,138.0,151.0,109.0,178.0,106.0,195.0,96.0,129.0,166.0,197.0,148.0,117.0,193.0,170.0,130.0,183.0,134.0,128.0,105.0,115.0,166.0,183.0,149.0,110.0,164.0,157.0,170.0,124.0,145.0,113.0,150.0,100.0,143.16,139.0,150.0,101.0,157.0,187.0,137.0,121.0,132.0,130.0,156.0,180.0,100.0,122.0,185.0,113.0,123.0,119.0,113.0,168.0,126.0,102.0,116.0,144.0,140.0,124.0,108.0,154.0,185.0,106.0,97.0,96.0,129.0,124.0,149.0,97.0,102.0,146.0,143.16,100.0,118.0,179.0,179.0,113.0,142.0,101.0,174.0,131.0,179.0,122.0,105.0,176.0,103.0,120.0,118.0,143.0,134.0,203.0,116.0,150.0,192.0,187.0,107.0,192.0,97.0,157.0,128.0,183.0,112.0,173.0,156.0,137.0,156.0,112.0,203.0,141.0,97.0,186.0,113.0,195.0,175.0,154.0,173.0,143.16,152.0,114.0,181.0,111.0,200.0,100.0,134.0,167.0,198.0,151.0,121.0,196.0,171.0,135.0,186.0,138.0,133.0,107.0,120.0,168.0,184.0,154.0,115.0,168.0,161.0,171.0,129.0,150.0,118.0,154.0,103.0,180.0,141.0,152.0,104.0,159.0,191.0,142.0,123.0,135.0,132.0,158.0,181.0,105.0,126.0,186.0,116.0,124.0,143.16,115.0,173.0,128.0,103.0,120.0,146.0,145.0,125.0,109.0,156.0,187.0,110.0,100.0,97.0,133.0,128.0,154.0,100.0,104.0,143.16,203.0,104.0,119.0,181.0,180.0,116.0,144.0,102.0,176.0,135.0,184.0,124.0,110.0,180.0,103.0,117.0,120.0,145.0,133.0,201.0,117.0,146.0,195.0,188.0,108.0,191.0,100.0,158.0,127.0,181.0,113.0,171.0,153.0,137.0,154.0,112.0,201.0,141.0,100.0,185.0,111.0,191.0,176.0,150.0,171.0,140.0,153.0,111.0,180.0,107.0,197.0,101.0,132.0,168.0,200.0,150.0,119.0,197.0,172.0,134.0,185.0,135.0,132.0,109.0,116.0,170.0,187.0,154.0,111.0,169.0,161.0,174.0,125.0,148.0,117.0,154.0,104.0,183.0,142.0,155.0,105.0,160.0,191.0,140.0,123.0,136.0,132.0,158.0,182.0,104.0,126.0,188.0,118.0,127.0,123.0,118.0,169.0,128.0,106.0,119.0,147.0,141.0,125.0,109.0,158.0,190.0,110.0,99.0,98.0,134.0,129.0,154.0,100.0,107.0,149.0,203.0,101.0,119.0,182.0,181.0,115.0,145.0,102.0,176.0,134.0,183.0,123.0,108.0,177.0,104.0,117.0,117.0,145.0,134.0,199.0,115.0,149.0,192.0,188.0,107.0,190.0,98.0,158.0,128.0,180.0,110.0,172.0,157.0,137.0,158.0,110.0,203.0,145.0,96.0,186.0,110.0,194.0,177.0,152.0,172.0,140.0,154.0,113.0,179.0,111.0,196.0,101.0,131.0,171.0,199.0,151.0,121.0,196.0,174.0,135.0,184.0,137.0,129.0,108.0,116.0,168.0,184.0,151.0,114.0,167.0,160.0,175.0,127.0,146.0,118.0,151.0,105.0,180.0,140.0,155.0,106.0,160.0,192.0,138.0,122.0,135.0,132.0,158.0,184.0,101.0,126.0,188.0,118.0,127.0,123.0,117.0,172.0,127.0,104.0,121.0,148.0,141.0,128.0,113.0,155.0,189.0,108.0,98.0,100.0,134.0,125.0,151.0,100.0,107.0,147.0,200.0,101.0,120.0,181.0,182.0,117.0,145.0,106.0,179.0,134.0,180.0,126.0,110.0,180.0,103.0,116.0,119.0,144.0,133.0,199.0,115.0,150.0,192.0,188.0,109.0,189.0,101.0,159.0,128.0,182.0,111.0,171.0,154.0,134.0,157.0,112.0,203.0,142.0,97.0,187.0,111.0,194.0,176.0,153.0,171.0,142.0,153.0,113.0,183.0,108.0,200.0,99.0,131.0,171.0,200.0,152.0,119.0,196.0,173.0,132.0,185.0,138.0,132.0,110.0,119.0,167.0,188.0,151.0,112.0,166.0,158.0,172.0,127.0,150.0,115.0,151.0,103.0,181.0,141.0,152.0,105.0,162.0,190.0,141.0,122.0,136.0,131.0,157.0,181.0,103.0,127.0,189.0,114.0,125.0,123.0,116.0,172.0,129.0,107.0,117.0,148.0],\"xaxis\":\"x\",\"y\":[111,135,136,167,158,227,131,176,223,221,116,222,102,192,152,213,125,204,189,163,189,122,228,168,102,218,123,222,208,183,204,167,188,126,213,122,225,105,155,203,225,177,139,224,207,158,218,164,154,118,138,199,219,183,128,197,196,208,152,175,129,185,107,211,167,185,110,194,221,166,143,163,158,191,216,106,146,220,131,147,141,130,204,152,111,139,172,168,148,123,189,220,120,106,105,157,149,185,106,115,177,230,108,140,214,216,130,169,110,209,162,214,145,116,209,116,139,143,168,158,232,136,180,228,222,117,224,104,195,156,213,133,208,195,163,195,124,231,172,104,221,128,222,214,184,204,171,195,132,214,123,233,107,162,204,227,185,142,225,212,161,220,168,155,125,144,201,222,189,132,204,201,211,156,179,129,185,107,213,172,193,114,202,222,168,146,170,165,196,224,108,149,224,136,152,143,135,211,156,115,143,179,173,148,127,194,225,127,106,112,164,151,191,110,116,180,235,108,141,219,219,138,169,116,212,162,220,151,119,212,111,142,138,172,158,228,134,181,231,223,121,222,102,195,156,214,132,204,190,167,195,127,235,171,110,221,128,226,208,191,205,173,191,128,220,126,232,108,159,211,232,182,145,224,209,160,219,170,161,122,141,204,226,187,129,199,199,214,159,176,129,187,109,212,170,191,116,202,226,166,151,170,166,193,218,109,152,220,133,152,142,131,204,153,114,144,172,176,150,129,190,226,128,106,107,159,157,192,110,115,183,233,112,146,222,216,134,174,114,211,167,214,145,120,217,113,141,140,171,163,232,131,184,225,223,121,223,105,197,160,218,131,211,194,169,189,128,228,169,108,219,124,224,214,190,205,167,190,128,217,126,228,105,162,211,227,178,146,227,208,163,225,167,162,125,144,199,226,183,136,199,204,215,155,179,133,186,111,219,173,185,118,199,226,169,144,166,166,198,222,110,154,226,135,151,146,133,205,154,116,145,174,168,156,124,196,227,122,106,110,158,154,190,110,120,180,232,110,142,222,218,138,176,115,211,168,216,147,124,215,117,139,138,171,158,232,139,178,224,224,116,223,109,193,155,221,130,212,190,169,191,122,234,175,108,220,126,227,216,188,205,172,192,129,219,127,228,105,159,205,228,178,139,232,212,162,226,171,159,120,143,200,221,184,134,200,201,210,159,178,137,190,110,213,170,193,113,196,222,174,143,169,165,194,217,113,150,223,133,149,149,130,207,157,115,147,176],\"yaxis\":\"y\",\"type\":\"scatter\"},{\"name\":\"previs\\u00f5es\",\"x\":[102.0,115.0,115.0,140.0,130.0,198.0,114.0,145.0,191.0,186.0,104.0,188.0,96.0,156.0,125.0,178.0,109.0,168.0,152.0,133.0,153.0,107.0,199.0,140.0,95.0,183.0,108.0,190.0,174.0,149.0,169.0,138.0,151.0,109.0,178.0,106.0,195.0,96.0,129.0,166.0,197.0,148.0,117.0,193.0,170.0,130.0,183.0,134.0,128.0,105.0,115.0,166.0,183.0,149.0,110.0,164.0,157.0,170.0,124.0,145.0,113.0,150.0,100.0,143.16,139.0,150.0,101.0,157.0,187.0,137.0,121.0,132.0,130.0,156.0,180.0,100.0,122.0,185.0,113.0,123.0,119.0,113.0,168.0,126.0,102.0,116.0,144.0,140.0,124.0,108.0,154.0,185.0,106.0,97.0,96.0,129.0,124.0,149.0,97.0,102.0,146.0,143.16,100.0,118.0,179.0,179.0,113.0,142.0,101.0,174.0,131.0,179.0,122.0,105.0,176.0,103.0,120.0,118.0,143.0,134.0,203.0,116.0,150.0,192.0,187.0,107.0,192.0,97.0,157.0,128.0,183.0,112.0,173.0,156.0,137.0,156.0,112.0,203.0,141.0,97.0,186.0,113.0,195.0,175.0,154.0,173.0,143.16,152.0,114.0,181.0,111.0,200.0,100.0,134.0,167.0,198.0,151.0,121.0,196.0,171.0,135.0,186.0,138.0,133.0,107.0,120.0,168.0,184.0,154.0,115.0,168.0,161.0,171.0,129.0,150.0,118.0,154.0,103.0,180.0,141.0,152.0,104.0,159.0,191.0,142.0,123.0,135.0,132.0,158.0,181.0,105.0,126.0,186.0,116.0,124.0,143.16,115.0,173.0,128.0,103.0,120.0,146.0,145.0,125.0,109.0,156.0,187.0,110.0,100.0,97.0,133.0,128.0,154.0,100.0,104.0,143.16,203.0,104.0,119.0,181.0,180.0,116.0,144.0,102.0,176.0,135.0,184.0,124.0,110.0,180.0,103.0,117.0,120.0,145.0,133.0,201.0,117.0,146.0,195.0,188.0,108.0,191.0,100.0,158.0,127.0,181.0,113.0,171.0,153.0,137.0,154.0,112.0,201.0,141.0,100.0,185.0,111.0,191.0,176.0,150.0,171.0,140.0,153.0,111.0,180.0,107.0,197.0,101.0,132.0,168.0,200.0,150.0,119.0,197.0,172.0,134.0,185.0,135.0,132.0,109.0,116.0,170.0,187.0,154.0,111.0,169.0,161.0,174.0,125.0,148.0,117.0,154.0,104.0,183.0,142.0,155.0,105.0,160.0,191.0,140.0,123.0,136.0,132.0,158.0,182.0,104.0,126.0,188.0,118.0,127.0,123.0,118.0,169.0,128.0,106.0,119.0,147.0,141.0,125.0,109.0,158.0,190.0,110.0,99.0,98.0,134.0,129.0,154.0,100.0,107.0,149.0,203.0,101.0,119.0,182.0,181.0,115.0,145.0,102.0,176.0,134.0,183.0,123.0,108.0,177.0,104.0,117.0,117.0,145.0,134.0,199.0,115.0,149.0,192.0,188.0,107.0,190.0,98.0,158.0,128.0,180.0,110.0,172.0,157.0,137.0,158.0,110.0,203.0,145.0,96.0,186.0,110.0,194.0,177.0,152.0,172.0,140.0,154.0,113.0,179.0,111.0,196.0,101.0,131.0,171.0,199.0,151.0,121.0,196.0,174.0,135.0,184.0,137.0,129.0,108.0,116.0,168.0,184.0,151.0,114.0,167.0,160.0,175.0,127.0,146.0,118.0,151.0,105.0,180.0,140.0,155.0,106.0,160.0,192.0,138.0,122.0,135.0,132.0,158.0,184.0,101.0,126.0,188.0,118.0,127.0,123.0,117.0,172.0,127.0,104.0,121.0,148.0,141.0,128.0,113.0,155.0,189.0,108.0,98.0,100.0,134.0,125.0,151.0,100.0,107.0,147.0,200.0,101.0,120.0,181.0,182.0,117.0,145.0,106.0,179.0,134.0,180.0,126.0,110.0,180.0,103.0,116.0,119.0,144.0,133.0,199.0,115.0,150.0,192.0,188.0,109.0,189.0,101.0,159.0,128.0,182.0,111.0,171.0,154.0,134.0,157.0,112.0,203.0,142.0,97.0,187.0,111.0,194.0,176.0,153.0,171.0,142.0,153.0,113.0,183.0,108.0,200.0,99.0,131.0,171.0,200.0,152.0,119.0,196.0,173.0,132.0,185.0,138.0,132.0,110.0,119.0,167.0,188.0,151.0,112.0,166.0,158.0,172.0,127.0,150.0,115.0,151.0,103.0,181.0,141.0,152.0,105.0,162.0,190.0,141.0,122.0,136.0,131.0,157.0,181.0,103.0,127.0,189.0,114.0,125.0,123.0,116.0,172.0,129.0,107.0,117.0,148.0],\"y\":[118.37923960717083,134.70956533261102,134.70956533261102,166.1140378815345,153.55224886196513,238.97241419503698,133.4533864306541,172.3949323913192,230.1791618813384,223.8982673715537,120.89159741108472,226.41062517546757,110.8421661954292,186.21290031284553,147.27135435218042,213.8488361558982,127.17249192086939,201.2870471363288,181.18818470501776,157.32078556783594,182.44436360697472,124.66013411695553,240.2285930969939,166.1140378815345,109.58598729347226,220.12973066568287,125.91631301891246,228.92298297938146,208.82412054807043,177.41964799914695,202.54322603828572,163.60168007762064,179.93200580306083,127.17249192086939,213.8488361558982,123.40395521499858,235.20387748916616,110.8421661954292,152.29606996000817,198.7746893324149,237.71623529308002,176.16346909719002,137.2219231365249,232.69151968525227,203.79940494024268,153.55224886196513,220.12973066568287,158.57696446979287,151.03989105805124,122.14777631304165,134.70956533261102,198.7746893324149,220.12973066568287,177.41964799914695,128.42867082282635,196.26233152850105,187.46907921480246,203.79940494024268,146.0151754502235,172.3949323913192,132.19720752869716,178.6758269011039,115.86688180325694,170.08356321171843,164.85785897957757,178.6758269011039,117.12306070521389,187.46907921480246,225.15444627351064,162.34550117566368,142.24663874435268,156.06460666587898,153.55224886196513,186.21290031284553,216.36119395981206,115.86688180325694,143.5028176463096,222.64208846959676,132.19720752869716,144.75899654826654,139.7342809404388,132.19720752869716,201.2870471363288,148.52753325413735,118.37923960717083,135.96574423456798,171.13875348936227,166.1140378815345,146.0151754502235,125.91631301891246,183.70054250893165,222.64208846959676,123.40395521499858,112.09834509738613,110.8421661954292,152.29606996000817,146.0151754502235,177.41964799914695,112.09834509738613,118.37923960717083,173.65111129327613,170.08356321171843,115.86688180325694,138.47810203848184,215.10501505785513,215.10501505785513,132.19720752869716,168.6263956854484,117.12306070521389,208.82412054807043,154.80842776392205,215.10501505785513,143.5028176463096,122.14777631304165,211.3364783519843,119.63541850912776,140.99045984239572,138.47810203848184,169.88257458740532,158.57696446979287,245.25330870482165,135.96574423456798,178.6758269011039,231.43534078329535,225.15444627351064,124.66013411695553,231.43534078329535,112.09834509738613,187.46907921480246,151.03989105805124,220.12973066568287,130.9410286267402,207.5679416461135,186.21290031284553,162.34550117566368,186.21290031284553,130.9410286267402,245.25330870482165,167.37021678349146,112.09834509738613,223.8982673715537,132.19720752869716,235.20387748916616,210.08029945002738,183.70054250893165,207.5679416461135,170.08356321171843,181.18818470501776,133.4533864306541,217.617372861769,129.68484972478328,241.48477199895083,115.86688180325694,158.57696446979287,200.03086823437187,238.97241419503698,179.93200580306083,142.24663874435268,236.4600563911231,205.0555838421996,159.8331433717498,223.8982673715537,163.60168007762064,157.32078556783594,124.66013411695553,140.99045984239572,201.2870471363288,221.38590956763983,183.70054250893165,134.70956533261102,201.2870471363288,192.49379482263024,205.0555838421996,152.29606996000817,178.6758269011039,138.47810203848184,183.70054250893165,119.63541850912776,216.36119395981206,167.37021678349146,181.18818470501776,120.89159741108472,189.98143701871635,230.1791618813384,168.6263956854484,144.75899654826654,159.8331433717498,156.06460666587898,188.72525811675942,217.617372861769,122.14777631304165,148.52753325413735,223.8982673715537,135.96574423456798,146.0151754502235,170.08356321171843,134.70956533261102,207.5679416461135,151.03989105805124,119.63541850912776,140.99045984239572,173.65111129327613,172.3949323913192,147.27135435218042,127.17249192086939,186.21290031284553,225.15444627351064,128.42867082282635,115.86688180325694,112.09834509738613,157.32078556783594,151.03989105805124,183.70054250893165,115.86688180325694,120.89159741108472,170.08356321171843,245.25330870482165,120.89159741108472,139.7342809404388,217.617372861769,216.36119395981206,135.96574423456798,171.13875348936227,118.37923960717083,211.3364783519843,159.8331433717498,221.38590956763983,146.0151754502235,128.42867082282635,216.36119395981206,119.63541850912776,137.2219231365249,140.99045984239572,172.3949323913192,157.32078556783594,242.7409509009078,137.2219231365249,173.65111129327613,235.20387748916616,226.41062517546757,125.91631301891246,230.1791618813384,115.86688180325694,188.72525811675942,149.7837121560943,217.617372861769,132.19720752869716,205.0555838421996,182.44436360697472,162.34550117566368,183.70054250893165,130.9410286267402,242.7409509009078,167.37021678349146,115.86688180325694,222.64208846959676,129.68484972478328,230.1791618813384,211.3364783519843,178.6758269011039,205.0555838421996,166.1140378815345,182.44436360697472,129.68484972478328,216.36119395981206,124.66013411695553,237.71623529308002,117.12306070521389,156.06460666587898,201.2870471363288,241.48477199895083,178.6758269011039,139.7342809404388,237.71623529308002,206.31176274415654,158.57696446979287,222.64208846959676,159.8331433717498,156.06460666587898,127.17249192086939,135.96574423456798,203.79940494024268,225.15444627351064,183.70054250893165,129.68484972478328,202.54322603828572,192.49379482263024,208.82412054807043,147.27135435218042,176.16346909719002,137.2219231365249,183.70054250893165,120.89159741108472,220.12973066568287,168.6263956854484,184.95672141088858,122.14777631304165,191.23761592067328,230.1791618813384,166.1140378815345,144.75899654826654,161.08932227370676,156.06460666587898,188.72525811675942,218.87355176372594,120.89159741108472,148.52753325413735,226.41062517546757,138.47810203848184,149.7837121560943,144.75899654826654,138.47810203848184,202.54322603828572,151.03989105805124,123.40395521499858,139.7342809404388,174.9072901952331,167.37021678349146,147.27135435218042,127.17249192086939,188.72525811675942,228.92298297938146,128.42867082282635,114.61070290130002,113.35452399934307,158.57696446979287,152.29606996000817,183.70054250893165,115.86688180325694,124.66013411695553,177.41964799914695,245.25330870482165,117.12306070521389,139.7342809404388,218.87355176372594,217.617372861769,134.70956533261102,172.3949323913192,118.37923960717083,211.3364783519843,158.57696446979287,220.12973066568287,144.75899654826654,125.91631301891246,212.59265725394124,120.89159741108472,137.2219231365249,137.2219231365249,172.3949323913192,158.57696446979287,240.2285930969939,134.70956533261102,177.41964799914695,231.43534078329535,226.41062517546757,124.66013411695553,228.92298297938146,113.35452399934307,188.72525811675942,151.03989105805124,216.36119395981206,128.42867082282635,206.31176274415654,187.46907921480246,162.34550117566368,188.72525811675942,128.42867082282635,245.25330870482165,172.3949323913192,110.8421661954292,223.8982673715537,128.42867082282635,233.9476985872092,212.59265725394124,181.18818470501776,206.31176274415654,166.1140378815345,183.70054250893165,132.19720752869716,215.10501505785513,129.68484972478328,236.4600563911231,117.12306070521389,154.80842776392205,205.0555838421996,240.2285930969939,179.93200580306083,142.24663874435268,236.4600563911231,208.82412054807043,159.8331433717498,221.38590956763983,162.34550117566368,152.29606996000817,125.91631301891246,135.96574423456798,201.2870471363288,221.38590956763983,179.93200580306083,133.4533864306541,200.03086823437187,191.23761592067328,210.08029945002738,149.7837121560943,173.65111129327613,138.47810203848184,179.93200580306083,122.14777631304165,216.36119395981206,166.1140378815345,184.95672141088858,123.40395521499858,191.23761592067328,231.43534078329535,163.60168007762064,143.5028176463096,159.8331433717498,156.06460666587898,188.72525811675942,221.38590956763983,117.12306070521389,148.52753325413735,226.41062517546757,138.47810203848184,149.7837121560943,144.75899654826654,137.2219231365249,206.31176274415654,149.7837121560943,120.89159741108472,142.24663874435268,176.16346909719002,167.37021678349146,151.03989105805124,132.19720752869716,184.95672141088858,227.6668040774245,125.91631301891246,113.35452399934307,115.86688180325694,158.57696446979287,147.27135435218042,179.93200580306083,115.86688180325694,124.66013411695553,174.9072901952331,241.48477199895083,117.12306070521389,140.99045984239572,217.617372861769,218.87355176372594,137.2219231365249,172.3949323913192,123.40395521499858,215.10501505785513,158.57696446979287,216.36119395981206,148.52753325413735,128.42867082282635,216.36119395981206,119.63541850912776,135.96574423456798,139.7342809404388,171.13875348936227,157.32078556783594,240.2285930969939,134.70956533261102,178.6758269011039,231.43534078329535,226.41062517546757,127.17249192086939,227.6668040774245,117.12306070521389,189.98143701871635,151.03989105805124,218.87355176372594,129.68484972478328,205.0555838421996,183.70054250893165,158.57696446979287,187.46907921480246,130.9410286267402,245.25330870482165,168.6263956854484,112.09834509738613,225.15444627351064,129.68484972478328,233.9476985872092,211.3364783519843,182.44436360697472,205.0555838421996,168.6263956854484,182.44436360697472,132.19720752869716,220.12973066568287,125.91631301891246,241.48477199895083,114.61070290130002,154.80842776392205,205.0555838421996,241.48477199895083,181.18818470501776,139.7342809404388,236.4600563911231,207.5679416461135,156.06460666587898,222.64208846959676,163.60168007762064,156.06460666587898,128.42867082282635,139.7342809404388,200.03086823437187,226.41062517546757,179.93200580306083,130.9410286267402,198.7746893324149,188.72525811675942,206.31176274415654,149.7837121560943,178.6758269011039,134.70956533261102,179.93200580306083,119.63541850912776,217.617372861769,167.37021678349146,181.18818470501776,122.14777631304165,193.74997372458716,228.92298297938146,167.37021678349146,143.5028176463096,161.08932227370676,154.80842776392205,187.46907921480246,217.617372861769,119.63541850912776,149.7837121560943,227.6668040774245,133.4533864306541,147.27135435218042,144.75899654826654,135.96574423456798,206.31176274415654,152.29606996000817,124.66013411695553,137.2219231365249,176.16346909719002],\"type\":\"scatter\"}],                        {\"template\":{\"data\":{\"histogram2dcontour\":[{\"type\":\"histogram2dcontour\",\"colorbar\":{\"outlinewidth\":0,\"ticks\":\"\"},\"colorscale\":[[0.0,\"#0d0887\"],[0.1111111111111111,\"#46039f\"],[0.2222222222222222,\"#7201a8\"],[0.3333333333333333,\"#9c179e\"],[0.4444444444444444,\"#bd3786\"],[0.5555555555555556,\"#d8576b\"],[0.6666666666666666,\"#ed7953\"],[0.7777777777777778,\"#fb9f3a\"],[0.8888888888888888,\"#fdca26\"],[1.0,\"#f0f921\"]]}],\"choropleth\":[{\"type\":\"choropleth\",\"colorbar\":{\"outlinewidth\":0,\"ticks\":\"\"}}],\"histogram2d\":[{\"type\":\"histogram2d\",\"colorbar\":{\"outlinewidth\":0,\"ticks\":\"\"},\"colorscale\":[[0.0,\"#0d0887\"],[0.1111111111111111,\"#46039f\"],[0.2222222222222222,\"#7201a8\"],[0.3333333333333333,\"#9c179e\"],[0.4444444444444444,\"#bd3786\"],[0.5555555555555556,\"#d8576b\"],[0.6666666666666666,\"#ed7953\"],[0.7777777777777778,\"#fb9f3a\"],[0.8888888888888888,\"#fdca26\"],[1.0,\"#f0f921\"]]}],\"heatmap\":[{\"type\":\"heatmap\",\"colorbar\":{\"outlinewidth\":0,\"ticks\":\"\"},\"colorscale\":[[0.0,\"#0d0887\"],[0.1111111111111111,\"#46039f\"],[0.2222222222222222,\"#7201a8\"],[0.3333333333333333,\"#9c179e\"],[0.4444444444444444,\"#bd3786\"],[0.5555555555555556,\"#d8576b\"],[0.6666666666666666,\"#ed7953\"],[0.7777777777777778,\"#fb9f3a\"],[0.8888888888888888,\"#fdca26\"],[1.0,\"#f0f921\"]]}],\"heatmapgl\":[{\"type\":\"heatmapgl\",\"colorbar\":{\"outlinewidth\":0,\"ticks\":\"\"},\"colorscale\":[[0.0,\"#0d0887\"],[0.1111111111111111,\"#46039f\"],[0.2222222222222222,\"#7201a8\"],[0.3333333333333333,\"#9c179e\"],[0.4444444444444444,\"#bd3786\"],[0.5555555555555556,\"#d8576b\"],[0.6666666666666666,\"#ed7953\"],[0.7777777777777778,\"#fb9f3a\"],[0.8888888888888888,\"#fdca26\"],[1.0,\"#f0f921\"]]}],\"contourcarpet\":[{\"type\":\"contourcarpet\",\"colorbar\":{\"outlinewidth\":0,\"ticks\":\"\"}}],\"contour\":[{\"type\":\"contour\",\"colorbar\":{\"outlinewidth\":0,\"ticks\":\"\"},\"colorscale\":[[0.0,\"#0d0887\"],[0.1111111111111111,\"#46039f\"],[0.2222222222222222,\"#7201a8\"],[0.3333333333333333,\"#9c179e\"],[0.4444444444444444,\"#bd3786\"],[0.5555555555555556,\"#d8576b\"],[0.6666666666666666,\"#ed7953\"],[0.7777777777777778,\"#fb9f3a\"],[0.8888888888888888,\"#fdca26\"],[1.0,\"#f0f921\"]]}],\"surface\":[{\"type\":\"surface\",\"colorbar\":{\"outlinewidth\":0,\"ticks\":\"\"},\"colorscale\":[[0.0,\"#0d0887\"],[0.1111111111111111,\"#46039f\"],[0.2222222222222222,\"#7201a8\"],[0.3333333333333333,\"#9c179e\"],[0.4444444444444444,\"#bd3786\"],[0.5555555555555556,\"#d8576b\"],[0.6666666666666666,\"#ed7953\"],[0.7777777777777778,\"#fb9f3a\"],[0.8888888888888888,\"#fdca26\"],[1.0,\"#f0f921\"]]}],\"mesh3d\":[{\"type\":\"mesh3d\",\"colorbar\":{\"outlinewidth\":0,\"ticks\":\"\"}}],\"scatter\":[{\"fillpattern\":{\"fillmode\":\"overlay\",\"size\":10,\"solidity\":0.2},\"type\":\"scatter\"}],\"parcoords\":[{\"type\":\"parcoords\",\"line\":{\"colorbar\":{\"outlinewidth\":0,\"ticks\":\"\"}}}],\"scatterpolargl\":[{\"type\":\"scatterpolargl\",\"marker\":{\"colorbar\":{\"outlinewidth\":0,\"ticks\":\"\"}}}],\"bar\":[{\"error_x\":{\"color\":\"#2a3f5f\"},\"error_y\":{\"color\":\"#2a3f5f\"},\"marker\":{\"line\":{\"color\":\"#E5ECF6\",\"width\":0.5},\"pattern\":{\"fillmode\":\"overlay\",\"size\":10,\"solidity\":0.2}},\"type\":\"bar\"}],\"scattergeo\":[{\"type\":\"scattergeo\",\"marker\":{\"colorbar\":{\"outlinewidth\":0,\"ticks\":\"\"}}}],\"scatterpolar\":[{\"type\":\"scatterpolar\",\"marker\":{\"colorbar\":{\"outlinewidth\":0,\"ticks\":\"\"}}}],\"histogram\":[{\"marker\":{\"pattern\":{\"fillmode\":\"overlay\",\"size\":10,\"solidity\":0.2}},\"type\":\"histogram\"}],\"scattergl\":[{\"type\":\"scattergl\",\"marker\":{\"colorbar\":{\"outlinewidth\":0,\"ticks\":\"\"}}}],\"scatter3d\":[{\"type\":\"scatter3d\",\"line\":{\"colorbar\":{\"outlinewidth\":0,\"ticks\":\"\"}},\"marker\":{\"colorbar\":{\"outlinewidth\":0,\"ticks\":\"\"}}}],\"scattermapbox\":[{\"type\":\"scattermapbox\",\"marker\":{\"colorbar\":{\"outlinewidth\":0,\"ticks\":\"\"}}}],\"scatterternary\":[{\"type\":\"scatterternary\",\"marker\":{\"colorbar\":{\"outlinewidth\":0,\"ticks\":\"\"}}}],\"scattercarpet\":[{\"type\":\"scattercarpet\",\"marker\":{\"colorbar\":{\"outlinewidth\":0,\"ticks\":\"\"}}}],\"carpet\":[{\"aaxis\":{\"endlinecolor\":\"#2a3f5f\",\"gridcolor\":\"white\",\"linecolor\":\"white\",\"minorgridcolor\":\"white\",\"startlinecolor\":\"#2a3f5f\"},\"baxis\":{\"endlinecolor\":\"#2a3f5f\",\"gridcolor\":\"white\",\"linecolor\":\"white\",\"minorgridcolor\":\"white\",\"startlinecolor\":\"#2a3f5f\"},\"type\":\"carpet\"}],\"table\":[{\"cells\":{\"fill\":{\"color\":\"#EBF0F8\"},\"line\":{\"color\":\"white\"}},\"header\":{\"fill\":{\"color\":\"#C8D4E3\"},\"line\":{\"color\":\"white\"}},\"type\":\"table\"}],\"barpolar\":[{\"marker\":{\"line\":{\"color\":\"#E5ECF6\",\"width\":0.5},\"pattern\":{\"fillmode\":\"overlay\",\"size\":10,\"solidity\":0.2}},\"type\":\"barpolar\"}],\"pie\":[{\"automargin\":true,\"type\":\"pie\"}]},\"layout\":{\"autotypenumbers\":\"strict\",\"colorway\":[\"#636efa\",\"#EF553B\",\"#00cc96\",\"#ab63fa\",\"#FFA15A\",\"#19d3f3\",\"#FF6692\",\"#B6E880\",\"#FF97FF\",\"#FECB52\"],\"font\":{\"color\":\"#2a3f5f\"},\"hovermode\":\"closest\",\"hoverlabel\":{\"align\":\"left\"},\"paper_bgcolor\":\"white\",\"plot_bgcolor\":\"#E5ECF6\",\"polar\":{\"bgcolor\":\"#E5ECF6\",\"angularaxis\":{\"gridcolor\":\"white\",\"linecolor\":\"white\",\"ticks\":\"\"},\"radialaxis\":{\"gridcolor\":\"white\",\"linecolor\":\"white\",\"ticks\":\"\"}},\"ternary\":{\"bgcolor\":\"#E5ECF6\",\"aaxis\":{\"gridcolor\":\"white\",\"linecolor\":\"white\",\"ticks\":\"\"},\"baxis\":{\"gridcolor\":\"white\",\"linecolor\":\"white\",\"ticks\":\"\"},\"caxis\":{\"gridcolor\":\"white\",\"linecolor\":\"white\",\"ticks\":\"\"}},\"coloraxis\":{\"colorbar\":{\"outlinewidth\":0,\"ticks\":\"\"}},\"colorscale\":{\"sequential\":[[0.0,\"#0d0887\"],[0.1111111111111111,\"#46039f\"],[0.2222222222222222,\"#7201a8\"],[0.3333333333333333,\"#9c179e\"],[0.4444444444444444,\"#bd3786\"],[0.5555555555555556,\"#d8576b\"],[0.6666666666666666,\"#ed7953\"],[0.7777777777777778,\"#fb9f3a\"],[0.8888888888888888,\"#fdca26\"],[1.0,\"#f0f921\"]],\"sequentialminus\":[[0.0,\"#0d0887\"],[0.1111111111111111,\"#46039f\"],[0.2222222222222222,\"#7201a8\"],[0.3333333333333333,\"#9c179e\"],[0.4444444444444444,\"#bd3786\"],[0.5555555555555556,\"#d8576b\"],[0.6666666666666666,\"#ed7953\"],[0.7777777777777778,\"#fb9f3a\"],[0.8888888888888888,\"#fdca26\"],[1.0,\"#f0f921\"]],\"diverging\":[[0,\"#8e0152\"],[0.1,\"#c51b7d\"],[0.2,\"#de77ae\"],[0.3,\"#f1b6da\"],[0.4,\"#fde0ef\"],[0.5,\"#f7f7f7\"],[0.6,\"#e6f5d0\"],[0.7,\"#b8e186\"],[0.8,\"#7fbc41\"],[0.9,\"#4d9221\"],[1,\"#276419\"]]},\"xaxis\":{\"gridcolor\":\"white\",\"linecolor\":\"white\",\"ticks\":\"\",\"title\":{\"standoff\":15},\"zerolinecolor\":\"white\",\"automargin\":true,\"zerolinewidth\":2},\"yaxis\":{\"gridcolor\":\"white\",\"linecolor\":\"white\",\"ticks\":\"\",\"title\":{\"standoff\":15},\"zerolinecolor\":\"white\",\"automargin\":true,\"zerolinewidth\":2},\"scene\":{\"xaxis\":{\"backgroundcolor\":\"#E5ECF6\",\"gridcolor\":\"white\",\"linecolor\":\"white\",\"showbackground\":true,\"ticks\":\"\",\"zerolinecolor\":\"white\",\"gridwidth\":2},\"yaxis\":{\"backgroundcolor\":\"#E5ECF6\",\"gridcolor\":\"white\",\"linecolor\":\"white\",\"showbackground\":true,\"ticks\":\"\",\"zerolinecolor\":\"white\",\"gridwidth\":2},\"zaxis\":{\"backgroundcolor\":\"#E5ECF6\",\"gridcolor\":\"white\",\"linecolor\":\"white\",\"showbackground\":true,\"ticks\":\"\",\"zerolinecolor\":\"white\",\"gridwidth\":2}},\"shapedefaults\":{\"line\":{\"color\":\"#2a3f5f\"}},\"annotationdefaults\":{\"arrowcolor\":\"#2a3f5f\",\"arrowhead\":0,\"arrowwidth\":1},\"geo\":{\"bgcolor\":\"white\",\"landcolor\":\"#E5ECF6\",\"subunitcolor\":\"white\",\"showland\":true,\"showlakes\":true,\"lakecolor\":\"white\"},\"title\":{\"x\":0.05},\"mapbox\":{\"style\":\"light\"}}},\"xaxis\":{\"anchor\":\"y\",\"domain\":[0.0,1.0],\"title\":{\"text\":\"x\"}},\"yaxis\":{\"anchor\":\"x\",\"domain\":[0.0,1.0],\"title\":{\"text\":\"y\"}},\"legend\":{\"tracegroupgap\":0},\"margin\":{\"t\":60}},                        {\"responsive\": true}                    ).then(function(){\n",
              "                            \n",
              "var gd = document.getElementById('4580c68c-4469-42eb-b7c4-612daef540bd');\n",
              "var x = new MutationObserver(function (mutations, observer) {{\n",
              "        var display = window.getComputedStyle(gd).display;\n",
              "        if (!display || display === 'none') {{\n",
              "            console.log([gd, 'removed!']);\n",
              "            Plotly.purge(gd);\n",
              "            observer.disconnect();\n",
              "        }}\n",
              "}});\n",
              "\n",
              "// Listen for the removal of the full notebook cells\n",
              "var notebookContainer = gd.closest('#notebook-container');\n",
              "if (notebookContainer) {{\n",
              "    x.observe(notebookContainer, {childList: true});\n",
              "}}\n",
              "\n",
              "// Listen for the clearing of the current output cell\n",
              "var outputEl = gd.closest('.output');\n",
              "if (outputEl) {{\n",
              "    x.observe(outputEl, {childList: true});\n",
              "}}\n",
              "\n",
              "                        })                };                });            </script>        </div>"
            ]
          },
          "metadata": {},
          "output_type": "display_data"
        }
      ],
      "source": [
        "grafico = px.scatter(x = x.ravel(), y = y)\n",
        "grafico.add_scatter(x = x.ravel(), y = previsao_treino, name= 'previsões') # linha de projeção\n",
        "grafico.show()"
      ]
    },
    {
      "cell_type": "code",
      "execution_count": null,
      "id": "402e8fa5",
      "metadata": {
        "id": "402e8fa5",
        "outputId": "2bc935f3-39fc-4335-b84b-731bb99834d0"
      },
      "outputs": [
        {
          "data": {
            "text/plain": [
              "1.2561789019569383"
            ]
          },
          "execution_count": 147,
          "metadata": {},
          "output_type": "execute_result"
        }
      ],
      "source": [
        "coeficientes = np.polyfit(dados_clinicos['peso'], dados_clinicos['colesterol'], 1)\n",
        "coef_angular = coeficientes[0]\n",
        "coef_angular\n",
        "\n",
        "'''\n",
        "Neste código, np.polyfit(x, y, 1) ajusta um modelo de regressão linear aos dados de entrada x e y. O valor 1 indica que estamos ajustando um modelo de primeira ordem, ou seja, uma linha reta. O coeficiente angular\n",
        "(inclinação da reta) é o primeiro coeficiente retornado por np.polyfit(), que é acessado através do índice 0.\n",
        "'''"
      ]
    },
    {
      "cell_type": "markdown",
      "id": "d8e7007a",
      "metadata": {
        "id": "d8e7007a"
      },
      "source": [
        "#### Qual a previsão de colesterol para uma pessoa que pesa 220 quilos?\n"
      ]
    },
    {
      "cell_type": "code",
      "execution_count": null,
      "id": "bd9ad8d8",
      "metadata": {
        "id": "bd9ad8d8",
        "outputId": "43a7023c-6814-48ac-8401-fe5a4b00f7f2"
      },
      "outputs": [
        {
          "name": "stdout",
          "output_type": "stream",
          "text": [
            "Coeficiente Angular: [1.2561789]\n"
          ]
        }
      ],
      "source": [
        "modelo = LinearRegression()\n",
        "modelo.fit(x, y)\n",
        "\n",
        "# Acessar o coeficiente angular (inclinação da reta)\n",
        "coef_angular = modelo.coef_\n",
        "\n",
        "print(\"Coeficiente Angular:\", coef_angular)"
      ]
    },
    {
      "cell_type": "code",
      "execution_count": null,
      "id": "5e893924",
      "metadata": {
        "id": "5e893924",
        "outputId": "f4d49a51-915e-482c-8c31-9d89ac69493b"
      },
      "outputs": [
        {
          "name": "stdout",
          "output_type": "stream",
          "text": [
            "Intercepto: -9.751008392436944\n",
            "Coeficientes: [1.2561789]\n",
            "Previsão: [266.60835004]\n"
          ]
        }
      ],
      "source": [
        "# Ajustar o modelo de regressão linear\n",
        "previsao = LinearRegression()\n",
        "previsao.fit(x, y)\n",
        "\n",
        "# Acessar os coeficientes\n",
        "intercepto = previsao.intercept_\n",
        "coeficientes = previsao.coef_\n",
        "\n",
        "print(\"Intercepto:\", intercepto)\n",
        "print(\"Coeficientes:\", coeficientes)\n",
        "\n",
        "# Agora, você pode fazer previsões com base no modelo ajustado\n",
        "peso = 220\n",
        "previsao = intercepto + coeficientes * peso\n",
        "print(\"Previsão:\", previsao)"
      ]
    },
    {
      "cell_type": "markdown",
      "id": "526d7348",
      "metadata": {
        "id": "526d7348"
      },
      "source": [
        "#### Qual é a diferença entre o valor previsto e o valor real do colesterol para um indivíduo com peso de 95 quilos?\n"
      ]
    },
    {
      "cell_type": "code",
      "execution_count": null,
      "id": "5862f867",
      "metadata": {
        "id": "5862f867",
        "outputId": "0bd51b48-c647-4e56-c3ad-f2531eed670c"
      },
      "outputs": [
        {
          "name": "stdout",
          "output_type": "stream",
          "text": [
            "Valor do colesterol para pessoas com peso de 95 quilos: 102\n",
            "Previsão do colesterol para um peso de 95 quilos: [109.58598729]\n",
            "A diferença é de [7.58598729]\n"
          ]
        }
      ],
      "source": [
        "# Retornar o valor do colesterol para pessoas com peso de 95 quilos\n",
        "valor_colesterol = dados_clinicos_qnt.loc[dados_clinicos_qnt['peso'] == 95, 'colesterol'].values[0]\n",
        "print(\"Valor do colesterol para pessoas com peso de 95 quilos:\", valor_colesterol)\n",
        "\n",
        "# Previsão do colesterol para o peso de 95 quilos:\n",
        "peso = 95  # Corrigido para 95, que é o peso que estamos considerando\n",
        "previsao = intercepto + coeficientes * peso\n",
        "print(\"Previsão do colesterol para um peso de 95 quilos:\", previsao)\n",
        "\n",
        "# Calcular e exibir a diferença entre o valor real e a previsão\n",
        "diferenca = previsao - valor_colesterol\n",
        "print(f'A diferença é de {diferenca}')\n",
        "\n"
      ]
    },
    {
      "cell_type": "markdown",
      "id": "df4f0bf1",
      "metadata": {
        "id": "df4f0bf1"
      },
      "source": [
        "#### Qual foi o score do modelo gerado?"
      ]
    },
    {
      "cell_type": "code",
      "execution_count": null,
      "id": "eaf75b21",
      "metadata": {
        "id": "eaf75b21",
        "outputId": "e971d1b5-49f9-46e0-a0a5-37630c203456"
      },
      "outputs": [
        {
          "name": "stdout",
          "output_type": "stream",
          "text": [
            "Score do modelo (R²): 0.9701687683226481\n",
            "Mean Absolute Error (MAE) do modelo: 4.982918135475773\n"
          ]
        }
      ],
      "source": [
        "from sklearn.linear_model import LinearRegression\n",
        "from sklearn.metrics import r2_score\n",
        "import numpy as np\n",
        "\n",
        "'''\n",
        " O método score() é comumente usado com modelos de regressão linear da biblioteca scikit-learn.\n",
        "\n",
        "Se previsao_treino é o seu modelo de regressão linear ajustado usando scikit-learn, você deve usar\n",
        "este modelo para calcular o score\n",
        "'''\n",
        "\n",
        "# Ajustar o modelo de regressão linear\n",
        "modelo = LinearRegression()\n",
        "modelo.fit(x, y)\n",
        "\n",
        "# Prever valores\n",
        "y_pred = modelo.predict(x)\n",
        "\n",
        "# Calcular o score do modelo (coeficiente de determinação R²)\n",
        "score_do_modelo = r2_score(y, y_pred)\n",
        "print(\"Score do modelo (R²):\", score_do_modelo)\n",
        "\n",
        "mae = mean_absolute_error(y, y_pred)\n",
        "print(\"Mean Absolute Error (MAE) do modelo:\", mae)"
      ]
    },
    {
      "cell_type": "markdown",
      "id": "3d0229c5",
      "metadata": {
        "id": "3d0229c5"
      },
      "source": [
        "#### Qual o valor do mean absolute error do modelo criado?"
      ]
    },
    {
      "cell_type": "code",
      "execution_count": null,
      "id": "e49e36c2",
      "metadata": {
        "id": "e49e36c2",
        "outputId": "f871f507-43cb-4afc-f2c1-9beb1c540379"
      },
      "outputs": [
        {
          "name": "stdout",
          "output_type": "stream",
          "text": [
            "Mean Absolute Error (MAE) do modelo: 4.982918135475773\n"
          ]
        }
      ],
      "source": [
        "'''\n",
        "Mean Absolute Error (MAE) de um modelo de regressão linear ajustado. No entanto, parece que você está usando a\n",
        "variável previsao_treino para fazer as previsões, mas não a definiu previamente.\n",
        "\n",
        "Se previsao_treino é o nome do seu modelo de regressão linear já ajustado, então o código está correto.\n",
        "No entanto, se previsao_treino ainda não foi definido e você está tentando fazer as previsões usando um modelo diferente,\n",
        "você precisa substituir previsao_treino pelo nome correto do seu modelo.\n",
        "'''\n",
        "from sklearn.metrics import mean_absolute_error\n",
        "\n",
        "# Suponha que 'modelo' seja o seu modelo de regressão linear já ajustado\n",
        "# Suponha também que 'X' e 'y' são os dados usados para ajustar o modelo\n",
        "\n",
        "# Fazer previsões com o modelo\n",
        "previsoes = modelo.predict(x)\n",
        "\n",
        "# Calcular o mean absolute error\n",
        "mae = mean_absolute_error(y, previsoes)\n",
        "print(\"Mean Absolute Error (MAE) do modelo:\", mae)\n"
      ]
    },
    {
      "cell_type": "code",
      "execution_count": null,
      "id": "c4d6444a",
      "metadata": {
        "id": "c4d6444a",
        "outputId": "13eba69b-6791-459c-f7eb-918a78b5bf35"
      },
      "outputs": [
        {
          "name": "stdout",
          "output_type": "stream",
          "text": [
            "Previsão de colesterol para uma pessoa que pesa 220 quilos: [266.60835004]\n"
          ]
        }
      ],
      "source": [
        "# Peso da pessoa para a qual você deseja fazer a previsão (em quilos)\n",
        "peso = 220\n",
        "\n",
        "# Criar um vetor de características com o peso da pessoa\n",
        "vetor_caracteristicas = [[peso]]\n",
        "\n",
        "# Fazer a previsão usando o modelo\n",
        "previsao_colesterol = modelo.predict(vetor_caracteristicas)\n",
        "\n",
        "print(\"Previsão de colesterol para uma pessoa que pesa 220 quilos:\", previsao_colesterol)\n"
      ]
    },
    {
      "cell_type": "code",
      "execution_count": null,
      "id": "b96b60e0",
      "metadata": {
        "id": "b96b60e0"
      },
      "outputs": [],
      "source": []
    }
  ],
  "metadata": {
    "kernelspec": {
      "display_name": "Python 3 (ipykernel)",
      "language": "python",
      "name": "python3"
    },
    "language_info": {
      "codemirror_mode": {
        "name": "ipython",
        "version": 3
      },
      "file_extension": ".py",
      "mimetype": "text/x-python",
      "name": "python",
      "nbconvert_exporter": "python",
      "pygments_lexer": "ipython3",
      "version": "3.11.5"
    },
    "colab": {
      "provenance": []
    }
  },
  "nbformat": 4,
  "nbformat_minor": 5
}