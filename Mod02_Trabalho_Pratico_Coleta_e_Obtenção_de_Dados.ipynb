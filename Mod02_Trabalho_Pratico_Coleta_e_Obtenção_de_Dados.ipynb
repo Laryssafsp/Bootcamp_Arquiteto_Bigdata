{
  "nbformat": 4,
  "nbformat_minor": 0,
  "metadata": {
    "colab": {
      "provenance": [],
      "toc_visible": true,
      "authorship_tag": "ABX9TyMUHtPSRVFZKKLebh2sIfDX"
    },
    "kernelspec": {
      "name": "python3",
      "display_name": "Python 3"
    },
    "language_info": {
      "name": "python"
    }
  },
  "cells": [
    {
      "cell_type": "markdown",
      "source": [
        "1 - #Preparando o Ambiente"
      ],
      "metadata": {
        "id": "a420gBW_dUFi"
      }
    },
    {
      "cell_type": "code",
      "execution_count": null,
      "metadata": {
        "id": "vyXND6yjvK06"
      },
      "outputs": [],
      "source": [
        "# !pip install SQLAlchemy==1.4.23\n",
        "# !pip install pandas==1.5.2"
      ]
    },
    {
      "cell_type": "code",
      "source": [
        "import os\n",
        "import requests\n",
        "import zipfile\n",
        "import pandas as pd\n",
        "import io"
      ],
      "metadata": {
        "id": "FdJOsF7wdWV2"
      },
      "execution_count": null,
      "outputs": []
    },
    {
      "cell_type": "code",
      "source": [
        "# Especificar o nome do arquivo zip\n",
        "nome_arquivo_zip = 'pesquisa_preferencias.zip'\n",
        "\n",
        "# Lista para armazenar os DataFrames\n",
        "dfs = []\n",
        "\n",
        "# Abrir o arquivo zip\n",
        "with zipfile.ZipFile(nome_arquivo_zip, 'r') as zip_ref:\n",
        "    # Iterar sobre os arquivos dentro do zip\n",
        "    for nome_arquivo in zip_ref.namelist():\n",
        "        if nome_arquivo.endswith('.csv'):\n",
        "            # Ler o conteúdo do arquivo\n",
        "            with zip_ref.open(nome_arquivo) as file:\n",
        "                # Converter o conteúdo para DataFrame\n",
        "                df = pd.read_csv(file, encoding='latin1', sep='|')\n",
        "                dfs.append(df)\n",
        "\n",
        "# Concatenar os DataFrames em um único DataFrame, se necessário\n",
        "df = pd.concat(dfs, ignore_index=True)\n",
        "\n",
        "# Exibir o DataFrame final\n",
        "print(df)\n",
        "\n",
        "\n",
        "'''\n",
        "Este código irá ler todos os arquivos CSV dentro do arquivo zip 'pesquisa_preferencias.zip', converter cada um deles em um DataFrame e, em seguida, concatenar todos os DataFrames em um único DataFrame final, se necessário.\n",
        "Certifique-se de ajustar o separador (sep) e a codificação (encoding) conforme necessário para os seus arquivos CSV.\n",
        "'''\n"
      ],
      "metadata": {
        "colab": {
          "base_uri": "https://localhost:8080/",
          "height": 539
        },
        "id": "FnG3D6hijD-F",
        "outputId": "69b3d605-2deb-465d-d188-47872437a64d"
      },
      "execution_count": null,
      "outputs": [
        {
          "output_type": "stream",
          "name": "stdout",
          "text": [
            "      cod_pessoa data_coleta     genero data_nascimento animal_estimacao  \\\n",
            "0       10141743  2020-01-01  Masculino      1981-04-25            peixe   \n",
            "1       10141860  2020-01-01   Feminino      1966-01-19            peixe   \n",
            "2       10142548  2020-01-01  Masculino      1973-08-02        tartaruga   \n",
            "3       10142591  2020-01-01  Masculino      1997-03-05             gato   \n",
            "4       10142654  2020-01-01   Feminino      1969-08-05        tartaruga   \n",
            "...          ...         ...        ...             ...              ...   \n",
            "2122    10142475  2020-12-31  Masculino      1955-05-30            peixe   \n",
            "2123    10142522  2020-12-31  Masculino      1954-12-22            peixe   \n",
            "2124    10142881  2020-12-31  Masculino      1952-07-30             gato   \n",
            "2125    10143184  2020-12-31  Masculino      1984-06-05        tartaruga   \n",
            "2126    10143307  2020-12-31  Masculino      1971-08-29        tartaruga   \n",
            "\n",
            "         clima bebida_favorita             hobbies  \n",
            "0         frio         Cerveja    Praticar esporte  \n",
            "1       quente            Café         Assistir TV  \n",
            "2         frio            Café          Ler livros  \n",
            "3     moderado         Cerveja  Aprender algo novo  \n",
            "4     moderado            Café         Assistir TV  \n",
            "...        ...             ...                 ...  \n",
            "2122    quente            Café    Praticar esporte  \n",
            "2123  moderado         Cerveja    Praticar esporte  \n",
            "2124      frio    refrigerante         Assistir TV  \n",
            "2125    quente    refrigerante      Pintar quadros  \n",
            "2126  moderado    refrigerante      Pintar quadros  \n",
            "\n",
            "[2127 rows x 8 columns]\n"
          ]
        },
        {
          "output_type": "execute_result",
          "data": {
            "text/plain": [
              "\"\\nEste código irá ler todos os arquivos CSV dentro do arquivo zip 'pesquisa_preferencias.zip', converter cada um deles em um DataFrame e, em seguida, concatenar todos os DataFrames em um único DataFrame final, se necessário. \\nCertifique-se de ajustar o separador (sep) e a codificação (encoding) conforme necessário para os seus arquivos CSV.\\n\""
            ],
            "application/vnd.google.colaboratory.intrinsic+json": {
              "type": "string"
            }
          },
          "metadata": {},
          "execution_count": 4
        }
      ]
    },
    {
      "cell_type": "code",
      "source": [
        "df.head()"
      ],
      "metadata": {
        "colab": {
          "base_uri": "https://localhost:8080/",
          "height": 206
        },
        "id": "DImEbS8OdjWq",
        "outputId": "226b3046-c1e0-4ddb-8cc5-921a792c9ff0"
      },
      "execution_count": null,
      "outputs": [
        {
          "output_type": "execute_result",
          "data": {
            "text/plain": [
              "   cod_pessoa data_coleta     genero data_nascimento animal_estimacao  \\\n",
              "0    10141743  2020-01-01  Masculino      1981-04-25            peixe   \n",
              "1    10141860  2020-01-01   Feminino      1966-01-19            peixe   \n",
              "2    10142548  2020-01-01  Masculino      1973-08-02        tartaruga   \n",
              "3    10142591  2020-01-01  Masculino      1997-03-05             gato   \n",
              "4    10142654  2020-01-01   Feminino      1969-08-05        tartaruga   \n",
              "\n",
              "      clima bebida_favorita             hobbies  \n",
              "0      frio         Cerveja    Praticar esporte  \n",
              "1    quente            Café         Assistir TV  \n",
              "2      frio            Café          Ler livros  \n",
              "3  moderado         Cerveja  Aprender algo novo  \n",
              "4  moderado            Café         Assistir TV  "
            ],
            "text/html": [
              "\n",
              "  <div id=\"df-1e634d6b-6df8-4c34-a6ad-055c1247d579\" class=\"colab-df-container\">\n",
              "    <div>\n",
              "<style scoped>\n",
              "    .dataframe tbody tr th:only-of-type {\n",
              "        vertical-align: middle;\n",
              "    }\n",
              "\n",
              "    .dataframe tbody tr th {\n",
              "        vertical-align: top;\n",
              "    }\n",
              "\n",
              "    .dataframe thead th {\n",
              "        text-align: right;\n",
              "    }\n",
              "</style>\n",
              "<table border=\"1\" class=\"dataframe\">\n",
              "  <thead>\n",
              "    <tr style=\"text-align: right;\">\n",
              "      <th></th>\n",
              "      <th>cod_pessoa</th>\n",
              "      <th>data_coleta</th>\n",
              "      <th>genero</th>\n",
              "      <th>data_nascimento</th>\n",
              "      <th>animal_estimacao</th>\n",
              "      <th>clima</th>\n",
              "      <th>bebida_favorita</th>\n",
              "      <th>hobbies</th>\n",
              "    </tr>\n",
              "  </thead>\n",
              "  <tbody>\n",
              "    <tr>\n",
              "      <th>0</th>\n",
              "      <td>10141743</td>\n",
              "      <td>2020-01-01</td>\n",
              "      <td>Masculino</td>\n",
              "      <td>1981-04-25</td>\n",
              "      <td>peixe</td>\n",
              "      <td>frio</td>\n",
              "      <td>Cerveja</td>\n",
              "      <td>Praticar esporte</td>\n",
              "    </tr>\n",
              "    <tr>\n",
              "      <th>1</th>\n",
              "      <td>10141860</td>\n",
              "      <td>2020-01-01</td>\n",
              "      <td>Feminino</td>\n",
              "      <td>1966-01-19</td>\n",
              "      <td>peixe</td>\n",
              "      <td>quente</td>\n",
              "      <td>Café</td>\n",
              "      <td>Assistir TV</td>\n",
              "    </tr>\n",
              "    <tr>\n",
              "      <th>2</th>\n",
              "      <td>10142548</td>\n",
              "      <td>2020-01-01</td>\n",
              "      <td>Masculino</td>\n",
              "      <td>1973-08-02</td>\n",
              "      <td>tartaruga</td>\n",
              "      <td>frio</td>\n",
              "      <td>Café</td>\n",
              "      <td>Ler livros</td>\n",
              "    </tr>\n",
              "    <tr>\n",
              "      <th>3</th>\n",
              "      <td>10142591</td>\n",
              "      <td>2020-01-01</td>\n",
              "      <td>Masculino</td>\n",
              "      <td>1997-03-05</td>\n",
              "      <td>gato</td>\n",
              "      <td>moderado</td>\n",
              "      <td>Cerveja</td>\n",
              "      <td>Aprender algo novo</td>\n",
              "    </tr>\n",
              "    <tr>\n",
              "      <th>4</th>\n",
              "      <td>10142654</td>\n",
              "      <td>2020-01-01</td>\n",
              "      <td>Feminino</td>\n",
              "      <td>1969-08-05</td>\n",
              "      <td>tartaruga</td>\n",
              "      <td>moderado</td>\n",
              "      <td>Café</td>\n",
              "      <td>Assistir TV</td>\n",
              "    </tr>\n",
              "  </tbody>\n",
              "</table>\n",
              "</div>\n",
              "    <div class=\"colab-df-buttons\">\n",
              "\n",
              "  <div class=\"colab-df-container\">\n",
              "    <button class=\"colab-df-convert\" onclick=\"convertToInteractive('df-1e634d6b-6df8-4c34-a6ad-055c1247d579')\"\n",
              "            title=\"Convert this dataframe to an interactive table.\"\n",
              "            style=\"display:none;\">\n",
              "\n",
              "  <svg xmlns=\"http://www.w3.org/2000/svg\" height=\"24px\" viewBox=\"0 -960 960 960\">\n",
              "    <path d=\"M120-120v-720h720v720H120Zm60-500h600v-160H180v160Zm220 220h160v-160H400v160Zm0 220h160v-160H400v160ZM180-400h160v-160H180v160Zm440 0h160v-160H620v160ZM180-180h160v-160H180v160Zm440 0h160v-160H620v160Z\"/>\n",
              "  </svg>\n",
              "    </button>\n",
              "\n",
              "  <style>\n",
              "    .colab-df-container {\n",
              "      display:flex;\n",
              "      gap: 12px;\n",
              "    }\n",
              "\n",
              "    .colab-df-convert {\n",
              "      background-color: #E8F0FE;\n",
              "      border: none;\n",
              "      border-radius: 50%;\n",
              "      cursor: pointer;\n",
              "      display: none;\n",
              "      fill: #1967D2;\n",
              "      height: 32px;\n",
              "      padding: 0 0 0 0;\n",
              "      width: 32px;\n",
              "    }\n",
              "\n",
              "    .colab-df-convert:hover {\n",
              "      background-color: #E2EBFA;\n",
              "      box-shadow: 0px 1px 2px rgba(60, 64, 67, 0.3), 0px 1px 3px 1px rgba(60, 64, 67, 0.15);\n",
              "      fill: #174EA6;\n",
              "    }\n",
              "\n",
              "    .colab-df-buttons div {\n",
              "      margin-bottom: 4px;\n",
              "    }\n",
              "\n",
              "    [theme=dark] .colab-df-convert {\n",
              "      background-color: #3B4455;\n",
              "      fill: #D2E3FC;\n",
              "    }\n",
              "\n",
              "    [theme=dark] .colab-df-convert:hover {\n",
              "      background-color: #434B5C;\n",
              "      box-shadow: 0px 1px 3px 1px rgba(0, 0, 0, 0.15);\n",
              "      filter: drop-shadow(0px 1px 2px rgba(0, 0, 0, 0.3));\n",
              "      fill: #FFFFFF;\n",
              "    }\n",
              "  </style>\n",
              "\n",
              "    <script>\n",
              "      const buttonEl =\n",
              "        document.querySelector('#df-1e634d6b-6df8-4c34-a6ad-055c1247d579 button.colab-df-convert');\n",
              "      buttonEl.style.display =\n",
              "        google.colab.kernel.accessAllowed ? 'block' : 'none';\n",
              "\n",
              "      async function convertToInteractive(key) {\n",
              "        const element = document.querySelector('#df-1e634d6b-6df8-4c34-a6ad-055c1247d579');\n",
              "        const dataTable =\n",
              "          await google.colab.kernel.invokeFunction('convertToInteractive',\n",
              "                                                    [key], {});\n",
              "        if (!dataTable) return;\n",
              "\n",
              "        const docLinkHtml = 'Like what you see? Visit the ' +\n",
              "          '<a target=\"_blank\" href=https://colab.research.google.com/notebooks/data_table.ipynb>data table notebook</a>'\n",
              "          + ' to learn more about interactive tables.';\n",
              "        element.innerHTML = '';\n",
              "        dataTable['output_type'] = 'display_data';\n",
              "        await google.colab.output.renderOutput(dataTable, element);\n",
              "        const docLink = document.createElement('div');\n",
              "        docLink.innerHTML = docLinkHtml;\n",
              "        element.appendChild(docLink);\n",
              "      }\n",
              "    </script>\n",
              "  </div>\n",
              "\n",
              "\n",
              "<div id=\"df-6c298e6a-e17c-4c72-abc0-6d0b4bc8cacc\">\n",
              "  <button class=\"colab-df-quickchart\" onclick=\"quickchart('df-6c298e6a-e17c-4c72-abc0-6d0b4bc8cacc')\"\n",
              "            title=\"Suggest charts\"\n",
              "            style=\"display:none;\">\n",
              "\n",
              "<svg xmlns=\"http://www.w3.org/2000/svg\" height=\"24px\"viewBox=\"0 0 24 24\"\n",
              "     width=\"24px\">\n",
              "    <g>\n",
              "        <path d=\"M19 3H5c-1.1 0-2 .9-2 2v14c0 1.1.9 2 2 2h14c1.1 0 2-.9 2-2V5c0-1.1-.9-2-2-2zM9 17H7v-7h2v7zm4 0h-2V7h2v10zm4 0h-2v-4h2v4z\"/>\n",
              "    </g>\n",
              "</svg>\n",
              "  </button>\n",
              "\n",
              "<style>\n",
              "  .colab-df-quickchart {\n",
              "      --bg-color: #E8F0FE;\n",
              "      --fill-color: #1967D2;\n",
              "      --hover-bg-color: #E2EBFA;\n",
              "      --hover-fill-color: #174EA6;\n",
              "      --disabled-fill-color: #AAA;\n",
              "      --disabled-bg-color: #DDD;\n",
              "  }\n",
              "\n",
              "  [theme=dark] .colab-df-quickchart {\n",
              "      --bg-color: #3B4455;\n",
              "      --fill-color: #D2E3FC;\n",
              "      --hover-bg-color: #434B5C;\n",
              "      --hover-fill-color: #FFFFFF;\n",
              "      --disabled-bg-color: #3B4455;\n",
              "      --disabled-fill-color: #666;\n",
              "  }\n",
              "\n",
              "  .colab-df-quickchart {\n",
              "    background-color: var(--bg-color);\n",
              "    border: none;\n",
              "    border-radius: 50%;\n",
              "    cursor: pointer;\n",
              "    display: none;\n",
              "    fill: var(--fill-color);\n",
              "    height: 32px;\n",
              "    padding: 0;\n",
              "    width: 32px;\n",
              "  }\n",
              "\n",
              "  .colab-df-quickchart:hover {\n",
              "    background-color: var(--hover-bg-color);\n",
              "    box-shadow: 0 1px 2px rgba(60, 64, 67, 0.3), 0 1px 3px 1px rgba(60, 64, 67, 0.15);\n",
              "    fill: var(--button-hover-fill-color);\n",
              "  }\n",
              "\n",
              "  .colab-df-quickchart-complete:disabled,\n",
              "  .colab-df-quickchart-complete:disabled:hover {\n",
              "    background-color: var(--disabled-bg-color);\n",
              "    fill: var(--disabled-fill-color);\n",
              "    box-shadow: none;\n",
              "  }\n",
              "\n",
              "  .colab-df-spinner {\n",
              "    border: 2px solid var(--fill-color);\n",
              "    border-color: transparent;\n",
              "    border-bottom-color: var(--fill-color);\n",
              "    animation:\n",
              "      spin 1s steps(1) infinite;\n",
              "  }\n",
              "\n",
              "  @keyframes spin {\n",
              "    0% {\n",
              "      border-color: transparent;\n",
              "      border-bottom-color: var(--fill-color);\n",
              "      border-left-color: var(--fill-color);\n",
              "    }\n",
              "    20% {\n",
              "      border-color: transparent;\n",
              "      border-left-color: var(--fill-color);\n",
              "      border-top-color: var(--fill-color);\n",
              "    }\n",
              "    30% {\n",
              "      border-color: transparent;\n",
              "      border-left-color: var(--fill-color);\n",
              "      border-top-color: var(--fill-color);\n",
              "      border-right-color: var(--fill-color);\n",
              "    }\n",
              "    40% {\n",
              "      border-color: transparent;\n",
              "      border-right-color: var(--fill-color);\n",
              "      border-top-color: var(--fill-color);\n",
              "    }\n",
              "    60% {\n",
              "      border-color: transparent;\n",
              "      border-right-color: var(--fill-color);\n",
              "    }\n",
              "    80% {\n",
              "      border-color: transparent;\n",
              "      border-right-color: var(--fill-color);\n",
              "      border-bottom-color: var(--fill-color);\n",
              "    }\n",
              "    90% {\n",
              "      border-color: transparent;\n",
              "      border-bottom-color: var(--fill-color);\n",
              "    }\n",
              "  }\n",
              "</style>\n",
              "\n",
              "  <script>\n",
              "    async function quickchart(key) {\n",
              "      const quickchartButtonEl =\n",
              "        document.querySelector('#' + key + ' button');\n",
              "      quickchartButtonEl.disabled = true;  // To prevent multiple clicks.\n",
              "      quickchartButtonEl.classList.add('colab-df-spinner');\n",
              "      try {\n",
              "        const charts = await google.colab.kernel.invokeFunction(\n",
              "            'suggestCharts', [key], {});\n",
              "      } catch (error) {\n",
              "        console.error('Error during call to suggestCharts:', error);\n",
              "      }\n",
              "      quickchartButtonEl.classList.remove('colab-df-spinner');\n",
              "      quickchartButtonEl.classList.add('colab-df-quickchart-complete');\n",
              "    }\n",
              "    (() => {\n",
              "      let quickchartButtonEl =\n",
              "        document.querySelector('#df-6c298e6a-e17c-4c72-abc0-6d0b4bc8cacc button');\n",
              "      quickchartButtonEl.style.display =\n",
              "        google.colab.kernel.accessAllowed ? 'block' : 'none';\n",
              "    })();\n",
              "  </script>\n",
              "</div>\n",
              "\n",
              "    </div>\n",
              "  </div>\n"
            ],
            "application/vnd.google.colaboratory.intrinsic+json": {
              "type": "dataframe",
              "variable_name": "df",
              "summary": "{\n  \"name\": \"df\",\n  \"rows\": 2127,\n  \"fields\": [\n    {\n      \"column\": \"cod_pessoa\",\n      \"properties\": {\n        \"dtype\": \"number\",\n        \"std\": 614,\n        \"min\": 10141501,\n        \"max\": 10143627,\n        \"num_unique_values\": 2127,\n        \"samples\": [\n          10141829,\n          10143370,\n          10141883\n        ],\n        \"semantic_type\": \"\",\n        \"description\": \"\"\n      }\n    },\n    {\n      \"column\": \"data_coleta\",\n      \"properties\": {\n        \"dtype\": \"object\",\n        \"num_unique_values\": 363,\n        \"samples\": [\n          \"2020-06-14\",\n          \"2020-02-03\",\n          \"2020-01-16\"\n        ],\n        \"semantic_type\": \"\",\n        \"description\": \"\"\n      }\n    },\n    {\n      \"column\": \"genero\",\n      \"properties\": {\n        \"dtype\": \"category\",\n        \"num_unique_values\": 2,\n        \"samples\": [\n          \"Feminino\",\n          \"Masculino\"\n        ],\n        \"semantic_type\": \"\",\n        \"description\": \"\"\n      }\n    },\n    {\n      \"column\": \"data_nascimento\",\n      \"properties\": {\n        \"dtype\": \"object\",\n        \"num_unique_values\": 2001,\n        \"samples\": [\n          \"1968-11-10\",\n          \"1970-11-04\"\n        ],\n        \"semantic_type\": \"\",\n        \"description\": \"\"\n      }\n    },\n    {\n      \"column\": \"animal_estimacao\",\n      \"properties\": {\n        \"dtype\": \"category\",\n        \"num_unique_values\": 4,\n        \"samples\": [\n          \"tartaruga\",\n          \"cachorro\"\n        ],\n        \"semantic_type\": \"\",\n        \"description\": \"\"\n      }\n    },\n    {\n      \"column\": \"clima\",\n      \"properties\": {\n        \"dtype\": \"category\",\n        \"num_unique_values\": 3,\n        \"samples\": [\n          \"frio\",\n          \"quente\"\n        ],\n        \"semantic_type\": \"\",\n        \"description\": \"\"\n      }\n    },\n    {\n      \"column\": \"bebida_favorita\",\n      \"properties\": {\n        \"dtype\": \"category\",\n        \"num_unique_values\": 6,\n        \"samples\": [\n          \"Cerveja\",\n          \"Caf\\u00e9\"\n        ],\n        \"semantic_type\": \"\",\n        \"description\": \"\"\n      }\n    },\n    {\n      \"column\": \"hobbies\",\n      \"properties\": {\n        \"dtype\": \"category\",\n        \"num_unique_values\": 8,\n        \"samples\": [\n          \"Assistir TV\",\n          \"Pintar quadros\"\n        ],\n        \"semantic_type\": \"\",\n        \"description\": \"\"\n      }\n    }\n  ]\n}"
            }
          },
          "metadata": {},
          "execution_count": 5
        }
      ]
    },
    {
      "cell_type": "code",
      "source": [
        "data_ref = pd.to_datetime('2024-03-05')"
      ],
      "metadata": {
        "id": "CZ5u3SYOjoaF"
      },
      "execution_count": null,
      "outputs": []
    },
    {
      "cell_type": "code",
      "source": [
        "df.shape"
      ],
      "metadata": {
        "colab": {
          "base_uri": "https://localhost:8080/"
        },
        "id": "UHRD3OYrj5In",
        "outputId": "17c81cc2-0f5d-43dc-b1ba-f9effc680e1d"
      },
      "execution_count": null,
      "outputs": [
        {
          "output_type": "execute_result",
          "data": {
            "text/plain": [
              "(2127, 8)"
            ]
          },
          "metadata": {},
          "execution_count": 7
        }
      ]
    },
    {
      "cell_type": "code",
      "source": [
        "# Aplicando a conversão na variável DataNascimento\n",
        "df['data_nascimento'] = df['data_nascimento'].astype('datetime64[ns]')"
      ],
      "metadata": {
        "id": "LB7bV808mvXh"
      },
      "execution_count": null,
      "outputs": []
    },
    {
      "cell_type": "code",
      "source": [
        "df.dtypes"
      ],
      "metadata": {
        "colab": {
          "base_uri": "https://localhost:8080/"
        },
        "id": "8TkqqwIgj0ZE",
        "outputId": "5ed9f028-a298-4024-c169-fe2cbfbf2595"
      },
      "execution_count": null,
      "outputs": [
        {
          "output_type": "execute_result",
          "data": {
            "text/plain": [
              "cod_pessoa                   int64\n",
              "data_coleta                 object\n",
              "genero                      object\n",
              "data_nascimento     datetime64[ns]\n",
              "animal_estimacao            object\n",
              "clima                       object\n",
              "bebida_favorita             object\n",
              "hobbies                     object\n",
              "dtype: object"
            ]
          },
          "metadata": {},
          "execution_count": 9
        }
      ]
    },
    {
      "cell_type": "code",
      "source": [
        "df.info()"
      ],
      "metadata": {
        "colab": {
          "base_uri": "https://localhost:8080/"
        },
        "id": "H1UHpMl3j2zq",
        "outputId": "304a332b-3c22-416c-ef12-eaf76dc3a279"
      },
      "execution_count": null,
      "outputs": [
        {
          "output_type": "stream",
          "name": "stdout",
          "text": [
            "<class 'pandas.core.frame.DataFrame'>\n",
            "RangeIndex: 2127 entries, 0 to 2126\n",
            "Data columns (total 8 columns):\n",
            " #   Column            Non-Null Count  Dtype         \n",
            "---  ------            --------------  -----         \n",
            " 0   cod_pessoa        2127 non-null   int64         \n",
            " 1   data_coleta       2127 non-null   object        \n",
            " 2   genero            2127 non-null   object        \n",
            " 3   data_nascimento   2127 non-null   datetime64[ns]\n",
            " 4   animal_estimacao  2127 non-null   object        \n",
            " 5   clima             2127 non-null   object        \n",
            " 6   bebida_favorita   2127 non-null   object        \n",
            " 7   hobbies           2127 non-null   object        \n",
            "dtypes: datetime64[ns](1), int64(1), object(6)\n",
            "memory usage: 133.1+ KB\n"
          ]
        }
      ]
    },
    {
      "cell_type": "code",
      "source": [
        "df.isnull().count()"
      ],
      "metadata": {
        "colab": {
          "base_uri": "https://localhost:8080/"
        },
        "id": "IR6P0R0djvnv",
        "outputId": "6c3ff207-cf74-4fe8-85b6-7016df7c36f8"
      },
      "execution_count": null,
      "outputs": [
        {
          "output_type": "execute_result",
          "data": {
            "text/plain": [
              "cod_pessoa          2127\n",
              "data_coleta         2127\n",
              "genero              2127\n",
              "data_nascimento     2127\n",
              "animal_estimacao    2127\n",
              "clima               2127\n",
              "bebida_favorita     2127\n",
              "hobbies             2127\n",
              "dtype: int64"
            ]
          },
          "metadata": {},
          "execution_count": 11
        }
      ]
    },
    {
      "cell_type": "code",
      "source": [
        "duplicados = df.duplicated().sum()\n",
        "print(duplicados)\n"
      ],
      "metadata": {
        "colab": {
          "base_uri": "https://localhost:8080/"
        },
        "id": "bHNV-6OHnr7c",
        "outputId": "f0aa0fe6-e6bc-434c-c045-034f612f5911"
      },
      "execution_count": null,
      "outputs": [
        {
          "output_type": "stream",
          "name": "stdout",
          "text": [
            "0\n"
          ]
        }
      ]
    },
    {
      "cell_type": "markdown",
      "source": [
        "##Análises"
      ],
      "metadata": {
        "id": "HeCxZo0CkIoP"
      }
    },
    {
      "cell_type": "markdown",
      "source": [
        "Qual é o animal de estimação de maior preferência entre as mulheres?\n"
      ],
      "metadata": {
        "id": "otpXxzY0kKbs"
      }
    },
    {
      "cell_type": "code",
      "source": [
        "df['genero'].unique()"
      ],
      "metadata": {
        "id": "0FQhSD_1kOj5",
        "colab": {
          "base_uri": "https://localhost:8080/"
        },
        "outputId": "b67ecb8a-9bed-4017-fbb4-039d419a1f18"
      },
      "execution_count": null,
      "outputs": [
        {
          "output_type": "execute_result",
          "data": {
            "text/plain": [
              "array(['Masculino', 'Feminino'], dtype=object)"
            ]
          },
          "metadata": {},
          "execution_count": 13
        }
      ]
    },
    {
      "cell_type": "code",
      "source": [
        "df_mulheres = df[df['genero'] == 'Feminino']\n",
        "df_mulheres"
      ],
      "metadata": {
        "colab": {
          "base_uri": "https://localhost:8080/",
          "height": 424
        },
        "id": "3UfM64zVk2U3",
        "outputId": "20595cc8-b60d-4e9f-c420-09ab156f4715"
      },
      "execution_count": null,
      "outputs": [
        {
          "output_type": "execute_result",
          "data": {
            "text/plain": [
              "      cod_pessoa data_coleta    genero data_nascimento animal_estimacao  \\\n",
              "1       10141860  2020-01-01  Feminino      1966-01-19            peixe   \n",
              "4       10142654  2020-01-01  Feminino      1969-08-05        tartaruga   \n",
              "5       10141523  2020-01-02  Feminino      1998-09-24             gato   \n",
              "6       10141996  2020-01-02  Feminino      1973-03-13        tartaruga   \n",
              "7       10142089  2020-01-02  Feminino      1970-03-23             gato   \n",
              "...          ...         ...       ...             ...              ...   \n",
              "2109    10141656  2020-12-29  Feminino      1981-12-27            peixe   \n",
              "2111    10142003  2020-12-29  Feminino      1987-05-04         cachorro   \n",
              "2112    10142040  2020-12-29  Feminino      1978-09-11            peixe   \n",
              "2113    10142621  2020-12-29  Feminino      1981-11-18         cachorro   \n",
              "2115    10141560  2020-12-30  Feminino      1969-06-05        tartaruga   \n",
              "\n",
              "         clima bebida_favorita             hobbies  \n",
              "1       quente            Café         Assistir TV  \n",
              "4     moderado            Café         Assistir TV  \n",
              "5       quente         Cerveja  Aprender algo novo  \n",
              "6       quente    refrigerante            Escrever  \n",
              "7     moderado            Água      Pintar quadros  \n",
              "...        ...             ...                 ...  \n",
              "2109  moderado            Água    Praticar esporte  \n",
              "2111    quente         Cerveja      Escutar música  \n",
              "2112  moderado            Água          Ler livros  \n",
              "2113  moderado           Vinho          Ler livros  \n",
              "2115    quente            Café          Ler livros  \n",
              "\n",
              "[729 rows x 8 columns]"
            ],
            "text/html": [
              "\n",
              "  <div id=\"df-85f652c1-b872-458a-8b9b-0041b3c37845\" class=\"colab-df-container\">\n",
              "    <div>\n",
              "<style scoped>\n",
              "    .dataframe tbody tr th:only-of-type {\n",
              "        vertical-align: middle;\n",
              "    }\n",
              "\n",
              "    .dataframe tbody tr th {\n",
              "        vertical-align: top;\n",
              "    }\n",
              "\n",
              "    .dataframe thead th {\n",
              "        text-align: right;\n",
              "    }\n",
              "</style>\n",
              "<table border=\"1\" class=\"dataframe\">\n",
              "  <thead>\n",
              "    <tr style=\"text-align: right;\">\n",
              "      <th></th>\n",
              "      <th>cod_pessoa</th>\n",
              "      <th>data_coleta</th>\n",
              "      <th>genero</th>\n",
              "      <th>data_nascimento</th>\n",
              "      <th>animal_estimacao</th>\n",
              "      <th>clima</th>\n",
              "      <th>bebida_favorita</th>\n",
              "      <th>hobbies</th>\n",
              "    </tr>\n",
              "  </thead>\n",
              "  <tbody>\n",
              "    <tr>\n",
              "      <th>1</th>\n",
              "      <td>10141860</td>\n",
              "      <td>2020-01-01</td>\n",
              "      <td>Feminino</td>\n",
              "      <td>1966-01-19</td>\n",
              "      <td>peixe</td>\n",
              "      <td>quente</td>\n",
              "      <td>Café</td>\n",
              "      <td>Assistir TV</td>\n",
              "    </tr>\n",
              "    <tr>\n",
              "      <th>4</th>\n",
              "      <td>10142654</td>\n",
              "      <td>2020-01-01</td>\n",
              "      <td>Feminino</td>\n",
              "      <td>1969-08-05</td>\n",
              "      <td>tartaruga</td>\n",
              "      <td>moderado</td>\n",
              "      <td>Café</td>\n",
              "      <td>Assistir TV</td>\n",
              "    </tr>\n",
              "    <tr>\n",
              "      <th>5</th>\n",
              "      <td>10141523</td>\n",
              "      <td>2020-01-02</td>\n",
              "      <td>Feminino</td>\n",
              "      <td>1998-09-24</td>\n",
              "      <td>gato</td>\n",
              "      <td>quente</td>\n",
              "      <td>Cerveja</td>\n",
              "      <td>Aprender algo novo</td>\n",
              "    </tr>\n",
              "    <tr>\n",
              "      <th>6</th>\n",
              "      <td>10141996</td>\n",
              "      <td>2020-01-02</td>\n",
              "      <td>Feminino</td>\n",
              "      <td>1973-03-13</td>\n",
              "      <td>tartaruga</td>\n",
              "      <td>quente</td>\n",
              "      <td>refrigerante</td>\n",
              "      <td>Escrever</td>\n",
              "    </tr>\n",
              "    <tr>\n",
              "      <th>7</th>\n",
              "      <td>10142089</td>\n",
              "      <td>2020-01-02</td>\n",
              "      <td>Feminino</td>\n",
              "      <td>1970-03-23</td>\n",
              "      <td>gato</td>\n",
              "      <td>moderado</td>\n",
              "      <td>Água</td>\n",
              "      <td>Pintar quadros</td>\n",
              "    </tr>\n",
              "    <tr>\n",
              "      <th>...</th>\n",
              "      <td>...</td>\n",
              "      <td>...</td>\n",
              "      <td>...</td>\n",
              "      <td>...</td>\n",
              "      <td>...</td>\n",
              "      <td>...</td>\n",
              "      <td>...</td>\n",
              "      <td>...</td>\n",
              "    </tr>\n",
              "    <tr>\n",
              "      <th>2109</th>\n",
              "      <td>10141656</td>\n",
              "      <td>2020-12-29</td>\n",
              "      <td>Feminino</td>\n",
              "      <td>1981-12-27</td>\n",
              "      <td>peixe</td>\n",
              "      <td>moderado</td>\n",
              "      <td>Água</td>\n",
              "      <td>Praticar esporte</td>\n",
              "    </tr>\n",
              "    <tr>\n",
              "      <th>2111</th>\n",
              "      <td>10142003</td>\n",
              "      <td>2020-12-29</td>\n",
              "      <td>Feminino</td>\n",
              "      <td>1987-05-04</td>\n",
              "      <td>cachorro</td>\n",
              "      <td>quente</td>\n",
              "      <td>Cerveja</td>\n",
              "      <td>Escutar música</td>\n",
              "    </tr>\n",
              "    <tr>\n",
              "      <th>2112</th>\n",
              "      <td>10142040</td>\n",
              "      <td>2020-12-29</td>\n",
              "      <td>Feminino</td>\n",
              "      <td>1978-09-11</td>\n",
              "      <td>peixe</td>\n",
              "      <td>moderado</td>\n",
              "      <td>Água</td>\n",
              "      <td>Ler livros</td>\n",
              "    </tr>\n",
              "    <tr>\n",
              "      <th>2113</th>\n",
              "      <td>10142621</td>\n",
              "      <td>2020-12-29</td>\n",
              "      <td>Feminino</td>\n",
              "      <td>1981-11-18</td>\n",
              "      <td>cachorro</td>\n",
              "      <td>moderado</td>\n",
              "      <td>Vinho</td>\n",
              "      <td>Ler livros</td>\n",
              "    </tr>\n",
              "    <tr>\n",
              "      <th>2115</th>\n",
              "      <td>10141560</td>\n",
              "      <td>2020-12-30</td>\n",
              "      <td>Feminino</td>\n",
              "      <td>1969-06-05</td>\n",
              "      <td>tartaruga</td>\n",
              "      <td>quente</td>\n",
              "      <td>Café</td>\n",
              "      <td>Ler livros</td>\n",
              "    </tr>\n",
              "  </tbody>\n",
              "</table>\n",
              "<p>729 rows × 8 columns</p>\n",
              "</div>\n",
              "    <div class=\"colab-df-buttons\">\n",
              "\n",
              "  <div class=\"colab-df-container\">\n",
              "    <button class=\"colab-df-convert\" onclick=\"convertToInteractive('df-85f652c1-b872-458a-8b9b-0041b3c37845')\"\n",
              "            title=\"Convert this dataframe to an interactive table.\"\n",
              "            style=\"display:none;\">\n",
              "\n",
              "  <svg xmlns=\"http://www.w3.org/2000/svg\" height=\"24px\" viewBox=\"0 -960 960 960\">\n",
              "    <path d=\"M120-120v-720h720v720H120Zm60-500h600v-160H180v160Zm220 220h160v-160H400v160Zm0 220h160v-160H400v160ZM180-400h160v-160H180v160Zm440 0h160v-160H620v160ZM180-180h160v-160H180v160Zm440 0h160v-160H620v160Z\"/>\n",
              "  </svg>\n",
              "    </button>\n",
              "\n",
              "  <style>\n",
              "    .colab-df-container {\n",
              "      display:flex;\n",
              "      gap: 12px;\n",
              "    }\n",
              "\n",
              "    .colab-df-convert {\n",
              "      background-color: #E8F0FE;\n",
              "      border: none;\n",
              "      border-radius: 50%;\n",
              "      cursor: pointer;\n",
              "      display: none;\n",
              "      fill: #1967D2;\n",
              "      height: 32px;\n",
              "      padding: 0 0 0 0;\n",
              "      width: 32px;\n",
              "    }\n",
              "\n",
              "    .colab-df-convert:hover {\n",
              "      background-color: #E2EBFA;\n",
              "      box-shadow: 0px 1px 2px rgba(60, 64, 67, 0.3), 0px 1px 3px 1px rgba(60, 64, 67, 0.15);\n",
              "      fill: #174EA6;\n",
              "    }\n",
              "\n",
              "    .colab-df-buttons div {\n",
              "      margin-bottom: 4px;\n",
              "    }\n",
              "\n",
              "    [theme=dark] .colab-df-convert {\n",
              "      background-color: #3B4455;\n",
              "      fill: #D2E3FC;\n",
              "    }\n",
              "\n",
              "    [theme=dark] .colab-df-convert:hover {\n",
              "      background-color: #434B5C;\n",
              "      box-shadow: 0px 1px 3px 1px rgba(0, 0, 0, 0.15);\n",
              "      filter: drop-shadow(0px 1px 2px rgba(0, 0, 0, 0.3));\n",
              "      fill: #FFFFFF;\n",
              "    }\n",
              "  </style>\n",
              "\n",
              "    <script>\n",
              "      const buttonEl =\n",
              "        document.querySelector('#df-85f652c1-b872-458a-8b9b-0041b3c37845 button.colab-df-convert');\n",
              "      buttonEl.style.display =\n",
              "        google.colab.kernel.accessAllowed ? 'block' : 'none';\n",
              "\n",
              "      async function convertToInteractive(key) {\n",
              "        const element = document.querySelector('#df-85f652c1-b872-458a-8b9b-0041b3c37845');\n",
              "        const dataTable =\n",
              "          await google.colab.kernel.invokeFunction('convertToInteractive',\n",
              "                                                    [key], {});\n",
              "        if (!dataTable) return;\n",
              "\n",
              "        const docLinkHtml = 'Like what you see? Visit the ' +\n",
              "          '<a target=\"_blank\" href=https://colab.research.google.com/notebooks/data_table.ipynb>data table notebook</a>'\n",
              "          + ' to learn more about interactive tables.';\n",
              "        element.innerHTML = '';\n",
              "        dataTable['output_type'] = 'display_data';\n",
              "        await google.colab.output.renderOutput(dataTable, element);\n",
              "        const docLink = document.createElement('div');\n",
              "        docLink.innerHTML = docLinkHtml;\n",
              "        element.appendChild(docLink);\n",
              "      }\n",
              "    </script>\n",
              "  </div>\n",
              "\n",
              "\n",
              "<div id=\"df-8d3f2d49-5c8a-4cc7-892c-22d3d209caf8\">\n",
              "  <button class=\"colab-df-quickchart\" onclick=\"quickchart('df-8d3f2d49-5c8a-4cc7-892c-22d3d209caf8')\"\n",
              "            title=\"Suggest charts\"\n",
              "            style=\"display:none;\">\n",
              "\n",
              "<svg xmlns=\"http://www.w3.org/2000/svg\" height=\"24px\"viewBox=\"0 0 24 24\"\n",
              "     width=\"24px\">\n",
              "    <g>\n",
              "        <path d=\"M19 3H5c-1.1 0-2 .9-2 2v14c0 1.1.9 2 2 2h14c1.1 0 2-.9 2-2V5c0-1.1-.9-2-2-2zM9 17H7v-7h2v7zm4 0h-2V7h2v10zm4 0h-2v-4h2v4z\"/>\n",
              "    </g>\n",
              "</svg>\n",
              "  </button>\n",
              "\n",
              "<style>\n",
              "  .colab-df-quickchart {\n",
              "      --bg-color: #E8F0FE;\n",
              "      --fill-color: #1967D2;\n",
              "      --hover-bg-color: #E2EBFA;\n",
              "      --hover-fill-color: #174EA6;\n",
              "      --disabled-fill-color: #AAA;\n",
              "      --disabled-bg-color: #DDD;\n",
              "  }\n",
              "\n",
              "  [theme=dark] .colab-df-quickchart {\n",
              "      --bg-color: #3B4455;\n",
              "      --fill-color: #D2E3FC;\n",
              "      --hover-bg-color: #434B5C;\n",
              "      --hover-fill-color: #FFFFFF;\n",
              "      --disabled-bg-color: #3B4455;\n",
              "      --disabled-fill-color: #666;\n",
              "  }\n",
              "\n",
              "  .colab-df-quickchart {\n",
              "    background-color: var(--bg-color);\n",
              "    border: none;\n",
              "    border-radius: 50%;\n",
              "    cursor: pointer;\n",
              "    display: none;\n",
              "    fill: var(--fill-color);\n",
              "    height: 32px;\n",
              "    padding: 0;\n",
              "    width: 32px;\n",
              "  }\n",
              "\n",
              "  .colab-df-quickchart:hover {\n",
              "    background-color: var(--hover-bg-color);\n",
              "    box-shadow: 0 1px 2px rgba(60, 64, 67, 0.3), 0 1px 3px 1px rgba(60, 64, 67, 0.15);\n",
              "    fill: var(--button-hover-fill-color);\n",
              "  }\n",
              "\n",
              "  .colab-df-quickchart-complete:disabled,\n",
              "  .colab-df-quickchart-complete:disabled:hover {\n",
              "    background-color: var(--disabled-bg-color);\n",
              "    fill: var(--disabled-fill-color);\n",
              "    box-shadow: none;\n",
              "  }\n",
              "\n",
              "  .colab-df-spinner {\n",
              "    border: 2px solid var(--fill-color);\n",
              "    border-color: transparent;\n",
              "    border-bottom-color: var(--fill-color);\n",
              "    animation:\n",
              "      spin 1s steps(1) infinite;\n",
              "  }\n",
              "\n",
              "  @keyframes spin {\n",
              "    0% {\n",
              "      border-color: transparent;\n",
              "      border-bottom-color: var(--fill-color);\n",
              "      border-left-color: var(--fill-color);\n",
              "    }\n",
              "    20% {\n",
              "      border-color: transparent;\n",
              "      border-left-color: var(--fill-color);\n",
              "      border-top-color: var(--fill-color);\n",
              "    }\n",
              "    30% {\n",
              "      border-color: transparent;\n",
              "      border-left-color: var(--fill-color);\n",
              "      border-top-color: var(--fill-color);\n",
              "      border-right-color: var(--fill-color);\n",
              "    }\n",
              "    40% {\n",
              "      border-color: transparent;\n",
              "      border-right-color: var(--fill-color);\n",
              "      border-top-color: var(--fill-color);\n",
              "    }\n",
              "    60% {\n",
              "      border-color: transparent;\n",
              "      border-right-color: var(--fill-color);\n",
              "    }\n",
              "    80% {\n",
              "      border-color: transparent;\n",
              "      border-right-color: var(--fill-color);\n",
              "      border-bottom-color: var(--fill-color);\n",
              "    }\n",
              "    90% {\n",
              "      border-color: transparent;\n",
              "      border-bottom-color: var(--fill-color);\n",
              "    }\n",
              "  }\n",
              "</style>\n",
              "\n",
              "  <script>\n",
              "    async function quickchart(key) {\n",
              "      const quickchartButtonEl =\n",
              "        document.querySelector('#' + key + ' button');\n",
              "      quickchartButtonEl.disabled = true;  // To prevent multiple clicks.\n",
              "      quickchartButtonEl.classList.add('colab-df-spinner');\n",
              "      try {\n",
              "        const charts = await google.colab.kernel.invokeFunction(\n",
              "            'suggestCharts', [key], {});\n",
              "      } catch (error) {\n",
              "        console.error('Error during call to suggestCharts:', error);\n",
              "      }\n",
              "      quickchartButtonEl.classList.remove('colab-df-spinner');\n",
              "      quickchartButtonEl.classList.add('colab-df-quickchart-complete');\n",
              "    }\n",
              "    (() => {\n",
              "      let quickchartButtonEl =\n",
              "        document.querySelector('#df-8d3f2d49-5c8a-4cc7-892c-22d3d209caf8 button');\n",
              "      quickchartButtonEl.style.display =\n",
              "        google.colab.kernel.accessAllowed ? 'block' : 'none';\n",
              "    })();\n",
              "  </script>\n",
              "</div>\n",
              "\n",
              "  <div id=\"id_fa722e55-0337-44fe-bcb2-de3d8c209890\">\n",
              "    <style>\n",
              "      .colab-df-generate {\n",
              "        background-color: #E8F0FE;\n",
              "        border: none;\n",
              "        border-radius: 50%;\n",
              "        cursor: pointer;\n",
              "        display: none;\n",
              "        fill: #1967D2;\n",
              "        height: 32px;\n",
              "        padding: 0 0 0 0;\n",
              "        width: 32px;\n",
              "      }\n",
              "\n",
              "      .colab-df-generate:hover {\n",
              "        background-color: #E2EBFA;\n",
              "        box-shadow: 0px 1px 2px rgba(60, 64, 67, 0.3), 0px 1px 3px 1px rgba(60, 64, 67, 0.15);\n",
              "        fill: #174EA6;\n",
              "      }\n",
              "\n",
              "      [theme=dark] .colab-df-generate {\n",
              "        background-color: #3B4455;\n",
              "        fill: #D2E3FC;\n",
              "      }\n",
              "\n",
              "      [theme=dark] .colab-df-generate:hover {\n",
              "        background-color: #434B5C;\n",
              "        box-shadow: 0px 1px 3px 1px rgba(0, 0, 0, 0.15);\n",
              "        filter: drop-shadow(0px 1px 2px rgba(0, 0, 0, 0.3));\n",
              "        fill: #FFFFFF;\n",
              "      }\n",
              "    </style>\n",
              "    <button class=\"colab-df-generate\" onclick=\"generateWithVariable('df_mulheres')\"\n",
              "            title=\"Generate code using this dataframe.\"\n",
              "            style=\"display:none;\">\n",
              "\n",
              "  <svg xmlns=\"http://www.w3.org/2000/svg\" height=\"24px\"viewBox=\"0 0 24 24\"\n",
              "       width=\"24px\">\n",
              "    <path d=\"M7,19H8.4L18.45,9,17,7.55,7,17.6ZM5,21V16.75L18.45,3.32a2,2,0,0,1,2.83,0l1.4,1.43a1.91,1.91,0,0,1,.58,1.4,1.91,1.91,0,0,1-.58,1.4L9.25,21ZM18.45,9,17,7.55Zm-12,3A5.31,5.31,0,0,0,4.9,8.1,5.31,5.31,0,0,0,1,6.5,5.31,5.31,0,0,0,4.9,4.9,5.31,5.31,0,0,0,6.5,1,5.31,5.31,0,0,0,8.1,4.9,5.31,5.31,0,0,0,12,6.5,5.46,5.46,0,0,0,6.5,12Z\"/>\n",
              "  </svg>\n",
              "    </button>\n",
              "    <script>\n",
              "      (() => {\n",
              "      const buttonEl =\n",
              "        document.querySelector('#id_fa722e55-0337-44fe-bcb2-de3d8c209890 button.colab-df-generate');\n",
              "      buttonEl.style.display =\n",
              "        google.colab.kernel.accessAllowed ? 'block' : 'none';\n",
              "\n",
              "      buttonEl.onclick = () => {\n",
              "        google.colab.notebook.generateWithVariable('df_mulheres');\n",
              "      }\n",
              "      })();\n",
              "    </script>\n",
              "  </div>\n",
              "\n",
              "    </div>\n",
              "  </div>\n"
            ],
            "application/vnd.google.colaboratory.intrinsic+json": {
              "type": "dataframe",
              "variable_name": "df_mulheres",
              "repr_error": "0"
            }
          },
          "metadata": {},
          "execution_count": 14
        }
      ]
    },
    {
      "cell_type": "code",
      "source": [
        "preferencias = df_mulheres['animal_estimacao'].value_counts()\n",
        "animal_preferido = preferencias.idxmax()\n",
        "\n",
        "print(preferencias)\n",
        "print(animal_preferido)"
      ],
      "metadata": {
        "colab": {
          "base_uri": "https://localhost:8080/"
        },
        "id": "qyj_oSJXkz3h",
        "outputId": "1e37bc0e-7d2c-4366-cd4f-2830980ffd43"
      },
      "execution_count": null,
      "outputs": [
        {
          "output_type": "stream",
          "name": "stdout",
          "text": [
            "gato         279\n",
            "peixe        158\n",
            "tartaruga    149\n",
            "cachorro     143\n",
            "Name: animal_estimacao, dtype: int64\n",
            "gato\n"
          ]
        }
      ]
    },
    {
      "cell_type": "markdown",
      "source": [
        "Qual é a soma das pessoas que gostam de cachorro ou gato?\n"
      ],
      "metadata": {
        "id": "gzijXXxZlkyU"
      }
    },
    {
      "cell_type": "code",
      "source": [
        "preferencia = df[(df['animal_estimacao'] == 'cachorro') | (df['animal_estimacao'] == 'gato')]\n",
        "preferencia.shape"
      ],
      "metadata": {
        "colab": {
          "base_uri": "https://localhost:8080/"
        },
        "id": "v29UiEQhkbO6",
        "outputId": "bc6a40f7-a2a7-410a-98d6-d07b4aa88d23"
      },
      "execution_count": null,
      "outputs": [
        {
          "output_type": "execute_result",
          "data": {
            "text/plain": [
              "(1278, 8)"
            ]
          },
          "metadata": {},
          "execution_count": 16
        }
      ]
    },
    {
      "cell_type": "markdown",
      "source": [
        "Quantos homens preferem o clima frio?\n"
      ],
      "metadata": {
        "id": "Tn8ZJGmdlrXh"
      }
    },
    {
      "cell_type": "code",
      "source": [
        "df['clima'].unique()"
      ],
      "metadata": {
        "colab": {
          "base_uri": "https://localhost:8080/"
        },
        "id": "DmAg49VOl2Qw",
        "outputId": "74778c64-1081-4b74-cb65-e8abee907c34"
      },
      "execution_count": null,
      "outputs": [
        {
          "output_type": "execute_result",
          "data": {
            "text/plain": [
              "array(['frio', 'quente', 'moderado'], dtype=object)"
            ]
          },
          "metadata": {},
          "execution_count": 17
        }
      ]
    },
    {
      "cell_type": "code",
      "source": [
        "preferencia = df[(df['genero'] == 'Masculino') & (df['clima'] == 'frio')]\n",
        "preferencia.shape"
      ],
      "metadata": {
        "colab": {
          "base_uri": "https://localhost:8080/"
        },
        "id": "AdHLHGaVlru3",
        "outputId": "0d1cd189-5c27-454d-97a9-558bd41bd3a4"
      },
      "execution_count": null,
      "outputs": [
        {
          "output_type": "execute_result",
          "data": {
            "text/plain": [
              "(472, 8)"
            ]
          },
          "metadata": {},
          "execution_count": 18
        }
      ]
    },
    {
      "cell_type": "markdown",
      "source": [
        "Qual é a média de idade dos homens que têm preferência por chá e clima frio?"
      ],
      "metadata": {
        "id": "W04TNBC3l9q0"
      }
    },
    {
      "cell_type": "code",
      "source": [
        "df['bebida_favorita'].unique()"
      ],
      "metadata": {
        "colab": {
          "base_uri": "https://localhost:8080/"
        },
        "id": "xumifvBjmWQq",
        "outputId": "874e44fb-a79c-4bf4-a4fb-a98424bfb0e3"
      },
      "execution_count": null,
      "outputs": [
        {
          "output_type": "execute_result",
          "data": {
            "text/plain": [
              "array(['Cerveja', 'Café', 'refrigerante', 'Água', 'Vinho', 'Chá'],\n",
              "      dtype=object)"
            ]
          },
          "metadata": {},
          "execution_count": 19
        }
      ]
    },
    {
      "cell_type": "code",
      "source": [
        "data_ref = pd.to_datetime('2024-03-05')"
      ],
      "metadata": {
        "id": "tJZVQ0pommIN"
      },
      "execution_count": null,
      "outputs": []
    },
    {
      "cell_type": "code",
      "source": [
        "# Cria nova coluna no dataframe chamado Idade\n",
        "df['idade'] = (pd.to_datetime(data_ref) - df['data_nascimento']).astype('<m8[Y]')\n",
        "\n",
        "# Transforma idade em número inteiro\n",
        "df['idade'] = df['idade'].astype('int64')"
      ],
      "metadata": {
        "id": "2iuwri1Bmeb5"
      },
      "execution_count": null,
      "outputs": []
    },
    {
      "cell_type": "code",
      "source": [
        "df.head(3)"
      ],
      "metadata": {
        "colab": {
          "base_uri": "https://localhost:8080/",
          "height": 143
        },
        "id": "-o7AQ_rOm5L2",
        "outputId": "b874a92e-baf1-4bb1-b21f-e8bae90eaaa3"
      },
      "execution_count": null,
      "outputs": [
        {
          "output_type": "execute_result",
          "data": {
            "text/plain": [
              "   cod_pessoa data_coleta     genero data_nascimento animal_estimacao   clima  \\\n",
              "0    10141743  2020-01-01  Masculino      1981-04-25            peixe    frio   \n",
              "1    10141860  2020-01-01   Feminino      1966-01-19            peixe  quente   \n",
              "2    10142548  2020-01-01  Masculino      1973-08-02        tartaruga    frio   \n",
              "\n",
              "  bebida_favorita           hobbies  idade  \n",
              "0         Cerveja  Praticar esporte     42  \n",
              "1            Café       Assistir TV     58  \n",
              "2            Café        Ler livros     50  "
            ],
            "text/html": [
              "\n",
              "  <div id=\"df-9895a9f3-ac13-486e-a2af-19272c595938\" class=\"colab-df-container\">\n",
              "    <div>\n",
              "<style scoped>\n",
              "    .dataframe tbody tr th:only-of-type {\n",
              "        vertical-align: middle;\n",
              "    }\n",
              "\n",
              "    .dataframe tbody tr th {\n",
              "        vertical-align: top;\n",
              "    }\n",
              "\n",
              "    .dataframe thead th {\n",
              "        text-align: right;\n",
              "    }\n",
              "</style>\n",
              "<table border=\"1\" class=\"dataframe\">\n",
              "  <thead>\n",
              "    <tr style=\"text-align: right;\">\n",
              "      <th></th>\n",
              "      <th>cod_pessoa</th>\n",
              "      <th>data_coleta</th>\n",
              "      <th>genero</th>\n",
              "      <th>data_nascimento</th>\n",
              "      <th>animal_estimacao</th>\n",
              "      <th>clima</th>\n",
              "      <th>bebida_favorita</th>\n",
              "      <th>hobbies</th>\n",
              "      <th>idade</th>\n",
              "    </tr>\n",
              "  </thead>\n",
              "  <tbody>\n",
              "    <tr>\n",
              "      <th>0</th>\n",
              "      <td>10141743</td>\n",
              "      <td>2020-01-01</td>\n",
              "      <td>Masculino</td>\n",
              "      <td>1981-04-25</td>\n",
              "      <td>peixe</td>\n",
              "      <td>frio</td>\n",
              "      <td>Cerveja</td>\n",
              "      <td>Praticar esporte</td>\n",
              "      <td>42</td>\n",
              "    </tr>\n",
              "    <tr>\n",
              "      <th>1</th>\n",
              "      <td>10141860</td>\n",
              "      <td>2020-01-01</td>\n",
              "      <td>Feminino</td>\n",
              "      <td>1966-01-19</td>\n",
              "      <td>peixe</td>\n",
              "      <td>quente</td>\n",
              "      <td>Café</td>\n",
              "      <td>Assistir TV</td>\n",
              "      <td>58</td>\n",
              "    </tr>\n",
              "    <tr>\n",
              "      <th>2</th>\n",
              "      <td>10142548</td>\n",
              "      <td>2020-01-01</td>\n",
              "      <td>Masculino</td>\n",
              "      <td>1973-08-02</td>\n",
              "      <td>tartaruga</td>\n",
              "      <td>frio</td>\n",
              "      <td>Café</td>\n",
              "      <td>Ler livros</td>\n",
              "      <td>50</td>\n",
              "    </tr>\n",
              "  </tbody>\n",
              "</table>\n",
              "</div>\n",
              "    <div class=\"colab-df-buttons\">\n",
              "\n",
              "  <div class=\"colab-df-container\">\n",
              "    <button class=\"colab-df-convert\" onclick=\"convertToInteractive('df-9895a9f3-ac13-486e-a2af-19272c595938')\"\n",
              "            title=\"Convert this dataframe to an interactive table.\"\n",
              "            style=\"display:none;\">\n",
              "\n",
              "  <svg xmlns=\"http://www.w3.org/2000/svg\" height=\"24px\" viewBox=\"0 -960 960 960\">\n",
              "    <path d=\"M120-120v-720h720v720H120Zm60-500h600v-160H180v160Zm220 220h160v-160H400v160Zm0 220h160v-160H400v160ZM180-400h160v-160H180v160Zm440 0h160v-160H620v160ZM180-180h160v-160H180v160Zm440 0h160v-160H620v160Z\"/>\n",
              "  </svg>\n",
              "    </button>\n",
              "\n",
              "  <style>\n",
              "    .colab-df-container {\n",
              "      display:flex;\n",
              "      gap: 12px;\n",
              "    }\n",
              "\n",
              "    .colab-df-convert {\n",
              "      background-color: #E8F0FE;\n",
              "      border: none;\n",
              "      border-radius: 50%;\n",
              "      cursor: pointer;\n",
              "      display: none;\n",
              "      fill: #1967D2;\n",
              "      height: 32px;\n",
              "      padding: 0 0 0 0;\n",
              "      width: 32px;\n",
              "    }\n",
              "\n",
              "    .colab-df-convert:hover {\n",
              "      background-color: #E2EBFA;\n",
              "      box-shadow: 0px 1px 2px rgba(60, 64, 67, 0.3), 0px 1px 3px 1px rgba(60, 64, 67, 0.15);\n",
              "      fill: #174EA6;\n",
              "    }\n",
              "\n",
              "    .colab-df-buttons div {\n",
              "      margin-bottom: 4px;\n",
              "    }\n",
              "\n",
              "    [theme=dark] .colab-df-convert {\n",
              "      background-color: #3B4455;\n",
              "      fill: #D2E3FC;\n",
              "    }\n",
              "\n",
              "    [theme=dark] .colab-df-convert:hover {\n",
              "      background-color: #434B5C;\n",
              "      box-shadow: 0px 1px 3px 1px rgba(0, 0, 0, 0.15);\n",
              "      filter: drop-shadow(0px 1px 2px rgba(0, 0, 0, 0.3));\n",
              "      fill: #FFFFFF;\n",
              "    }\n",
              "  </style>\n",
              "\n",
              "    <script>\n",
              "      const buttonEl =\n",
              "        document.querySelector('#df-9895a9f3-ac13-486e-a2af-19272c595938 button.colab-df-convert');\n",
              "      buttonEl.style.display =\n",
              "        google.colab.kernel.accessAllowed ? 'block' : 'none';\n",
              "\n",
              "      async function convertToInteractive(key) {\n",
              "        const element = document.querySelector('#df-9895a9f3-ac13-486e-a2af-19272c595938');\n",
              "        const dataTable =\n",
              "          await google.colab.kernel.invokeFunction('convertToInteractive',\n",
              "                                                    [key], {});\n",
              "        if (!dataTable) return;\n",
              "\n",
              "        const docLinkHtml = 'Like what you see? Visit the ' +\n",
              "          '<a target=\"_blank\" href=https://colab.research.google.com/notebooks/data_table.ipynb>data table notebook</a>'\n",
              "          + ' to learn more about interactive tables.';\n",
              "        element.innerHTML = '';\n",
              "        dataTable['output_type'] = 'display_data';\n",
              "        await google.colab.output.renderOutput(dataTable, element);\n",
              "        const docLink = document.createElement('div');\n",
              "        docLink.innerHTML = docLinkHtml;\n",
              "        element.appendChild(docLink);\n",
              "      }\n",
              "    </script>\n",
              "  </div>\n",
              "\n",
              "\n",
              "<div id=\"df-83c8df18-a277-426f-b75a-10585bdffd0c\">\n",
              "  <button class=\"colab-df-quickchart\" onclick=\"quickchart('df-83c8df18-a277-426f-b75a-10585bdffd0c')\"\n",
              "            title=\"Suggest charts\"\n",
              "            style=\"display:none;\">\n",
              "\n",
              "<svg xmlns=\"http://www.w3.org/2000/svg\" height=\"24px\"viewBox=\"0 0 24 24\"\n",
              "     width=\"24px\">\n",
              "    <g>\n",
              "        <path d=\"M19 3H5c-1.1 0-2 .9-2 2v14c0 1.1.9 2 2 2h14c1.1 0 2-.9 2-2V5c0-1.1-.9-2-2-2zM9 17H7v-7h2v7zm4 0h-2V7h2v10zm4 0h-2v-4h2v4z\"/>\n",
              "    </g>\n",
              "</svg>\n",
              "  </button>\n",
              "\n",
              "<style>\n",
              "  .colab-df-quickchart {\n",
              "      --bg-color: #E8F0FE;\n",
              "      --fill-color: #1967D2;\n",
              "      --hover-bg-color: #E2EBFA;\n",
              "      --hover-fill-color: #174EA6;\n",
              "      --disabled-fill-color: #AAA;\n",
              "      --disabled-bg-color: #DDD;\n",
              "  }\n",
              "\n",
              "  [theme=dark] .colab-df-quickchart {\n",
              "      --bg-color: #3B4455;\n",
              "      --fill-color: #D2E3FC;\n",
              "      --hover-bg-color: #434B5C;\n",
              "      --hover-fill-color: #FFFFFF;\n",
              "      --disabled-bg-color: #3B4455;\n",
              "      --disabled-fill-color: #666;\n",
              "  }\n",
              "\n",
              "  .colab-df-quickchart {\n",
              "    background-color: var(--bg-color);\n",
              "    border: none;\n",
              "    border-radius: 50%;\n",
              "    cursor: pointer;\n",
              "    display: none;\n",
              "    fill: var(--fill-color);\n",
              "    height: 32px;\n",
              "    padding: 0;\n",
              "    width: 32px;\n",
              "  }\n",
              "\n",
              "  .colab-df-quickchart:hover {\n",
              "    background-color: var(--hover-bg-color);\n",
              "    box-shadow: 0 1px 2px rgba(60, 64, 67, 0.3), 0 1px 3px 1px rgba(60, 64, 67, 0.15);\n",
              "    fill: var(--button-hover-fill-color);\n",
              "  }\n",
              "\n",
              "  .colab-df-quickchart-complete:disabled,\n",
              "  .colab-df-quickchart-complete:disabled:hover {\n",
              "    background-color: var(--disabled-bg-color);\n",
              "    fill: var(--disabled-fill-color);\n",
              "    box-shadow: none;\n",
              "  }\n",
              "\n",
              "  .colab-df-spinner {\n",
              "    border: 2px solid var(--fill-color);\n",
              "    border-color: transparent;\n",
              "    border-bottom-color: var(--fill-color);\n",
              "    animation:\n",
              "      spin 1s steps(1) infinite;\n",
              "  }\n",
              "\n",
              "  @keyframes spin {\n",
              "    0% {\n",
              "      border-color: transparent;\n",
              "      border-bottom-color: var(--fill-color);\n",
              "      border-left-color: var(--fill-color);\n",
              "    }\n",
              "    20% {\n",
              "      border-color: transparent;\n",
              "      border-left-color: var(--fill-color);\n",
              "      border-top-color: var(--fill-color);\n",
              "    }\n",
              "    30% {\n",
              "      border-color: transparent;\n",
              "      border-left-color: var(--fill-color);\n",
              "      border-top-color: var(--fill-color);\n",
              "      border-right-color: var(--fill-color);\n",
              "    }\n",
              "    40% {\n",
              "      border-color: transparent;\n",
              "      border-right-color: var(--fill-color);\n",
              "      border-top-color: var(--fill-color);\n",
              "    }\n",
              "    60% {\n",
              "      border-color: transparent;\n",
              "      border-right-color: var(--fill-color);\n",
              "    }\n",
              "    80% {\n",
              "      border-color: transparent;\n",
              "      border-right-color: var(--fill-color);\n",
              "      border-bottom-color: var(--fill-color);\n",
              "    }\n",
              "    90% {\n",
              "      border-color: transparent;\n",
              "      border-bottom-color: var(--fill-color);\n",
              "    }\n",
              "  }\n",
              "</style>\n",
              "\n",
              "  <script>\n",
              "    async function quickchart(key) {\n",
              "      const quickchartButtonEl =\n",
              "        document.querySelector('#' + key + ' button');\n",
              "      quickchartButtonEl.disabled = true;  // To prevent multiple clicks.\n",
              "      quickchartButtonEl.classList.add('colab-df-spinner');\n",
              "      try {\n",
              "        const charts = await google.colab.kernel.invokeFunction(\n",
              "            'suggestCharts', [key], {});\n",
              "      } catch (error) {\n",
              "        console.error('Error during call to suggestCharts:', error);\n",
              "      }\n",
              "      quickchartButtonEl.classList.remove('colab-df-spinner');\n",
              "      quickchartButtonEl.classList.add('colab-df-quickchart-complete');\n",
              "    }\n",
              "    (() => {\n",
              "      let quickchartButtonEl =\n",
              "        document.querySelector('#df-83c8df18-a277-426f-b75a-10585bdffd0c button');\n",
              "      quickchartButtonEl.style.display =\n",
              "        google.colab.kernel.accessAllowed ? 'block' : 'none';\n",
              "    })();\n",
              "  </script>\n",
              "</div>\n",
              "\n",
              "    </div>\n",
              "  </div>\n"
            ],
            "application/vnd.google.colaboratory.intrinsic+json": {
              "type": "dataframe",
              "variable_name": "df",
              "summary": "{\n  \"name\": \"df\",\n  \"rows\": 2127,\n  \"fields\": [\n    {\n      \"column\": \"cod_pessoa\",\n      \"properties\": {\n        \"dtype\": \"number\",\n        \"std\": 614,\n        \"min\": 10141501,\n        \"max\": 10143627,\n        \"num_unique_values\": 2127,\n        \"samples\": [\n          10141829,\n          10143370,\n          10141883\n        ],\n        \"semantic_type\": \"\",\n        \"description\": \"\"\n      }\n    },\n    {\n      \"column\": \"data_coleta\",\n      \"properties\": {\n        \"dtype\": \"object\",\n        \"num_unique_values\": 363,\n        \"samples\": [\n          \"2020-06-14\",\n          \"2020-02-03\",\n          \"2020-01-16\"\n        ],\n        \"semantic_type\": \"\",\n        \"description\": \"\"\n      }\n    },\n    {\n      \"column\": \"genero\",\n      \"properties\": {\n        \"dtype\": \"category\",\n        \"num_unique_values\": 2,\n        \"samples\": [\n          \"Feminino\",\n          \"Masculino\"\n        ],\n        \"semantic_type\": \"\",\n        \"description\": \"\"\n      }\n    },\n    {\n      \"column\": \"data_nascimento\",\n      \"properties\": {\n        \"dtype\": \"date\",\n        \"min\": \"1950-01-02 00:00:00\",\n        \"max\": \"1999-12-17 00:00:00\",\n        \"num_unique_values\": 2001,\n        \"samples\": [\n          \"1968-11-10 00:00:00\",\n          \"1970-11-04 00:00:00\"\n        ],\n        \"semantic_type\": \"\",\n        \"description\": \"\"\n      }\n    },\n    {\n      \"column\": \"animal_estimacao\",\n      \"properties\": {\n        \"dtype\": \"category\",\n        \"num_unique_values\": 4,\n        \"samples\": [\n          \"tartaruga\",\n          \"cachorro\"\n        ],\n        \"semantic_type\": \"\",\n        \"description\": \"\"\n      }\n    },\n    {\n      \"column\": \"clima\",\n      \"properties\": {\n        \"dtype\": \"category\",\n        \"num_unique_values\": 3,\n        \"samples\": [\n          \"frio\",\n          \"quente\"\n        ],\n        \"semantic_type\": \"\",\n        \"description\": \"\"\n      }\n    },\n    {\n      \"column\": \"bebida_favorita\",\n      \"properties\": {\n        \"dtype\": \"category\",\n        \"num_unique_values\": 6,\n        \"samples\": [\n          \"Cerveja\",\n          \"Caf\\u00e9\"\n        ],\n        \"semantic_type\": \"\",\n        \"description\": \"\"\n      }\n    },\n    {\n      \"column\": \"hobbies\",\n      \"properties\": {\n        \"dtype\": \"category\",\n        \"num_unique_values\": 8,\n        \"samples\": [\n          \"Assistir TV\",\n          \"Pintar quadros\"\n        ],\n        \"semantic_type\": \"\",\n        \"description\": \"\"\n      }\n    },\n    {\n      \"column\": \"idade\",\n      \"properties\": {\n        \"dtype\": \"number\",\n        \"std\": 14,\n        \"min\": 24,\n        \"max\": 74,\n        \"num_unique_values\": 51,\n        \"samples\": [\n          24,\n          71\n        ],\n        \"semantic_type\": \"\",\n        \"description\": \"\"\n      }\n    }\n  ]\n}"
            }
          },
          "metadata": {},
          "execution_count": 22
        }
      ]
    },
    {
      "cell_type": "code",
      "source": [
        "preferencia = df[(df['genero'] == 'Masculino') & (df['clima'] == 'frio') & (df['bebida_favorita'] == 'Chá')]\n",
        "print(round(preferencia['idade'].mean(), 2))\n"
      ],
      "metadata": {
        "colab": {
          "base_uri": "https://localhost:8080/"
        },
        "id": "rJRgEqQBl-X-",
        "outputId": "8ee56491-0e47-40d7-f077-cc8a6ef87bd0"
      },
      "execution_count": null,
      "outputs": [
        {
          "output_type": "stream",
          "name": "stdout",
          "text": [
            "45.99\n"
          ]
        }
      ]
    },
    {
      "cell_type": "markdown",
      "source": [
        "Quantos participantes da pesquisa gostam de cachorro?\n"
      ],
      "metadata": {
        "id": "1llizkucnUmr"
      }
    },
    {
      "cell_type": "code",
      "source": [
        "df_cachorros = df[df['animal_estimacao'] == 'cachorro']\n",
        "print(df_cachorros.shape)\n"
      ],
      "metadata": {
        "colab": {
          "base_uri": "https://localhost:8080/"
        },
        "id": "R_HRSGc9nVGT",
        "outputId": "762a73d8-0088-466f-f14f-09d255652919"
      },
      "execution_count": null,
      "outputs": [
        {
          "output_type": "stream",
          "name": "stdout",
          "text": [
            "(414, 9)\n"
          ]
        }
      ]
    },
    {
      "cell_type": "markdown",
      "source": [
        "Qual é o hobby de menor preferência para os homens?\n"
      ],
      "metadata": {
        "id": "hP0IAtrBnwTO"
      }
    },
    {
      "cell_type": "code",
      "source": [
        "df_homens = df[df['genero'] == 'Masculino']"
      ],
      "metadata": {
        "id": "jl_SDmNUnxEe"
      },
      "execution_count": null,
      "outputs": []
    },
    {
      "cell_type": "code",
      "source": [
        "preferencias = df_homens['hobbies'].value_counts()\n",
        "hobbies_preferido = preferencias.idxmin()\n",
        "\n",
        "print(preferencias)\n",
        "print(hobbies_preferido)"
      ],
      "metadata": {
        "colab": {
          "base_uri": "https://localhost:8080/"
        },
        "id": "qj6hiJX2njE7",
        "outputId": "7a4f96a6-3a3f-4c1a-ad17-f5f71a133305"
      },
      "execution_count": null,
      "outputs": [
        {
          "output_type": "stream",
          "name": "stdout",
          "text": [
            "Dormir                184\n",
            "Aprender algo novo    183\n",
            "Escrever              182\n",
            "Ler livros            177\n",
            "Praticar esporte      175\n",
            "Assistir TV           173\n",
            "Pintar quadros        171\n",
            "Escutar música        153\n",
            "Name: hobbies, dtype: int64\n",
            "Escutar música\n"
          ]
        }
      ]
    },
    {
      "cell_type": "markdown",
      "source": [
        "Qual o hobby de maior preferência entre as mulheres?\n"
      ],
      "metadata": {
        "id": "XgXckupzoE_0"
      }
    },
    {
      "cell_type": "code",
      "source": [
        "preferencias = df_mulheres['hobbies'].value_counts()\n",
        "hobbies_preferido = preferencias.idxmax()\n",
        "\n",
        "print(preferencias)\n",
        "print(hobbies_preferido)"
      ],
      "metadata": {
        "colab": {
          "base_uri": "https://localhost:8080/"
        },
        "id": "xKwb-7qToFmc",
        "outputId": "aca11c35-cbba-49d6-ce65-569d67d6a426"
      },
      "execution_count": null,
      "outputs": [
        {
          "output_type": "stream",
          "name": "stdout",
          "text": [
            "Escutar música        103\n",
            "Escrever               94\n",
            "Praticar esporte       93\n",
            "Dormir                 92\n",
            "Assistir TV            90\n",
            "Pintar quadros         89\n",
            "Aprender algo novo     88\n",
            "Ler livros             80\n",
            "Name: hobbies, dtype: int64\n",
            "Escutar música\n"
          ]
        }
      ]
    },
    {
      "cell_type": "markdown",
      "source": [
        "Crie um gráfico de histograma com 20 barras das idades de todos os homens que gostam de praticar esportes."
      ],
      "metadata": {
        "id": "YxxFDsHGoRyn"
      }
    },
    {
      "cell_type": "code",
      "source": [
        "import matplotlib.pyplot as plt\n",
        "\n",
        "# Filtrar homens que gostam de praticar esportes\n",
        "homens_praticando_esportes = df[(df['genero'] == 'Masculino') & (df['hobbies'] == 'Praticar esporte')]\n",
        "\n",
        "# Criar o histograma\n",
        "plt.hist(homens_praticando_esportes['idade'], bins=20, color='skyblue', edgecolor='black')\n",
        "\n",
        "# Adicionar título e rótulos\n",
        "plt.title('Histograma de Idades de Homens que Gostam de Praticar Esportes')\n",
        "plt.xlabel('Idade')\n",
        "plt.ylabel('Frequência')\n",
        "\n",
        "# Exibir o gráfico\n",
        "plt.show()\n"
      ],
      "metadata": {
        "colab": {
          "base_uri": "https://localhost:8080/",
          "height": 472
        },
        "id": "7Wi-AYDdoSGS",
        "outputId": "17f09b6c-c8d6-4162-d88d-7df5ee489c14"
      },
      "execution_count": null,
      "outputs": [
        {
          "output_type": "display_data",
          "data": {
            "text/plain": [
              "<Figure size 640x480 with 1 Axes>"
            ],
            "image/png": "[encoded data removed]"
          },
          "metadata": {}
        }
      ]
    },
    {
      "cell_type": "markdown",
      "source": [
        "Qual é a proporção entre homens e mulheres que têm afinidade por cachorros e cultivam o hábito de ler livros?"
      ],
      "metadata": {
        "id": "WFeYYTJ_oidA"
      }
    },
    {
      "cell_type": "code",
      "source": [
        "df.columns"
      ],
      "metadata": {
        "colab": {
          "base_uri": "https://localhost:8080/"
        },
        "id": "nRMKOx_Yoq8u",
        "outputId": "a223c78e-fc43-4430-da39-cce7ed97e19f"
      },
      "execution_count": null,
      "outputs": [
        {
          "output_type": "execute_result",
          "data": {
            "text/plain": [
              "Index(['cod_pessoa', 'data_coleta', 'genero', 'data_nascimento',\n",
              "       'animal_estimacao', 'clima', 'bebida_favorita', 'hobbies', 'idade'],\n",
              "      dtype='object')"
            ]
          },
          "metadata": {},
          "execution_count": 29
        }
      ]
    },
    {
      "cell_type": "code",
      "source": [
        "# Filtrar homens e mulheres que têm afinidade por cachorros e cultivam o hábito de ler livros\n",
        "filtro = (df['animal_estimacao'] == 'cachorro') & (df['hobbies'] == 'Ler livros')\n",
        "homens_cachorro_leitura = df[(df['genero'] == 'Masculino') & filtro]\n",
        "mulheres_cachorro_leitura = df[(df['genero'] == 'Feminino') & filtro]\n",
        "\n",
        "# Calcular o número de homens e mulheres nesse grupo\n",
        "num_homens = len(homens_cachorro_leitura)\n",
        "num_mulheres = len(mulheres_cachorro_leitura)\n",
        "\n",
        "# Calcular a proporção entre homens e mulheres\n",
        "proporcao_homens_mulheres = num_homens / num_mulheres if num_mulheres != 0 else float('inf')\n",
        "\n",
        "# Calcular a proporção em porcentagem\n",
        "proporcao_porcentagem = proporcao_homens_mulheres * 100\n",
        "\n",
        "# Imprimir os resultados\n",
        "print(\"Proporção entre homens e mulheres que têm afinidade por cachorros e cultivam o hábito de ler livros:\", proporcao_porcentagem)\n",
        "print(\"Número de homens no grupo:\", num_homens)\n",
        "print(\"Número de mulheres no grupo:\", num_mulheres)\n",
        "print(\"Total de pessoas no grupo:\", len(df[filtro]))\n",
        "\n",
        "print(f'Porcentagem de mulheres: {num_mulheres/len(df[filtro]) * 100:.2f}% e Porcentagem de homens: {num_homens/len(df[filtro]) * 100:.2f}%')\n"
      ],
      "metadata": {
        "colab": {
          "base_uri": "https://localhost:8080/"
        },
        "id": "wphi85cdojN8",
        "outputId": "b08185f7-50ad-4ed2-f4d1-f99fbb14ace3"
      },
      "execution_count": null,
      "outputs": [
        {
          "output_type": "stream",
          "name": "stdout",
          "text": [
            "Proporção entre homens e mulheres que têm afinidade por cachorros e cultivam o hábito de ler livros: 177.77777777777777\n",
            "Número de homens no grupo: 32\n",
            "Número de mulheres no grupo: 18\n",
            "Total de pessoas no grupo: 50\n",
            "Porcentagem de mulheres: 36.00% e Porcentagem de homens: 64.00%\n"
          ]
        }
      ]
    },
    {
      "cell_type": "markdown",
      "source": [
        "Qual é a desvio padrão das idades das pessoas que têm como hobby assistir TV?"
      ],
      "metadata": {
        "id": "OFrF4YJHo_ad"
      }
    },
    {
      "cell_type": "code",
      "source": [
        "# Filtrar pessoas que têm como hobby assistir TV\n",
        "pessoas_assistindo_tv = df[df['hobbies'] == 'Assistir TV']\n",
        "\n",
        "# Calcular o desvio padrão das idades dessas pessoas\n",
        "desvio_padrao_idades = pessoas_assistindo_tv['idade'].std()\n",
        "\n",
        "print(\"Desvio padrão das idades das pessoas que têm como hobby assistir TV:\", desvio_padrao_idades)\n"
      ],
      "metadata": {
        "colab": {
          "base_uri": "https://localhost:8080/"
        },
        "id": "SZR5w4Cbo6ff",
        "outputId": "8a16ef54-a9d1-4145-8512-ee6c0e24f899"
      },
      "execution_count": null,
      "outputs": [
        {
          "output_type": "stream",
          "name": "stdout",
          "text": [
            "Desvio padrão das idades das pessoas que têm como hobby assistir TV: 14.335914530241734\n"
          ]
        }
      ]
    }
  ]
}